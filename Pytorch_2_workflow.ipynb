{
  "nbformat": 4,
  "nbformat_minor": 0,
  "metadata": {
    "colab": {
      "provenance": [],
      "authorship_tag": "ABX9TyNwmeOznqegtDv/90irQAfV",
      "include_colab_link": true
    },
    "kernelspec": {
      "name": "python3",
      "display_name": "Python 3"
    },
    "language_info": {
      "name": "python"
    }
  },
  "cells": [
    {
      "cell_type": "markdown",
      "metadata": {
        "id": "view-in-github",
        "colab_type": "text"
      },
      "source": [
        "<a href=\"https://colab.research.google.com/github/Serahverg-8/Deep-Learning-pytorch/blob/main/Pytorch_2_workflow.ipynb\" target=\"_parent\"><img src=\"https://colab.research.google.com/assets/colab-badge.svg\" alt=\"Open In Colab\"/></a>"
      ]
    },
    {
      "cell_type": "code",
      "execution_count": 1,
      "metadata": {
        "id": "gQyHfOfYdkUs"
      },
      "outputs": [],
      "source": [
        "import torch\n",
        "from torch import nn\n",
        "#nn building blocks of neural nets\n",
        "import matplotlib.pyplot as plt\n"
      ]
    },
    {
      "cell_type": "markdown",
      "source": [
        "1. get Data ready\n",
        "2. turn into tensors\n",
        "3. build or choose training model --- > loss function and optimizer\n",
        "4.fit model to make prediction\n",
        "5.Evaluate the model\n",
        "6.Improve the model - iteration\n",
        "7. save model"
      ],
      "metadata": {
        "id": "ecm_1p1ido2K"
      }
    },
    {
      "cell_type": "markdown",
      "source": [
        "#Getting data reading(turning it into tensors)"
      ],
      "metadata": {
        "id": "bOYOfWy6eK61"
      }
    },
    {
      "cell_type": "code",
      "source": [
        "#creating data - linear regression. (known parameters set by us)\n",
        "#only one feature\n",
        "weight = 0.7\n",
        "bias = 0.3\n",
        "\n",
        "\n",
        "#create\n",
        "start = 0\n",
        "end = 1\n",
        "step = 0.02\n",
        "\n",
        "X = torch.arange(start,end,step).unsqueeze(dim=1)\n",
        "#usually we work with 2d so each row is one input 50 X 1 . so add 1 to dim 1\n",
        "\n",
        "X.shape"
      ],
      "metadata": {
        "colab": {
          "base_uri": "https://localhost:8080/"
        },
        "id": "e3wDGADrfp5b",
        "outputId": "92451f9c-5b33-4bae-938b-4951a22fa708"
      },
      "execution_count": 2,
      "outputs": [
        {
          "output_type": "execute_result",
          "data": {
            "text/plain": [
              "torch.Size([50, 1])"
            ]
          },
          "metadata": {},
          "execution_count": 2
        }
      ]
    },
    {
      "cell_type": "code",
      "source": [
        "X\n"
      ],
      "metadata": {
        "colab": {
          "base_uri": "https://localhost:8080/"
        },
        "id": "_wsRz0wzgIl1",
        "outputId": "439519cd-cc1d-4321-b645-8fb2aa4a1308"
      },
      "execution_count": 3,
      "outputs": [
        {
          "output_type": "execute_result",
          "data": {
            "text/plain": [
              "tensor([[0.0000],\n",
              "        [0.0200],\n",
              "        [0.0400],\n",
              "        [0.0600],\n",
              "        [0.0800],\n",
              "        [0.1000],\n",
              "        [0.1200],\n",
              "        [0.1400],\n",
              "        [0.1600],\n",
              "        [0.1800],\n",
              "        [0.2000],\n",
              "        [0.2200],\n",
              "        [0.2400],\n",
              "        [0.2600],\n",
              "        [0.2800],\n",
              "        [0.3000],\n",
              "        [0.3200],\n",
              "        [0.3400],\n",
              "        [0.3600],\n",
              "        [0.3800],\n",
              "        [0.4000],\n",
              "        [0.4200],\n",
              "        [0.4400],\n",
              "        [0.4600],\n",
              "        [0.4800],\n",
              "        [0.5000],\n",
              "        [0.5200],\n",
              "        [0.5400],\n",
              "        [0.5600],\n",
              "        [0.5800],\n",
              "        [0.6000],\n",
              "        [0.6200],\n",
              "        [0.6400],\n",
              "        [0.6600],\n",
              "        [0.6800],\n",
              "        [0.7000],\n",
              "        [0.7200],\n",
              "        [0.7400],\n",
              "        [0.7600],\n",
              "        [0.7800],\n",
              "        [0.8000],\n",
              "        [0.8200],\n",
              "        [0.8400],\n",
              "        [0.8600],\n",
              "        [0.8800],\n",
              "        [0.9000],\n",
              "        [0.9200],\n",
              "        [0.9400],\n",
              "        [0.9600],\n",
              "        [0.9800]])"
            ]
          },
          "metadata": {},
          "execution_count": 3
        }
      ]
    },
    {
      "cell_type": "code",
      "source": [
        "y = X.mul(weight) + bias"
      ],
      "metadata": {
        "id": "GxLqzeV9gJSq"
      },
      "execution_count": 4,
      "outputs": []
    },
    {
      "cell_type": "code",
      "source": [
        "y"
      ],
      "metadata": {
        "colab": {
          "base_uri": "https://localhost:8080/"
        },
        "id": "w-vEAEmDgVql",
        "outputId": "e4b81bcd-ad5f-4d32-e169-d44224521e0f"
      },
      "execution_count": 5,
      "outputs": [
        {
          "output_type": "execute_result",
          "data": {
            "text/plain": [
              "tensor([[0.3000],\n",
              "        [0.3140],\n",
              "        [0.3280],\n",
              "        [0.3420],\n",
              "        [0.3560],\n",
              "        [0.3700],\n",
              "        [0.3840],\n",
              "        [0.3980],\n",
              "        [0.4120],\n",
              "        [0.4260],\n",
              "        [0.4400],\n",
              "        [0.4540],\n",
              "        [0.4680],\n",
              "        [0.4820],\n",
              "        [0.4960],\n",
              "        [0.5100],\n",
              "        [0.5240],\n",
              "        [0.5380],\n",
              "        [0.5520],\n",
              "        [0.5660],\n",
              "        [0.5800],\n",
              "        [0.5940],\n",
              "        [0.6080],\n",
              "        [0.6220],\n",
              "        [0.6360],\n",
              "        [0.6500],\n",
              "        [0.6640],\n",
              "        [0.6780],\n",
              "        [0.6920],\n",
              "        [0.7060],\n",
              "        [0.7200],\n",
              "        [0.7340],\n",
              "        [0.7480],\n",
              "        [0.7620],\n",
              "        [0.7760],\n",
              "        [0.7900],\n",
              "        [0.8040],\n",
              "        [0.8180],\n",
              "        [0.8320],\n",
              "        [0.8460],\n",
              "        [0.8600],\n",
              "        [0.8740],\n",
              "        [0.8880],\n",
              "        [0.9020],\n",
              "        [0.9160],\n",
              "        [0.9300],\n",
              "        [0.9440],\n",
              "        [0.9580],\n",
              "        [0.9720],\n",
              "        [0.9860]])"
            ]
          },
          "metadata": {},
          "execution_count": 5
        }
      ]
    },
    {
      "cell_type": "code",
      "source": [
        "plt.plot(X,y)"
      ],
      "metadata": {
        "colab": {
          "base_uri": "https://localhost:8080/",
          "height": 448
        },
        "id": "ACbmG8sDgWej",
        "outputId": "03ea4851-2f21-4410-ceda-dc49543921d3"
      },
      "execution_count": 6,
      "outputs": [
        {
          "output_type": "execute_result",
          "data": {
            "text/plain": [
              "[<matplotlib.lines.Line2D at 0x7de8a1e1aad0>]"
            ]
          },
          "metadata": {},
          "execution_count": 6
        },
        {
          "output_type": "display_data",
          "data": {
            "text/plain": [
              "<Figure size 640x480 with 1 Axes>"
            ],
            "image/png": "[encoded data removed]"
          },
          "metadata": {}
        }
      ]
    },
    {
      "cell_type": "markdown",
      "source": [
        "Split into train and test\n",
        "\n",
        "We do this for genaralization ( course material, practice test,  final exam)"
      ],
      "metadata": {
        "id": "-v68Wuzlgax-"
      }
    },
    {
      "cell_type": "code",
      "source": [
        "train_split = int(0.8 * len(X))\n",
        "\n",
        "X_train = X[:train_split]\n",
        "y_train = y[:train_split]\n",
        "\n",
        "X_test = X[train_split:]\n",
        "y_test = y[train_split:]"
      ],
      "metadata": {
        "id": "cfOtstNfhxNT"
      },
      "execution_count": 7,
      "outputs": []
    },
    {
      "cell_type": "code",
      "source": [
        "print(X_train.shape,y_train.shape,X_test.shape,y_test.shape)"
      ],
      "metadata": {
        "colab": {
          "base_uri": "https://localhost:8080/"
        },
        "id": "e48duftuiQiy",
        "outputId": "cba2da59-4ef2-4a21-99d7-8829c462eb67"
      },
      "execution_count": 8,
      "outputs": [
        {
          "output_type": "stream",
          "name": "stdout",
          "text": [
            "torch.Size([40, 1]) torch.Size([40, 1]) torch.Size([10, 1]) torch.Size([10, 1])\n"
          ]
        }
      ]
    },
    {
      "cell_type": "code",
      "source": [
        "#Visualization functions\n",
        "\n"
      ],
      "metadata": {
        "id": "Pa_MP8o_imq_"
      },
      "execution_count": 9,
      "outputs": []
    },
    {
      "cell_type": "code",
      "source": [
        "def visualize(X_train,y_train,X_test,y_test,predictions=None):\n",
        "  plt.figure(figsize=(10,5))\n",
        "  plt.scatter(X_train,y_train,c=\"blue\",s=4,label=\"Training Data\")\n",
        "  plt.scatter(X_test,y_test,c=\"red\",s=4,label=\"Test Data\")\n",
        "  if predictions is not  None:\n",
        "      plt.scatter(X_test,predictions,c=\"black\",s=3,label=\"Predicted\")\n",
        "  plt.legend()\n",
        "  plt.plot()"
      ],
      "metadata": {
        "id": "5YKz9FgXiu8D"
      },
      "execution_count": 10,
      "outputs": []
    },
    {
      "cell_type": "code",
      "source": [
        "visualize(X_train,y_train,X_test,y_test)"
      ],
      "metadata": {
        "colab": {
          "base_uri": "https://localhost:8080/",
          "height": 445
        },
        "id": "Y98SjyV0jwd_",
        "outputId": "3353bb7c-4857-4934-f45e-9f0095252502"
      },
      "execution_count": 11,
      "outputs": [
        {
          "output_type": "display_data",
          "data": {
            "text/plain": [
              "<Figure size 1000x500 with 1 Axes>"
            ],
            "image/png": "[encoded data removed]"
          },
          "metadata": {}
        }
      ]
    },
    {
      "cell_type": "markdown",
      "source": [
        "#Building Model"
      ],
      "metadata": {
        "id": "5ncr6LHpje_S"
      }
    },
    {
      "cell_type": "markdown",
      "source": [
        "####read about torch.nn.module.\n",
        "PyTorch has four (give or take) essential modules you can use to create almost any kind of neural network you can imagine.\n",
        "\n",
        "They are torch.nn, torch.optim, torch.utils.data.Dataset and torch.utils.data.DataLoader. For now, we'll focus on the first two and get to the other two later (though you may be able to guess what they do).\n",
        "\n",
        "PyTorch module\tWhat does it do?  \n",
        "\n",
        "**torch.nn**\t  \n",
        "Contains all of the building blocks for computational graphs (essentially a series of computations executed in a particular way).  \n",
        "\n",
        "**torch.nn.Parameter**:-  \n",
        "\n",
        "Stores tensors that can be used with nn.Module. If requires_grad=True gradients (used for updating model parameters via gradient descent) are calculated automatically, this is often referred to as \"autograd\".\n",
        "\n",
        "\n",
        "\n",
        "**torch.nn.Module**:-\n",
        "The base class for all neural network modules, all the building blocks for neural networks are subclasses. If you're building a neural network in PyTorch, your models should subclass nn.Module. Requires a forward() method be implemented.  \n",
        "\n",
        "**torch.optim**:-  \n",
        "Contains various optimization algorithms (these tell the model parameters stored in nn.Parameter how to best change to improve gradient descent and in turn reduce the loss).  \n",
        "\n",
        "**def forward()**:-  \n",
        "All nn.Module subclasses require a forward() method, this defines the computation that will take place on the data passed to the particular nn.Module (e.g. the linear regression formula above).\n",
        "  \n",
        "If the above sounds complex, think of like this, almost everything in a PyTorch neural network comes from torch.nn,\n",
        "\n",
        "nn.Module - contains the larger building blocks (layers).\n",
        "\n",
        "nn.Parameter contains the smaller parameters like weights and biases (put these together to make nn.Module(s)).\n",
        "\n",
        "forward() tells the larger blocks how to make calculations on inputs (tensors full of data) within nn.Module(s).\n",
        "\n",
        "torch.optim contains optimization methods on how to improve the parameters within nn.Parameter to better represent input data.\n"
      ],
      "metadata": {
        "id": "7gAAfyW2y9wu"
      }
    },
    {
      "cell_type": "code",
      "source": [
        "#nn.module has almost everything that builds pytorch\n",
        "\n",
        "#In the documentation It is said that the models we build shuouls also subclass nn.models. So nn.models is the superclass here.\n",
        "\n",
        "\n",
        "\n",
        "class Lin_reg(nn.Module):\n",
        "  def __init__(self):\n",
        "    super().__init__()\n",
        "    #initial\n",
        "\n",
        "    # we have only one parameter\n",
        "\n",
        "    #weigths\n",
        "    self.weights=nn.Parameter(torch.randn(1,requires_grad=True))\n",
        "\n",
        "    #nn.parameter is a tensor itself .when assigned with modules , they act as attribute parameter.\n",
        "    #bias\n",
        "    self.bias=nn.Parameter(torch.randn(1,requires_grad=True))\n",
        "\n",
        "\n",
        "    #Forward method is to define the computation in the model\n",
        "    #input and returns type torch.Trnsor\n",
        "  def forward(self, x: torch.Tensor) -> torch.Tensor:\n",
        "      return self.weights*x + self.bias\n",
        "\n",
        "    # so far Our model will take the random weight and the random bias and plug it into the linear regression model equation.\n",
        "\n",
        "    #Next we need to check the error. Hence we need to optimize. torch.optim\n"
      ],
      "metadata": {
        "id": "RqoWZr4qk7zT"
      },
      "execution_count": 12,
      "outputs": []
    },
    {
      "cell_type": "code",
      "source": [],
      "metadata": {
        "id": "MwTTvelR2QY1"
      },
      "execution_count": 12,
      "outputs": []
    },
    {
      "cell_type": "markdown",
      "source": [
        "Lets check our models parameters now"
      ],
      "metadata": {
        "id": "fbq3yK7S1V3S"
      }
    },
    {
      "cell_type": "code",
      "source": [
        "torch.manual_seed(42)\n",
        "\n",
        "model_0= Lin_reg()"
      ],
      "metadata": {
        "id": "PlJmPyTj1aZX"
      },
      "execution_count": 13,
      "outputs": []
    },
    {
      "cell_type": "code",
      "source": [
        "model_0.parameters()"
      ],
      "metadata": {
        "colab": {
          "base_uri": "https://localhost:8080/"
        },
        "id": "apaxXPA11l0F",
        "outputId": "f3b81e48-03c4-4d13-e01e-d1fe06c87c07"
      },
      "execution_count": 14,
      "outputs": [
        {
          "output_type": "execute_result",
          "data": {
            "text/plain": [
              "<generator object Module.parameters at 0x7de8a1f87c30>"
            ]
          },
          "metadata": {},
          "execution_count": 14
        }
      ]
    },
    {
      "cell_type": "code",
      "source": [
        "list(model_0.parameters()) #--- > these are the parameters we have set"
      ],
      "metadata": {
        "colab": {
          "base_uri": "https://localhost:8080/"
        },
        "id": "1C0kADX52mmp",
        "outputId": "afac6f4f-5808-48c6-aedb-f605f08e3b56"
      },
      "execution_count": 15,
      "outputs": [
        {
          "output_type": "execute_result",
          "data": {
            "text/plain": [
              "[Parameter containing:\n",
              " tensor([0.3367], requires_grad=True),\n",
              " Parameter containing:\n",
              " tensor([0.1288], requires_grad=True)]"
            ]
          },
          "metadata": {},
          "execution_count": 15
        }
      ]
    },
    {
      "cell_type": "code",
      "source": [
        "model_0.state_dict()"
      ],
      "metadata": {
        "colab": {
          "base_uri": "https://localhost:8080/"
        },
        "id": "GQ3D3WRR7gTg",
        "outputId": "fbb4b879-725b-4881-8971-dc8f36c8ee21"
      },
      "execution_count": 16,
      "outputs": [
        {
          "output_type": "execute_result",
          "data": {
            "text/plain": [
              "OrderedDict([('weights', tensor([0.3367])), ('bias', tensor([0.1288]))])"
            ]
          },
          "metadata": {},
          "execution_count": 16
        }
      ]
    },
    {
      "cell_type": "code",
      "source": [
        "#actual values :\n",
        "\n",
        "print(weight,bias)"
      ],
      "metadata": {
        "colab": {
          "base_uri": "https://localhost:8080/"
        },
        "id": "gSZUSC402q_C",
        "outputId": "771e78a1-770d-426c-e8cf-b84a2eb4ef06"
      },
      "execution_count": 17,
      "outputs": [
        {
          "output_type": "stream",
          "name": "stdout",
          "text": [
            "0.7 0.3\n"
          ]
        }
      ]
    },
    {
      "cell_type": "code",
      "source": [
        "#we need to get as close to these values\n"
      ],
      "metadata": {
        "id": "c4RVTeLd2_7J"
      },
      "execution_count": 18,
      "outputs": []
    },
    {
      "cell_type": "markdown",
      "source": [
        "To make the predictions  ---->   we use torch.inference_mode()\n"
      ],
      "metadata": {
        "id": "b66Q6ZxG3I8D"
      }
    },
    {
      "cell_type": "code",
      "source": [
        "with torch.inference_mode():\n",
        "  y_predicted=model_0(X_test)\n",
        "\n",
        "y_predicted[:10]"
      ],
      "metadata": {
        "colab": {
          "base_uri": "https://localhost:8080/"
        },
        "id": "V8nfyqm63RkN",
        "outputId": "0e0928ce-7fb2-42ea-cee5-bc8e6ba62b9c"
      },
      "execution_count": 19,
      "outputs": [
        {
          "output_type": "execute_result",
          "data": {
            "text/plain": [
              "tensor([[0.3982],\n",
              "        [0.4049],\n",
              "        [0.4116],\n",
              "        [0.4184],\n",
              "        [0.4251],\n",
              "        [0.4318],\n",
              "        [0.4386],\n",
              "        [0.4453],\n",
              "        [0.4520],\n",
              "        [0.4588]])"
            ]
          },
          "metadata": {},
          "execution_count": 19
        }
      ]
    },
    {
      "cell_type": "code",
      "source": [
        "visualize(X_train,y_train,X_test,y_test,y_predicted)"
      ],
      "metadata": {
        "colab": {
          "base_uri": "https://localhost:8080/",
          "height": 445
        },
        "id": "V1Ig9i8S3nOB",
        "outputId": "4b021b78-4cc7-47a1-8f21-dac682fc5ccf"
      },
      "execution_count": 20,
      "outputs": [
        {
          "output_type": "display_data",
          "data": {
            "text/plain": [
              "<Figure size 1000x500 with 1 Axes>"
            ],
            "image/png": "[encoded data removed]"
          },
          "metadata": {}
        }
      ]
    },
    {
      "cell_type": "markdown",
      "source": [
        "so off!!\n",
        "\n",
        "\n",
        "\n",
        "Note: in older PyTorch code you might also see torch.no_grad().\n",
        "\n",
        "```\n",
        "with torch.no_grad():\n",
        "y_preds = model_0(X_test)\n",
        "```\n",
        "\n",
        "    "
      ],
      "metadata": {
        "id": "W2H7ka3m4Vuq"
      }
    },
    {
      "cell_type": "markdown",
      "source": [
        "#Train Model"
      ],
      "metadata": {
        "id": "5-B9NrS25NMA"
      }
    },
    {
      "cell_type": "markdown",
      "source": [
        "WE use loss functions to optimize. Used to measure how wrong our models are from he real values. from torch.nn. It is also called cost function"
      ],
      "metadata": {
        "id": "hjd_-vJR7ACX"
      }
    },
    {
      "cell_type": "markdown",
      "source": [
        "Use any from torch.nn loss functions\n",
        "\n",
        "https://pytorch.org/docs/stable/nn.html#loss-functions"
      ],
      "metadata": {
        "id": "-oExoyiz7l7O"
      }
    },
    {
      "cell_type": "markdown",
      "source": [
        "Lets use L1 loss which is the Mean absolue error"
      ],
      "metadata": {
        "id": "NC7nFwHK70x1"
      }
    },
    {
      "cell_type": "code",
      "source": [
        "#set up a loss function using nn.L1loss\n",
        "\n",
        "loss_function = nn.L1Loss()"
      ],
      "metadata": {
        "id": "AxlhP-fz8BZS"
      },
      "execution_count": 21,
      "outputs": []
    },
    {
      "cell_type": "code",
      "source": [
        "#set an optimizer\n",
        "\n",
        "#torch.optim --- > has many different optimizers.\n",
        "\n",
        "\n",
        "#eg Adam SDG(stichastic gradient descent) etc  (try and see which works best)"
      ],
      "metadata": {
        "id": "uRDTnTuy8QcS"
      },
      "execution_count": 23,
      "outputs": []
    },
    {
      "cell_type": "markdown",
      "source": [
        "https://pytorch.org/docs/stable/optim.html"
      ],
      "metadata": {
        "id": "DTE7bxa8DjgG"
      }
    },
    {
      "cell_type": "code",
      "source": [
        "  optimizer = torch.optim.SGD(params=model_0.parameters(),lr=0.01)\n",
        "\n",
        "  #learning rate tell the step value +oer - 0.01 in this case"
      ],
      "metadata": {
        "id": "vsrrfTbkDneZ"
      },
      "execution_count": 28,
      "outputs": []
    },
    {
      "cell_type": "markdown",
      "source": [
        "params:-   \n",
        " is the target model parameters you'd like to optimize (e.g. the weights and bias values we randomly set before).  \n",
        "\n",
        "lr : -   \n",
        "is the learning rate you'd like the optimizer to update the parameters at, higher means the optimizer will try larger updates (these can sometimes be too large and the optimizer will fail to work), lower means the optimizer will try smaller updates (these can sometimes be too small and the optimizer will take too long to find the ideal values). The learning rate is considered a hyperparameter (because it's set by a machine learning engineer). Common starting values for the learning rate are 0.01, 0.001, 0.0001, however, these can also be adjusted over time (this is called learning rate scheduling).\n"
      ],
      "metadata": {
        "id": "KJHYKZSJE-EU"
      }
    },
    {
      "cell_type": "markdown",
      "source": [
        "## #Building the training loop"
      ],
      "metadata": {
        "id": "KbnDZAQ0GNAm"
      }
    },
    {
      "cell_type": "code",
      "source": [
        "epochs = 1\n",
        "\n",
        "#one time through all the data#hyper parameters because we set them\n",
        "\n"
      ],
      "metadata": {
        "id": "J9Y_ZrSSGVbj"
      },
      "execution_count": 29,
      "outputs": []
    },
    {
      "cell_type": "code",
      "source": [
        "for epochs in range(epochs):\n",
        "\n",
        "\n",
        "  model_0.train()  # sets all the parameters in the model that require gradient tracking to true.This turns on gradient tracking for the model-building\n",
        "  #step 1: forward pass  - train\n",
        "\n",
        "  y_pred=model_0(X_train)\n",
        "\n",
        "  #step 2: calculate the loss:\n",
        "\n",
        "  loss = loss_function(X_train,y_train)\n",
        "\n",
        "  #step 3 : Optimize zero grad: Sets the gradients of all optimized torch.Tensor s to zero. Every epoch the gradients are stored and accumulated. clear them\n",
        "\n",
        "  optimizer.zero_grad()\n",
        "\n",
        "  #step 4. Perform backpropagation on the loss\n",
        "  loss.backward()\n",
        "\n",
        "  #step 5 : perform gradient descent\n",
        "  optimizer.step()\n",
        "\n",
        "  model_0.eval() # turns off the gradient tracking\n"
      ],
      "metadata": {
        "id": "Sev1daEYRQ3n"
      },
      "execution_count": null,
      "outputs": []
    }
  ]
}