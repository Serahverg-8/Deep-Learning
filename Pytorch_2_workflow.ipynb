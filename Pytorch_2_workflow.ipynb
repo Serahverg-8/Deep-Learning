{
  "nbformat": 4,
  "nbformat_minor": 0,
  "metadata": {
    "colab": {
      "provenance": [],
      "gpuType": "T4",
      "authorship_tag": "ABX9TyPHBuKBrlYPV//s6x4SIG2t",
      "include_colab_link": true
    },
    "kernelspec": {
      "name": "python3",
      "display_name": "Python 3"
    },
    "language_info": {
      "name": "python"
    },
    "accelerator": "GPU"
  },
  "cells": [
    {
      "cell_type": "markdown",
      "metadata": {
        "id": "view-in-github",
        "colab_type": "text"
      },
      "source": [
        "<a href=\"https://colab.research.google.com/github/Serahverg-8/Deep-Learning-pytorch/blob/main/Pytorch_2_workflow.ipynb\" target=\"_parent\"><img src=\"https://colab.research.google.com/assets/colab-badge.svg\" alt=\"Open In Colab\"/></a>"
      ]
    },
    {
      "cell_type": "code",
      "execution_count": 1,
      "metadata": {
        "id": "gQyHfOfYdkUs"
      },
      "outputs": [],
      "source": [
        "import torch\n",
        "from torch import nn\n",
        "#nn building blocks of neural nets\n",
        "import matplotlib.pyplot as plt\n"
      ]
    },
    {
      "cell_type": "markdown",
      "source": [
        "1. get Data ready\n",
        "2. turn into tensors\n",
        "3. build or choose training model --- > loss function and optimizer\n",
        "4.fit model to make prediction\n",
        "5.Evaluate the model\n",
        "6.Improve the model - iteration\n",
        "7. save model"
      ],
      "metadata": {
        "id": "ecm_1p1ido2K"
      }
    },
    {
      "cell_type": "markdown",
      "source": [
        "#Getting data reading(turning it into tensors)"
      ],
      "metadata": {
        "id": "bOYOfWy6eK61"
      }
    },
    {
      "cell_type": "code",
      "source": [
        "#creating data - linear regression. (known parameters set by us)\n",
        "#only one feature\n",
        "weight = 0.7\n",
        "bias = 0.3\n",
        "\n",
        "\n",
        "#create\n",
        "start = 0\n",
        "end = 1\n",
        "step = 0.02\n",
        "\n",
        "X = torch.arange(start,end,step).unsqueeze(dim=1)\n",
        "#usually we work with 2d so each row is one input 50 X 1 . so add 1 to dim 1\n",
        "\n",
        "X.shape"
      ],
      "metadata": {
        "colab": {
          "base_uri": "https://localhost:8080/"
        },
        "id": "e3wDGADrfp5b",
        "outputId": "c604d1e2-44e0-415c-944b-a78bb6bfa9a6"
      },
      "execution_count": 2,
      "outputs": [
        {
          "output_type": "execute_result",
          "data": {
            "text/plain": [
              "torch.Size([50, 1])"
            ]
          },
          "metadata": {},
          "execution_count": 2
        }
      ]
    },
    {
      "cell_type": "code",
      "source": [
        "X\n"
      ],
      "metadata": {
        "colab": {
          "base_uri": "https://localhost:8080/"
        },
        "id": "_wsRz0wzgIl1",
        "outputId": "c10cb24c-4781-4c3d-9f70-d24da7c2b5b6"
      },
      "execution_count": 3,
      "outputs": [
        {
          "output_type": "execute_result",
          "data": {
            "text/plain": [
              "tensor([[0.0000],\n",
              "        [0.0200],\n",
              "        [0.0400],\n",
              "        [0.0600],\n",
              "        [0.0800],\n",
              "        [0.1000],\n",
              "        [0.1200],\n",
              "        [0.1400],\n",
              "        [0.1600],\n",
              "        [0.1800],\n",
              "        [0.2000],\n",
              "        [0.2200],\n",
              "        [0.2400],\n",
              "        [0.2600],\n",
              "        [0.2800],\n",
              "        [0.3000],\n",
              "        [0.3200],\n",
              "        [0.3400],\n",
              "        [0.3600],\n",
              "        [0.3800],\n",
              "        [0.4000],\n",
              "        [0.4200],\n",
              "        [0.4400],\n",
              "        [0.4600],\n",
              "        [0.4800],\n",
              "        [0.5000],\n",
              "        [0.5200],\n",
              "        [0.5400],\n",
              "        [0.5600],\n",
              "        [0.5800],\n",
              "        [0.6000],\n",
              "        [0.6200],\n",
              "        [0.6400],\n",
              "        [0.6600],\n",
              "        [0.6800],\n",
              "        [0.7000],\n",
              "        [0.7200],\n",
              "        [0.7400],\n",
              "        [0.7600],\n",
              "        [0.7800],\n",
              "        [0.8000],\n",
              "        [0.8200],\n",
              "        [0.8400],\n",
              "        [0.8600],\n",
              "        [0.8800],\n",
              "        [0.9000],\n",
              "        [0.9200],\n",
              "        [0.9400],\n",
              "        [0.9600],\n",
              "        [0.9800]])"
            ]
          },
          "metadata": {},
          "execution_count": 3
        }
      ]
    },
    {
      "cell_type": "code",
      "source": [
        "y = X.mul(weight) + bias"
      ],
      "metadata": {
        "id": "GxLqzeV9gJSq"
      },
      "execution_count": 4,
      "outputs": []
    },
    {
      "cell_type": "code",
      "source": [
        "y"
      ],
      "metadata": {
        "colab": {
          "base_uri": "https://localhost:8080/"
        },
        "id": "w-vEAEmDgVql",
        "outputId": "4df1dc0d-48e9-4a4d-c7eb-ffbe8bea498c"
      },
      "execution_count": 5,
      "outputs": [
        {
          "output_type": "execute_result",
          "data": {
            "text/plain": [
              "tensor([[0.3000],\n",
              "        [0.3140],\n",
              "        [0.3280],\n",
              "        [0.3420],\n",
              "        [0.3560],\n",
              "        [0.3700],\n",
              "        [0.3840],\n",
              "        [0.3980],\n",
              "        [0.4120],\n",
              "        [0.4260],\n",
              "        [0.4400],\n",
              "        [0.4540],\n",
              "        [0.4680],\n",
              "        [0.4820],\n",
              "        [0.4960],\n",
              "        [0.5100],\n",
              "        [0.5240],\n",
              "        [0.5380],\n",
              "        [0.5520],\n",
              "        [0.5660],\n",
              "        [0.5800],\n",
              "        [0.5940],\n",
              "        [0.6080],\n",
              "        [0.6220],\n",
              "        [0.6360],\n",
              "        [0.6500],\n",
              "        [0.6640],\n",
              "        [0.6780],\n",
              "        [0.6920],\n",
              "        [0.7060],\n",
              "        [0.7200],\n",
              "        [0.7340],\n",
              "        [0.7480],\n",
              "        [0.7620],\n",
              "        [0.7760],\n",
              "        [0.7900],\n",
              "        [0.8040],\n",
              "        [0.8180],\n",
              "        [0.8320],\n",
              "        [0.8460],\n",
              "        [0.8600],\n",
              "        [0.8740],\n",
              "        [0.8880],\n",
              "        [0.9020],\n",
              "        [0.9160],\n",
              "        [0.9300],\n",
              "        [0.9440],\n",
              "        [0.9580],\n",
              "        [0.9720],\n",
              "        [0.9860]])"
            ]
          },
          "metadata": {},
          "execution_count": 5
        }
      ]
    },
    {
      "cell_type": "code",
      "source": [
        "plt.plot(X,y)"
      ],
      "metadata": {
        "colab": {
          "base_uri": "https://localhost:8080/",
          "height": 448
        },
        "id": "ACbmG8sDgWej",
        "outputId": "250b6f78-4d69-41ea-fe51-1103c7290784"
      },
      "execution_count": 6,
      "outputs": [
        {
          "output_type": "execute_result",
          "data": {
            "text/plain": [
              "[<matplotlib.lines.Line2D at 0x7d0c477edf60>]"
            ]
          },
          "metadata": {},
          "execution_count": 6
        },
        {
          "output_type": "display_data",
          "data": {
            "text/plain": [
              "<Figure size 640x480 with 1 Axes>"
            ],
            "image/png": "[encoded data removed]"
          },
          "metadata": {}
        }
      ]
    },
    {
      "cell_type": "markdown",
      "source": [
        "Split into train and test\n",
        "\n",
        "We do this for genaralization ( course material, practice test,  final exam)"
      ],
      "metadata": {
        "id": "-v68Wuzlgax-"
      }
    },
    {
      "cell_type": "code",
      "source": [
        "train_split = int(0.8 * len(X))\n",
        "\n",
        "X_train = X[:train_split]\n",
        "y_train = y[:train_split]\n",
        "\n",
        "X_test = X[train_split:]\n",
        "y_test = y[train_split:]"
      ],
      "metadata": {
        "id": "cfOtstNfhxNT"
      },
      "execution_count": 7,
      "outputs": []
    },
    {
      "cell_type": "code",
      "source": [
        "print(X_train.shape,y_train.shape,X_test.shape,y_test.shape)"
      ],
      "metadata": {
        "colab": {
          "base_uri": "https://localhost:8080/"
        },
        "id": "e48duftuiQiy",
        "outputId": "f8ce9b92-760b-48b1-b130-e64fd37a12ad"
      },
      "execution_count": 8,
      "outputs": [
        {
          "output_type": "stream",
          "name": "stdout",
          "text": [
            "torch.Size([40, 1]) torch.Size([40, 1]) torch.Size([10, 1]) torch.Size([10, 1])\n"
          ]
        }
      ]
    },
    {
      "cell_type": "code",
      "source": [
        "#Visualization functions\n",
        "\n"
      ],
      "metadata": {
        "id": "Pa_MP8o_imq_"
      },
      "execution_count": 9,
      "outputs": []
    },
    {
      "cell_type": "code",
      "source": [
        "def visualize(X_train,y_train,X_test,y_test,predictions=None):\n",
        "  plt.figure(figsize=(10,5))\n",
        "  plt.scatter(X_train,y_train,c=\"blue\",s=4,label=\"Training Data\")\n",
        "  plt.scatter(X_test,y_test,c=\"red\",s=4,label=\"Test Data\")\n",
        "  if predictions is not  None:\n",
        "      plt.scatter(X_test,predictions,c=\"black\",s=3,label=\"Predicted\")\n",
        "  plt.legend()\n",
        "  plt.plot()"
      ],
      "metadata": {
        "id": "5YKz9FgXiu8D"
      },
      "execution_count": 10,
      "outputs": []
    },
    {
      "cell_type": "code",
      "source": [
        "visualize(X_train,y_train,X_test,y_test)"
      ],
      "metadata": {
        "colab": {
          "base_uri": "https://localhost:8080/",
          "height": 445
        },
        "id": "Y98SjyV0jwd_",
        "outputId": "b645bb9b-e65d-403b-b98d-e1ca85528297"
      },
      "execution_count": 11,
      "outputs": [
        {
          "output_type": "display_data",
          "data": {
            "text/plain": [
              "<Figure size 1000x500 with 1 Axes>"
            ],
            "image/png": "[encoded data removed]"
          },
          "metadata": {}
        }
      ]
    },
    {
      "cell_type": "markdown",
      "source": [
        "#Building Model"
      ],
      "metadata": {
        "id": "5ncr6LHpje_S"
      }
    },
    {
      "cell_type": "markdown",
      "source": [
        "####read about torch.nn.module.\n",
        "PyTorch has four (give or take) essential modules you can use to create almost any kind of neural network you can imagine.\n",
        "\n",
        "They are torch.nn, torch.optim, torch.utils.data.Dataset and torch.utils.data.DataLoader. For now, we'll focus on the first two and get to the other two later (though you may be able to guess what they do).\n",
        "\n",
        "PyTorch module\tWhat does it do?  \n",
        "\n",
        "**torch.nn**\t  \n",
        "Contains all of the building blocks for computational graphs (essentially a series of computations executed in a particular way).  \n",
        "\n",
        "**torch.nn.Parameter**:-  \n",
        "\n",
        "Stores tensors that can be used with nn.Module. If requires_grad=True gradients (used for updating model parameters via gradient descent) are calculated automatically, this is often referred to as \"autograd\".\n",
        "\n",
        "\n",
        "\n",
        "**torch.nn.Module**:-\n",
        "The base class for all neural network modules, all the building blocks for neural networks are subclasses. If you're building a neural network in PyTorch, your models should subclass nn.Module. Requires a forward() method be implemented.  \n",
        "\n",
        "**torch.optim**:-  \n",
        "Contains various optimization algorithms (these tell the model parameters stored in nn.Parameter how to best change to improve gradient descent and in turn reduce the loss).  \n",
        "\n",
        "**def forward()**:-  \n",
        "All nn.Module subclasses require a forward() method, this defines the computation that will take place on the data passed to the particular nn.Module (e.g. the linear regression formula above).\n",
        "  \n",
        "If the above sounds complex, think of like this, almost everything in a PyTorch neural network comes from torch.nn,\n",
        "\n",
        "nn.Module - contains the larger building blocks (layers).\n",
        "\n",
        "nn.Parameter contains the smaller parameters like weights and biases (put these together to make nn.Module(s)).\n",
        "\n",
        "forward() tells the larger blocks how to make calculations on inputs (tensors full of data) within nn.Module(s).\n",
        "\n",
        "torch.optim contains optimization methods on how to improve the parameters within nn.Parameter to better represent input data.\n"
      ],
      "metadata": {
        "id": "7gAAfyW2y9wu"
      }
    },
    {
      "cell_type": "code",
      "source": [
        "#nn.module has almost everything that builds pytorch\n",
        "\n",
        "#In the documentation It is said that the models we build shuouls also subclass nn.models. So nn.models is the superclass here.\n",
        "\n",
        "\n",
        "\n",
        "class Lin_reg(nn.Module):\n",
        "  def __init__(self):\n",
        "    super().__init__()\n",
        "    #initial\n",
        "\n",
        "    # we have only one parameter\n",
        "\n",
        "    #weigths\n",
        "    self.weights=nn.Parameter(torch.randn(1,requires_grad=True))\n",
        "\n",
        "    #nn.parameter is a tensor itself .when assigned with modules , they act as attribute parameter.\n",
        "    #bias\n",
        "    self.bias=nn.Parameter(torch.randn(1,requires_grad=True))\n",
        "\n",
        "\n",
        "    #Forward method is to define the computation in the model\n",
        "    #input and returns type torch.Trnsor\n",
        "  def forward(self, x: torch.Tensor) -> torch.Tensor:\n",
        "      return self.weights*x + self.bias\n",
        "\n",
        "    # so far Our model will take the random weight and the random bias and plug it into the linear regression model equation.\n",
        "\n",
        "    #Next we need to check the error. Hence we need to optimize. torch.optim\n"
      ],
      "metadata": {
        "id": "RqoWZr4qk7zT"
      },
      "execution_count": 104,
      "outputs": []
    },
    {
      "cell_type": "code",
      "source": [],
      "metadata": {
        "id": "MwTTvelR2QY1"
      },
      "execution_count": 104,
      "outputs": []
    },
    {
      "cell_type": "markdown",
      "source": [
        "Lets check our models parameters now"
      ],
      "metadata": {
        "id": "fbq3yK7S1V3S"
      }
    },
    {
      "cell_type": "code",
      "source": [
        "torch.manual_seed(42)\n",
        "\n",
        "model_0= Lin_reg()"
      ],
      "metadata": {
        "id": "PlJmPyTj1aZX"
      },
      "execution_count": 105,
      "outputs": []
    },
    {
      "cell_type": "code",
      "source": [
        "model_0.parameters()"
      ],
      "metadata": {
        "colab": {
          "base_uri": "https://localhost:8080/"
        },
        "id": "apaxXPA11l0F",
        "outputId": "83aaf23b-c272-4583-897a-d2dd984ae083"
      },
      "execution_count": 106,
      "outputs": [
        {
          "output_type": "execute_result",
          "data": {
            "text/plain": [
              "<generator object Module.parameters at 0x7d0b76ed2ce0>"
            ]
          },
          "metadata": {},
          "execution_count": 106
        }
      ]
    },
    {
      "cell_type": "code",
      "source": [
        "list(model_0.parameters()) #--- > these are the parameters we have set"
      ],
      "metadata": {
        "colab": {
          "base_uri": "https://localhost:8080/"
        },
        "id": "1C0kADX52mmp",
        "outputId": "6afd43ba-300c-444f-83bb-94042364b181"
      },
      "execution_count": 107,
      "outputs": [
        {
          "output_type": "execute_result",
          "data": {
            "text/plain": [
              "[Parameter containing:\n",
              " tensor([0.3367], requires_grad=True),\n",
              " Parameter containing:\n",
              " tensor([0.1288], requires_grad=True)]"
            ]
          },
          "metadata": {},
          "execution_count": 107
        }
      ]
    },
    {
      "cell_type": "code",
      "source": [
        "model_0.state_dict()"
      ],
      "metadata": {
        "colab": {
          "base_uri": "https://localhost:8080/"
        },
        "id": "GQ3D3WRR7gTg",
        "outputId": "74d3fe58-879f-4d90-cd64-dd8032fdfd2a"
      },
      "execution_count": 108,
      "outputs": [
        {
          "output_type": "execute_result",
          "data": {
            "text/plain": [
              "OrderedDict([('weights', tensor([0.3367])), ('bias', tensor([0.1288]))])"
            ]
          },
          "metadata": {},
          "execution_count": 108
        }
      ]
    },
    {
      "cell_type": "code",
      "source": [
        "#actual values :\n",
        "\n",
        "print(weight,bias)"
      ],
      "metadata": {
        "colab": {
          "base_uri": "https://localhost:8080/"
        },
        "id": "gSZUSC402q_C",
        "outputId": "b609ed56-42c7-47c4-ae3b-538d95450b98"
      },
      "execution_count": 109,
      "outputs": [
        {
          "output_type": "stream",
          "name": "stdout",
          "text": [
            "0.7 0.3\n"
          ]
        }
      ]
    },
    {
      "cell_type": "code",
      "source": [
        "#we need to get as close to these values\n"
      ],
      "metadata": {
        "id": "c4RVTeLd2_7J"
      },
      "execution_count": 110,
      "outputs": []
    },
    {
      "cell_type": "markdown",
      "source": [
        "To make the predictions  ---->   we use torch.inference_mode()\n"
      ],
      "metadata": {
        "id": "b66Q6ZxG3I8D"
      }
    },
    {
      "cell_type": "code",
      "source": [
        "with torch.inference_mode():\n",
        "  y_predicted=model_0(X_test)\n",
        "\n",
        "y_predicted[:10]"
      ],
      "metadata": {
        "colab": {
          "base_uri": "https://localhost:8080/"
        },
        "id": "V8nfyqm63RkN",
        "outputId": "5eb7b04d-057a-4525-b9a7-1bdfec014620"
      },
      "execution_count": 111,
      "outputs": [
        {
          "output_type": "execute_result",
          "data": {
            "text/plain": [
              "tensor([[0.3982],\n",
              "        [0.4049],\n",
              "        [0.4116],\n",
              "        [0.4184],\n",
              "        [0.4251],\n",
              "        [0.4318],\n",
              "        [0.4386],\n",
              "        [0.4453],\n",
              "        [0.4520],\n",
              "        [0.4588]])"
            ]
          },
          "metadata": {},
          "execution_count": 111
        }
      ]
    },
    {
      "cell_type": "code",
      "source": [
        "visualize(X_train,y_train,X_test,y_test,y_predicted)"
      ],
      "metadata": {
        "colab": {
          "base_uri": "https://localhost:8080/",
          "height": 445
        },
        "id": "V1Ig9i8S3nOB",
        "outputId": "9b77ee0a-a5a7-4e25-b80f-f667a3156cbc"
      },
      "execution_count": 112,
      "outputs": [
        {
          "output_type": "display_data",
          "data": {
            "text/plain": [
              "<Figure size 1000x500 with 1 Axes>"
            ],
            "image/png": "[encoded data removed]"
          },
          "metadata": {}
        }
      ]
    },
    {
      "cell_type": "markdown",
      "source": [
        "so off!!\n",
        "\n",
        "\n",
        "\n",
        "Note: in older PyTorch code you might also see torch.no_grad().\n",
        "\n",
        "```\n",
        "with torch.no_grad():\n",
        "y_preds = model_0(X_test)\n",
        "```\n",
        "\n",
        "    "
      ],
      "metadata": {
        "id": "W2H7ka3m4Vuq"
      }
    },
    {
      "cell_type": "markdown",
      "source": [
        "#Train Model"
      ],
      "metadata": {
        "id": "5-B9NrS25NMA"
      }
    },
    {
      "cell_type": "markdown",
      "source": [
        "WE use loss functions to optimize. Used to measure how wrong our models are from he real values. from torch.nn. It is also called cost function"
      ],
      "metadata": {
        "id": "hjd_-vJR7ACX"
      }
    },
    {
      "cell_type": "markdown",
      "source": [
        "Use any from torch.nn loss functions\n",
        "\n",
        "https://pytorch.org/docs/stable/nn.html#loss-functions"
      ],
      "metadata": {
        "id": "-oExoyiz7l7O"
      }
    },
    {
      "cell_type": "markdown",
      "source": [
        "Lets use L1 loss which is the Mean absolue error"
      ],
      "metadata": {
        "id": "NC7nFwHK70x1"
      }
    },
    {
      "cell_type": "code",
      "source": [
        "#set up a loss function using nn.L1loss\n",
        "\n",
        "loss_function = nn.L1Loss()"
      ],
      "metadata": {
        "id": "AxlhP-fz8BZS"
      },
      "execution_count": 113,
      "outputs": []
    },
    {
      "cell_type": "code",
      "source": [
        "#set an optimizer\n",
        "\n",
        "#torch.optim --- > has many different optimizers.\n",
        "\n",
        "\n",
        "#eg Adam SDG(stichastic gradient descent) etc  (try and see which works best)"
      ],
      "metadata": {
        "id": "uRDTnTuy8QcS"
      },
      "execution_count": 114,
      "outputs": []
    },
    {
      "cell_type": "markdown",
      "source": [
        "https://pytorch.org/docs/stable/optim.html"
      ],
      "metadata": {
        "id": "DTE7bxa8DjgG"
      }
    },
    {
      "cell_type": "code",
      "source": [
        "optimizer = torch.optim.SGD(params=model_0.parameters(),lr=0.01)\n",
        "\n",
        "  #learning rate tell the step value +oer - 0.01 in this case"
      ],
      "metadata": {
        "id": "vsrrfTbkDneZ"
      },
      "execution_count": 115,
      "outputs": []
    },
    {
      "cell_type": "markdown",
      "source": [
        "params:-   \n",
        " is the target model parameters you'd like to optimize (e.g. the weights and bias values we randomly set before).  \n",
        "\n",
        "lr : -   \n",
        "is the learning rate you'd like the optimizer to update the parameters at, higher means the optimizer will try larger updates (these can sometimes be too large and the optimizer will fail to work), lower means the optimizer will try smaller updates (these can sometimes be too small and the optimizer will take too long to find the ideal values). The learning rate is considered a hyperparameter (because it's set by a machine learning engineer). Common starting values for the learning rate are 0.01, 0.001, 0.0001, however, these can also be adjusted over time (this is called learning rate scheduling).\n"
      ],
      "metadata": {
        "id": "KJHYKZSJE-EU"
      }
    },
    {
      "cell_type": "markdown",
      "source": [
        "## #Building the training loop"
      ],
      "metadata": {
        "id": "KbnDZAQ0GNAm"
      }
    },
    {
      "cell_type": "code",
      "source": [
        "\n",
        "\n",
        "#one time through all the data#hyper parameters because we set them\n",
        "epochs = 200\n",
        "epoch_count=[]\n",
        "train_loss_values =[]\n",
        "test_loss_values =[]"
      ],
      "metadata": {
        "id": "J9Y_ZrSSGVbj"
      },
      "execution_count": 116,
      "outputs": []
    },
    {
      "cell_type": "code",
      "source": [
        "for epoch in range(epochs):\n",
        "    ### Training\n",
        "\n",
        "    # Put model in training mode (this is the default state of a model)\n",
        "    model_0.train()\n",
        "\n",
        "    # 1. Forward pass on train data using the forward() method inside\n",
        "    y_pred = model_0(X_train)\n",
        "    # print(y_pred)\n",
        "\n",
        "    # 2. Calculate the loss (how different are our models predictions to the ground truth)\n",
        "    loss = loss_function(y_pred, y_train)\n",
        "    # print(\"loss at\", epoch, loss)\n",
        "\n",
        "    # 3. Zero grad of the optimizer\n",
        "    optimizer.zero_grad()\n",
        "\n",
        "    # 4. Loss backwards\n",
        "    loss.backward()\n",
        "\n",
        "    # 5. Progress the optimizer\n",
        "    optimizer.step()\n",
        "\n",
        "    ### Testing\n",
        "\n",
        "    # Put the model in evaluation mode\n",
        "    model_0.eval()\n",
        "\n",
        "\n",
        "    with torch.inference_mode():\n",
        "      # 1. Forward pass on test data\n",
        "      test_pred = model_0(X_test)\n",
        "\n",
        "      # 2. Caculate loss on test data\n",
        "      test_loss = loss_function(test_pred, y_test.type(torch.float)) # predictions come in torch.float datatype, so comparisons need to be done with tensors of the same type\n",
        "      print(loss,test_loss)\n",
        "      # Print out what's happening\n",
        "    if epoch % 10 == 0:\n",
        "          epoch_count.append(epoch)\n",
        "          train_loss_values.append(loss.detach().numpy())\n",
        "          test_loss_values.append(test_loss.detach().numpy())\n",
        "          print(f\"Epoch: {epoch} | MAE Train Loss: {loss} | MAE Test Loss: {test_loss} \")\n",
        "    # if epoch%10 == 0:\n",
        "    #   print(\"epoch=\",epoch,\" loss =\" ,loss)\n",
        "    #   print(model_0.state_dict())"
      ],
      "metadata": {
        "colab": {
          "base_uri": "https://localhost:8080/"
        },
        "id": "Sev1daEYRQ3n",
        "outputId": "d8699287-a888-4654-e9d6-4180a2ca0817"
      },
      "execution_count": 117,
      "outputs": [
        {
          "output_type": "stream",
          "name": "stdout",
          "text": [
            "tensor(0.3129, grad_fn=<MeanBackward0>) tensor(0.4811)\n",
            "Epoch: 0 | MAE Train Loss: 0.31288138031959534 | MAE Test Loss: 0.48106518387794495 \n",
            "tensor(0.3014, grad_fn=<MeanBackward0>) tensor(0.4676)\n",
            "tensor(0.2898, grad_fn=<MeanBackward0>) tensor(0.4541)\n",
            "tensor(0.2783, grad_fn=<MeanBackward0>) tensor(0.4407)\n",
            "tensor(0.2668, grad_fn=<MeanBackward0>) tensor(0.4272)\n",
            "tensor(0.2553, grad_fn=<MeanBackward0>) tensor(0.4137)\n",
            "tensor(0.2438, grad_fn=<MeanBackward0>) tensor(0.4002)\n",
            "tensor(0.2322, grad_fn=<MeanBackward0>) tensor(0.3868)\n",
            "tensor(0.2207, grad_fn=<MeanBackward0>) tensor(0.3733)\n",
            "tensor(0.2092, grad_fn=<MeanBackward0>) tensor(0.3598)\n",
            "tensor(0.1977, grad_fn=<MeanBackward0>) tensor(0.3464)\n",
            "Epoch: 10 | MAE Train Loss: 0.1976713240146637 | MAE Test Loss: 0.3463551998138428 \n",
            "tensor(0.1862, grad_fn=<MeanBackward0>) tensor(0.3329)\n",
            "tensor(0.1746, grad_fn=<MeanBackward0>) tensor(0.3194)\n",
            "tensor(0.1631, grad_fn=<MeanBackward0>) tensor(0.3059)\n",
            "tensor(0.1516, grad_fn=<MeanBackward0>) tensor(0.2925)\n",
            "tensor(0.1401, grad_fn=<MeanBackward0>) tensor(0.2790)\n",
            "tensor(0.1285, grad_fn=<MeanBackward0>) tensor(0.2655)\n",
            "tensor(0.1170, grad_fn=<MeanBackward0>) tensor(0.2521)\n",
            "tensor(0.1061, grad_fn=<MeanBackward0>) tensor(0.2396)\n",
            "tensor(0.0968, grad_fn=<MeanBackward0>) tensor(0.2282)\n",
            "tensor(0.0891, grad_fn=<MeanBackward0>) tensor(0.2173)\n",
            "Epoch: 20 | MAE Train Loss: 0.08908725529909134 | MAE Test Loss: 0.21729660034179688 \n",
            "tensor(0.0823, grad_fn=<MeanBackward0>) tensor(0.2070)\n",
            "tensor(0.0764, grad_fn=<MeanBackward0>) tensor(0.1977)\n",
            "tensor(0.0716, grad_fn=<MeanBackward0>) tensor(0.1891)\n",
            "tensor(0.0675, grad_fn=<MeanBackward0>) tensor(0.1810)\n",
            "tensor(0.0640, grad_fn=<MeanBackward0>) tensor(0.1735)\n",
            "tensor(0.0610, grad_fn=<MeanBackward0>) tensor(0.1667)\n",
            "tensor(0.0585, grad_fn=<MeanBackward0>) tensor(0.1604)\n",
            "tensor(0.0564, grad_fn=<MeanBackward0>) tensor(0.1547)\n",
            "tensor(0.0546, grad_fn=<MeanBackward0>) tensor(0.1497)\n",
            "tensor(0.0531, grad_fn=<MeanBackward0>) tensor(0.1446)\n",
            "Epoch: 30 | MAE Train Loss: 0.053148526698350906 | MAE Test Loss: 0.14464017748832703 \n",
            "tensor(0.0518, grad_fn=<MeanBackward0>) tensor(0.1402)\n",
            "tensor(0.0507, grad_fn=<MeanBackward0>) tensor(0.1365)\n",
            "tensor(0.0498, grad_fn=<MeanBackward0>) tensor(0.1327)\n",
            "tensor(0.0490, grad_fn=<MeanBackward0>) tensor(0.1290)\n",
            "tensor(0.0482, grad_fn=<MeanBackward0>) tensor(0.1258)\n",
            "tensor(0.0475, grad_fn=<MeanBackward0>) tensor(0.1227)\n",
            "tensor(0.0469, grad_fn=<MeanBackward0>) tensor(0.1203)\n",
            "tensor(0.0464, grad_fn=<MeanBackward0>) tensor(0.1178)\n",
            "tensor(0.0459, grad_fn=<MeanBackward0>) tensor(0.1154)\n",
            "tensor(0.0454, grad_fn=<MeanBackward0>) tensor(0.1136)\n",
            "Epoch: 40 | MAE Train Loss: 0.04543796554207802 | MAE Test Loss: 0.11360953003168106 \n",
            "tensor(0.0450, grad_fn=<MeanBackward0>) tensor(0.1118)\n",
            "tensor(0.0446, grad_fn=<MeanBackward0>) tensor(0.1100)\n",
            "tensor(0.0442, grad_fn=<MeanBackward0>) tensor(0.1083)\n",
            "tensor(0.0438, grad_fn=<MeanBackward0>) tensor(0.1065)\n",
            "tensor(0.0434, grad_fn=<MeanBackward0>) tensor(0.1047)\n",
            "tensor(0.0431, grad_fn=<MeanBackward0>) tensor(0.1036)\n",
            "tensor(0.0427, grad_fn=<MeanBackward0>) tensor(0.1025)\n",
            "tensor(0.0424, grad_fn=<MeanBackward0>) tensor(0.1014)\n",
            "tensor(0.0420, grad_fn=<MeanBackward0>) tensor(0.1003)\n",
            "tensor(0.0417, grad_fn=<MeanBackward0>) tensor(0.0992)\n",
            "Epoch: 50 | MAE Train Loss: 0.04167863354086876 | MAE Test Loss: 0.09919948130846024 \n",
            "tensor(0.0413, grad_fn=<MeanBackward0>) tensor(0.0981)\n",
            "tensor(0.0410, grad_fn=<MeanBackward0>) tensor(0.0970)\n",
            "tensor(0.0406, grad_fn=<MeanBackward0>) tensor(0.0959)\n",
            "tensor(0.0403, grad_fn=<MeanBackward0>) tensor(0.0948)\n",
            "tensor(0.0399, grad_fn=<MeanBackward0>) tensor(0.0937)\n",
            "tensor(0.0396, grad_fn=<MeanBackward0>) tensor(0.0926)\n",
            "tensor(0.0392, grad_fn=<MeanBackward0>) tensor(0.0915)\n",
            "tensor(0.0389, grad_fn=<MeanBackward0>) tensor(0.0904)\n",
            "tensor(0.0385, grad_fn=<MeanBackward0>) tensor(0.0893)\n",
            "tensor(0.0382, grad_fn=<MeanBackward0>) tensor(0.0889)\n",
            "Epoch: 60 | MAE Train Loss: 0.03818932920694351 | MAE Test Loss: 0.08886633068323135 \n",
            "tensor(0.0379, grad_fn=<MeanBackward0>) tensor(0.0878)\n",
            "tensor(0.0375, grad_fn=<MeanBackward0>) tensor(0.0867)\n",
            "tensor(0.0372, grad_fn=<MeanBackward0>) tensor(0.0862)\n",
            "tensor(0.0368, grad_fn=<MeanBackward0>) tensor(0.0851)\n",
            "tensor(0.0365, grad_fn=<MeanBackward0>) tensor(0.0847)\n",
            "tensor(0.0361, grad_fn=<MeanBackward0>) tensor(0.0836)\n",
            "tensor(0.0358, grad_fn=<MeanBackward0>) tensor(0.0832)\n",
            "tensor(0.0354, grad_fn=<MeanBackward0>) tensor(0.0821)\n",
            "tensor(0.0351, grad_fn=<MeanBackward0>) tensor(0.0810)\n",
            "tensor(0.0348, grad_fn=<MeanBackward0>) tensor(0.0806)\n",
            "Epoch: 70 | MAE Train Loss: 0.03476089984178543 | MAE Test Loss: 0.0805937647819519 \n",
            "tensor(0.0344, grad_fn=<MeanBackward0>) tensor(0.0795)\n",
            "tensor(0.0341, grad_fn=<MeanBackward0>) tensor(0.0791)\n",
            "tensor(0.0337, grad_fn=<MeanBackward0>) tensor(0.0780)\n",
            "tensor(0.0334, grad_fn=<MeanBackward0>) tensor(0.0776)\n",
            "tensor(0.0330, grad_fn=<MeanBackward0>) tensor(0.0765)\n",
            "tensor(0.0327, grad_fn=<MeanBackward0>) tensor(0.0754)\n",
            "tensor(0.0324, grad_fn=<MeanBackward0>) tensor(0.0749)\n",
            "tensor(0.0320, grad_fn=<MeanBackward0>) tensor(0.0738)\n",
            "tensor(0.0317, grad_fn=<MeanBackward0>) tensor(0.0734)\n",
            "tensor(0.0313, grad_fn=<MeanBackward0>) tensor(0.0723)\n",
            "Epoch: 80 | MAE Train Loss: 0.03132382780313492 | MAE Test Loss: 0.07232122868299484 \n",
            "tensor(0.0310, grad_fn=<MeanBackward0>) tensor(0.0719)\n",
            "tensor(0.0306, grad_fn=<MeanBackward0>) tensor(0.0708)\n",
            "tensor(0.0303, grad_fn=<MeanBackward0>) tensor(0.0704)\n",
            "tensor(0.0300, grad_fn=<MeanBackward0>) tensor(0.0693)\n",
            "tensor(0.0296, grad_fn=<MeanBackward0>) tensor(0.0682)\n",
            "tensor(0.0293, grad_fn=<MeanBackward0>) tensor(0.0678)\n",
            "tensor(0.0289, grad_fn=<MeanBackward0>) tensor(0.0667)\n",
            "tensor(0.0286, grad_fn=<MeanBackward0>) tensor(0.0663)\n",
            "tensor(0.0282, grad_fn=<MeanBackward0>) tensor(0.0652)\n",
            "tensor(0.0279, grad_fn=<MeanBackward0>) tensor(0.0647)\n",
            "Epoch: 90 | MAE Train Loss: 0.02788739837706089 | MAE Test Loss: 0.06473556160926819 \n",
            "tensor(0.0275, grad_fn=<MeanBackward0>) tensor(0.0636)\n",
            "tensor(0.0272, grad_fn=<MeanBackward0>) tensor(0.0625)\n",
            "tensor(0.0269, grad_fn=<MeanBackward0>) tensor(0.0621)\n",
            "tensor(0.0265, grad_fn=<MeanBackward0>) tensor(0.0610)\n",
            "tensor(0.0262, grad_fn=<MeanBackward0>) tensor(0.0606)\n",
            "tensor(0.0258, grad_fn=<MeanBackward0>) tensor(0.0595)\n",
            "tensor(0.0255, grad_fn=<MeanBackward0>) tensor(0.0591)\n",
            "tensor(0.0251, grad_fn=<MeanBackward0>) tensor(0.0580)\n",
            "tensor(0.0248, grad_fn=<MeanBackward0>) tensor(0.0569)\n",
            "tensor(0.0245, grad_fn=<MeanBackward0>) tensor(0.0565)\n",
            "Epoch: 100 | MAE Train Loss: 0.024458957836031914 | MAE Test Loss: 0.05646304413676262 \n",
            "tensor(0.0241, grad_fn=<MeanBackward0>) tensor(0.0554)\n",
            "tensor(0.0238, grad_fn=<MeanBackward0>) tensor(0.0549)\n",
            "tensor(0.0234, grad_fn=<MeanBackward0>) tensor(0.0538)\n",
            "tensor(0.0231, grad_fn=<MeanBackward0>) tensor(0.0534)\n",
            "tensor(0.0227, grad_fn=<MeanBackward0>) tensor(0.0523)\n",
            "tensor(0.0224, grad_fn=<MeanBackward0>) tensor(0.0519)\n",
            "tensor(0.0221, grad_fn=<MeanBackward0>) tensor(0.0508)\n",
            "tensor(0.0217, grad_fn=<MeanBackward0>) tensor(0.0497)\n",
            "tensor(0.0214, grad_fn=<MeanBackward0>) tensor(0.0493)\n",
            "tensor(0.0210, grad_fn=<MeanBackward0>) tensor(0.0482)\n",
            "Epoch: 110 | MAE Train Loss: 0.021020207554101944 | MAE Test Loss: 0.04819049686193466 \n",
            "tensor(0.0207, grad_fn=<MeanBackward0>) tensor(0.0478)\n",
            "tensor(0.0203, grad_fn=<MeanBackward0>) tensor(0.0467)\n",
            "tensor(0.0200, grad_fn=<MeanBackward0>) tensor(0.0463)\n",
            "tensor(0.0196, grad_fn=<MeanBackward0>) tensor(0.0452)\n",
            "tensor(0.0193, grad_fn=<MeanBackward0>) tensor(0.0441)\n",
            "tensor(0.0190, grad_fn=<MeanBackward0>) tensor(0.0436)\n",
            "tensor(0.0186, grad_fn=<MeanBackward0>) tensor(0.0425)\n",
            "tensor(0.0183, grad_fn=<MeanBackward0>) tensor(0.0421)\n",
            "tensor(0.0179, grad_fn=<MeanBackward0>) tensor(0.0410)\n",
            "tensor(0.0176, grad_fn=<MeanBackward0>) tensor(0.0406)\n",
            "Epoch: 120 | MAE Train Loss: 0.01758546568453312 | MAE Test Loss: 0.04060482233762741 \n",
            "tensor(0.0172, grad_fn=<MeanBackward0>) tensor(0.0395)\n",
            "tensor(0.0169, grad_fn=<MeanBackward0>) tensor(0.0391)\n",
            "tensor(0.0166, grad_fn=<MeanBackward0>) tensor(0.0380)\n",
            "tensor(0.0162, grad_fn=<MeanBackward0>) tensor(0.0369)\n",
            "tensor(0.0159, grad_fn=<MeanBackward0>) tensor(0.0365)\n",
            "tensor(0.0155, grad_fn=<MeanBackward0>) tensor(0.0354)\n",
            "tensor(0.0152, grad_fn=<MeanBackward0>) tensor(0.0350)\n",
            "tensor(0.0148, grad_fn=<MeanBackward0>) tensor(0.0338)\n",
            "tensor(0.0145, grad_fn=<MeanBackward0>) tensor(0.0334)\n",
            "tensor(0.0142, grad_fn=<MeanBackward0>) tensor(0.0323)\n",
            "Epoch: 130 | MAE Train Loss: 0.014155393466353416 | MAE Test Loss: 0.03233227878808975 \n",
            "tensor(0.0138, grad_fn=<MeanBackward0>) tensor(0.0312)\n",
            "tensor(0.0135, grad_fn=<MeanBackward0>) tensor(0.0308)\n",
            "tensor(0.0131, grad_fn=<MeanBackward0>) tensor(0.0297)\n",
            "tensor(0.0128, grad_fn=<MeanBackward0>) tensor(0.0293)\n",
            "tensor(0.0124, grad_fn=<MeanBackward0>) tensor(0.0282)\n",
            "tensor(0.0121, grad_fn=<MeanBackward0>) tensor(0.0278)\n",
            "tensor(0.0118, grad_fn=<MeanBackward0>) tensor(0.0267)\n",
            "tensor(0.0114, grad_fn=<MeanBackward0>) tensor(0.0256)\n",
            "tensor(0.0111, grad_fn=<MeanBackward0>) tensor(0.0252)\n",
            "tensor(0.0107, grad_fn=<MeanBackward0>) tensor(0.0241)\n",
            "Epoch: 140 | MAE Train Loss: 0.010716589167714119 | MAE Test Loss: 0.024059748277068138 \n",
            "tensor(0.0104, grad_fn=<MeanBackward0>) tensor(0.0236)\n",
            "tensor(0.0100, grad_fn=<MeanBackward0>) tensor(0.0225)\n",
            "tensor(0.0097, grad_fn=<MeanBackward0>) tensor(0.0221)\n",
            "tensor(0.0093, grad_fn=<MeanBackward0>) tensor(0.0210)\n",
            "tensor(0.0090, grad_fn=<MeanBackward0>) tensor(0.0206)\n",
            "tensor(0.0087, grad_fn=<MeanBackward0>) tensor(0.0195)\n",
            "tensor(0.0083, grad_fn=<MeanBackward0>) tensor(0.0184)\n",
            "tensor(0.0080, grad_fn=<MeanBackward0>) tensor(0.0180)\n",
            "tensor(0.0076, grad_fn=<MeanBackward0>) tensor(0.0169)\n",
            "tensor(0.0073, grad_fn=<MeanBackward0>) tensor(0.0165)\n",
            "Epoch: 150 | MAE Train Loss: 0.0072835334576666355 | MAE Test Loss: 0.016474086791276932 \n",
            "tensor(0.0069, grad_fn=<MeanBackward0>) tensor(0.0154)\n",
            "tensor(0.0066, grad_fn=<MeanBackward0>) tensor(0.0150)\n",
            "tensor(0.0063, grad_fn=<MeanBackward0>) tensor(0.0139)\n",
            "tensor(0.0059, grad_fn=<MeanBackward0>) tensor(0.0128)\n",
            "tensor(0.0056, grad_fn=<MeanBackward0>) tensor(0.0123)\n",
            "tensor(0.0052, grad_fn=<MeanBackward0>) tensor(0.0112)\n",
            "tensor(0.0049, grad_fn=<MeanBackward0>) tensor(0.0108)\n",
            "tensor(0.0045, grad_fn=<MeanBackward0>) tensor(0.0097)\n",
            "tensor(0.0042, grad_fn=<MeanBackward0>) tensor(0.0093)\n",
            "tensor(0.0039, grad_fn=<MeanBackward0>) tensor(0.0082)\n",
            "Epoch: 160 | MAE Train Loss: 0.0038517764769494534 | MAE Test Loss: 0.008201557211577892 \n",
            "tensor(0.0035, grad_fn=<MeanBackward0>) tensor(0.0071)\n",
            "tensor(0.0032, grad_fn=<MeanBackward0>) tensor(0.0067)\n",
            "tensor(0.0028, grad_fn=<MeanBackward0>) tensor(0.0056)\n",
            "tensor(0.0025, grad_fn=<MeanBackward0>) tensor(0.0052)\n",
            "tensor(0.0021, grad_fn=<MeanBackward0>) tensor(0.0041)\n",
            "tensor(0.0018, grad_fn=<MeanBackward0>) tensor(0.0037)\n",
            "tensor(0.0015, grad_fn=<MeanBackward0>) tensor(0.0019)\n",
            "tensor(0.0012, grad_fn=<MeanBackward0>) tensor(0.0050)\n",
            "tensor(0.0026, grad_fn=<MeanBackward0>) tensor(0.0084)\n",
            "tensor(0.0089, grad_fn=<MeanBackward0>) tensor(0.0050)\n",
            "Epoch: 170 | MAE Train Loss: 0.008932482451200485 | MAE Test Loss: 0.005023092031478882 \n",
            "tensor(0.0026, grad_fn=<MeanBackward0>) tensor(0.0084)\n",
            "tensor(0.0089, grad_fn=<MeanBackward0>) tensor(0.0050)\n",
            "tensor(0.0026, grad_fn=<MeanBackward0>) tensor(0.0084)\n",
            "tensor(0.0089, grad_fn=<MeanBackward0>) tensor(0.0050)\n",
            "tensor(0.0026, grad_fn=<MeanBackward0>) tensor(0.0084)\n",
            "tensor(0.0089, grad_fn=<MeanBackward0>) tensor(0.0050)\n",
            "tensor(0.0026, grad_fn=<MeanBackward0>) tensor(0.0084)\n",
            "tensor(0.0089, grad_fn=<MeanBackward0>) tensor(0.0050)\n",
            "tensor(0.0026, grad_fn=<MeanBackward0>) tensor(0.0084)\n",
            "tensor(0.0089, grad_fn=<MeanBackward0>) tensor(0.0050)\n",
            "Epoch: 180 | MAE Train Loss: 0.008932482451200485 | MAE Test Loss: 0.005023092031478882 \n",
            "tensor(0.0026, grad_fn=<MeanBackward0>) tensor(0.0084)\n",
            "tensor(0.0089, grad_fn=<MeanBackward0>) tensor(0.0050)\n",
            "tensor(0.0026, grad_fn=<MeanBackward0>) tensor(0.0084)\n",
            "tensor(0.0089, grad_fn=<MeanBackward0>) tensor(0.0050)\n",
            "tensor(0.0026, grad_fn=<MeanBackward0>) tensor(0.0084)\n",
            "tensor(0.0089, grad_fn=<MeanBackward0>) tensor(0.0050)\n",
            "tensor(0.0026, grad_fn=<MeanBackward0>) tensor(0.0084)\n",
            "tensor(0.0089, grad_fn=<MeanBackward0>) tensor(0.0050)\n",
            "tensor(0.0026, grad_fn=<MeanBackward0>) tensor(0.0084)\n",
            "tensor(0.0089, grad_fn=<MeanBackward0>) tensor(0.0050)\n",
            "Epoch: 190 | MAE Train Loss: 0.008932482451200485 | MAE Test Loss: 0.005023092031478882 \n",
            "tensor(0.0026, grad_fn=<MeanBackward0>) tensor(0.0084)\n",
            "tensor(0.0089, grad_fn=<MeanBackward0>) tensor(0.0050)\n",
            "tensor(0.0026, grad_fn=<MeanBackward0>) tensor(0.0084)\n",
            "tensor(0.0089, grad_fn=<MeanBackward0>) tensor(0.0050)\n",
            "tensor(0.0026, grad_fn=<MeanBackward0>) tensor(0.0084)\n",
            "tensor(0.0089, grad_fn=<MeanBackward0>) tensor(0.0050)\n",
            "tensor(0.0026, grad_fn=<MeanBackward0>) tensor(0.0084)\n",
            "tensor(0.0089, grad_fn=<MeanBackward0>) tensor(0.0050)\n",
            "tensor(0.0026, grad_fn=<MeanBackward0>) tensor(0.0084)\n"
          ]
        }
      ]
    },
    {
      "cell_type": "code",
      "source": [
        "model_0.state_dict()"
      ],
      "metadata": {
        "colab": {
          "base_uri": "https://localhost:8080/"
        },
        "id": "y8LbQ72FheRM",
        "outputId": "546038cc-c813-4856-b52e-0447f7f30c4c"
      },
      "execution_count": 118,
      "outputs": [
        {
          "output_type": "execute_result",
          "data": {
            "text/plain": [
              "OrderedDict([('weights', tensor([0.6990])), ('bias', tensor([0.3093]))])"
            ]
          },
          "metadata": {},
          "execution_count": 118
        }
      ]
    },
    {
      "cell_type": "code",
      "source": [
        "print(\"actual weight and bias =\",weight , bias)"
      ],
      "metadata": {
        "colab": {
          "base_uri": "https://localhost:8080/"
        },
        "id": "4zeakgdMhvnc",
        "outputId": "fb3df5da-94ca-4893-b0cc-f2a4d89efb3a"
      },
      "execution_count": 119,
      "outputs": [
        {
          "output_type": "stream",
          "name": "stdout",
          "text": [
            "actual weight and bias = 0.7 0.3\n"
          ]
        }
      ]
    },
    {
      "cell_type": "code",
      "source": [],
      "metadata": {
        "id": "n_wWiGLIh2zX"
      },
      "execution_count": 119,
      "outputs": []
    },
    {
      "cell_type": "code",
      "source": [
        "visualize(X_train,y_train,X_test,y_test,test_pred)"
      ],
      "metadata": {
        "colab": {
          "base_uri": "https://localhost:8080/",
          "height": 445
        },
        "id": "mcBbU3qBlyAG",
        "outputId": "ff8b441f-b6bd-458c-c0ff-35e1a38cd18a"
      },
      "execution_count": 120,
      "outputs": [
        {
          "output_type": "display_data",
          "data": {
            "text/plain": [
              "<Figure size 1000x500 with 1 Axes>"
            ],
            "image/png": "[encoded data removed]"
          },
          "metadata": {}
        }
      ]
    },
    {
      "cell_type": "code",
      "source": [
        "model_0=Lin_reg()"
      ],
      "metadata": {
        "id": "Ww4WvWI9mxxG"
      },
      "execution_count": 62,
      "outputs": []
    },
    {
      "cell_type": "code",
      "source": [
        "model_0.state_dict()"
      ],
      "metadata": {
        "colab": {
          "base_uri": "https://localhost:8080/"
        },
        "id": "nTpkC5t5mzFy",
        "outputId": "3558a0aa-94d1-46d6-cd0b-020d224d7b16"
      },
      "execution_count": 35,
      "outputs": [
        {
          "output_type": "execute_result",
          "data": {
            "text/plain": [
              "OrderedDict([('weights', tensor([0.3367])), ('bias', tensor([0.1288]))])"
            ]
          },
          "metadata": {},
          "execution_count": 35
        }
      ]
    },
    {
      "cell_type": "code",
      "source": [
        "# #Full function :\n",
        "\n",
        "# torch.manual_seed(42)\n",
        "\n",
        "# # Set the number of epochs (how many times the model will pass over the training data)\n",
        "# epochs = 1000\n",
        "\n",
        "# # Create empty loss lists to track values\n",
        "# train_loss_values = []\n",
        "# test_loss_values = []\n",
        "# epoch_count = []\n",
        "\n",
        "# for epoch in range(epochs):\n",
        "#     ### Training\n",
        "\n",
        "#     # Put model in training mode (this is the default state of a model)\n",
        "#     model_0.train()\n",
        "\n",
        "#     # 1. Forward pass on train data using the forward() method inside\n",
        "#     y_pred = model_0(X_train)\n",
        "#     # print(y_pred)\n",
        "\n",
        "#     # 2. Calculate the loss (how different are our models predictions to the ground truth)\n",
        "#     loss = loss_function(y_pred, y_train)\n",
        "\n",
        "#     # 3. Zero grad of the optimizer\n",
        "#     optimizer.zero_grad()\n",
        "\n",
        "#     # 4. Loss backwards\n",
        "#     loss.backward()\n",
        "\n",
        "#     # 5. Progress the optimizer\n",
        "#     optimizer.step()\n",
        "\n",
        "#     ### Testing\n",
        "\n",
        "#     # Put the model in evaluation mode\n",
        "#     model_0.eval()\n",
        "\n",
        "#     with torch.inference_mode():\n",
        "#       # 1. Forward pass on test data\n",
        "#       test_pred = model_0(X_test)\n",
        "\n",
        "#       # 2. Caculate loss on test data\n",
        "#       test_loss = loss_function(test_pred, y_test.type(torch.float)) # predictions come in torch.float datatype, so comparisons need to be done with tensors of the same type\n",
        "#       print(loss,test_loss)\n",
        "#       # Print out what's happening\n",
        "#       if epoch % 10 == 0:\n",
        "#             epoch_count.append(epoch)\n",
        "#             train_loss_values.append(loss.detach().numpy())\n",
        "#             test_loss_values.append(test_loss.detach().numpy())\n",
        "#             print(f\"Epoch: {epoch} | MAE Train Loss: {loss} | MAE Test Loss: {test_loss} \")\n"
      ],
      "metadata": {
        "id": "mxr2lcHfl8-2"
      },
      "execution_count": 68,
      "outputs": []
    },
    {
      "cell_type": "code",
      "source": [
        "# Plot the loss curves\n",
        "plt.plot(epoch_count, train_loss_values, label=\"Train loss\")\n",
        "plt.plot(epoch_count, test_loss_values, label=\"Test loss\")\n",
        "plt.title(\"Training and test loss curves\")\n",
        "plt.ylabel(\"Loss\")\n",
        "plt.xlabel(\"Epochs\")\n",
        "plt.legend();"
      ],
      "metadata": {
        "colab": {
          "base_uri": "https://localhost:8080/",
          "height": 472
        },
        "id": "5DBM5OWamqEs",
        "outputId": "84b30c1a-4533-4960-c51a-59c7239ea22e"
      },
      "execution_count": 121,
      "outputs": [
        {
          "output_type": "display_data",
          "data": {
            "text/plain": [
              "<Figure size 640x480 with 1 Axes>"
            ],
            "image/png": "[encoded data removed]"
          },
          "metadata": {}
        }
      ]
    },
    {
      "cell_type": "code",
      "source": [
        "#now we can save the model"
      ],
      "metadata": {
        "id": "HbKAsWHJnsZH"
      },
      "execution_count": 122,
      "outputs": []
    }
  ]
}