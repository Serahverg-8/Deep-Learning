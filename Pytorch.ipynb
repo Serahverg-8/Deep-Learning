{
  "nbformat": 4,
  "nbformat_minor": 0,
  "metadata": {
    "colab": {
      "provenance": [],
      "authorship_tag": "ABX9TyPwXWPe6XYwF6euIQK6c+G5",
      "include_colab_link": true
    },
    "kernelspec": {
      "name": "python3",
      "display_name": "Python 3"
    },
    "language_info": {
      "name": "python"
    }
  },
  "cells": [
    {
      "cell_type": "markdown",
      "metadata": {
        "id": "view-in-github",
        "colab_type": "text"
      },
      "source": [
        "<a href=\"https://colab.research.google.com/github/Serahverg-8/Deep-Learning/blob/main/Pytorch.ipynb\" target=\"_parent\"><img src=\"https://colab.research.google.com/assets/colab-badge.svg\" alt=\"Open In Colab\"/></a>"
      ]
    },
    {
      "cell_type": "code",
      "execution_count": 1,
      "metadata": {
        "colab": {
          "base_uri": "https://localhost:8080/",
          "height": 35
        },
        "id": "zdZxCxzxmxhV",
        "outputId": "474582f1-4de2-4289-f297-a66aef5cac79"
      },
      "outputs": [
        {
          "output_type": "execute_result",
          "data": {
            "text/plain": [
              "'2.0.1+cu118'"
            ],
            "application/vnd.google.colaboratory.intrinsic+json": {
              "type": "string"
            }
          },
          "metadata": {},
          "execution_count": 1
        }
      ],
      "source": [
        "import torch\n",
        "import pandas as pd\n",
        "import numpy as np\n",
        "import matplotlib.pyplot as plt\n",
        "%matplotlib inline\n",
        "torch.__version__"
      ]
    },
    {
      "cell_type": "markdown",
      "source": [
        "torch.tensor class : A torch.Tensor is a multi-dimensional matrix containing elements of a single data type.\n",
        "\n",
        "torch.tensor() always copies data. If you have a Tensor data and just want to change its requires_grad flag, use requires_grad_() or detach() to avoid a copy. If you have a numpy array and want to avoid a copy, use torch.as_tensor()."
      ],
      "metadata": {
        "id": "u07RCST6nQgD"
      }
    },
    {
      "cell_type": "code",
      "source": [
        "\n",
        "#intro to tensors\n",
        "\n",
        "#creating tensors - torch.tensor"
      ],
      "metadata": {
        "id": "D2pm4OufHp-5"
      },
      "execution_count": 2,
      "outputs": []
    },
    {
      "cell_type": "code",
      "source": [
        "#scalar tensor\n",
        "\n",
        "scalar=torch.tensor(7)\n",
        "scalar"
      ],
      "metadata": {
        "colab": {
          "base_uri": "https://localhost:8080/"
        },
        "id": "II8tdGXQUivV",
        "outputId": "7e5854ea-ff84-4b09-d13c-917544354b43"
      },
      "execution_count": 4,
      "outputs": [
        {
          "output_type": "execute_result",
          "data": {
            "text/plain": [
              "tensor(7)"
            ]
          },
          "metadata": {},
          "execution_count": 4
        }
      ]
    },
    {
      "cell_type": "code",
      "source": [
        "#attributes:\n",
        "scalar.ndim\n",
        "#no dimensions"
      ],
      "metadata": {
        "colab": {
          "base_uri": "https://localhost:8080/"
        },
        "id": "STFZ0H4iU1zv",
        "outputId": "7d5ccf97-c8ac-4679-fd62-190c9b6b5781"
      },
      "execution_count": 5,
      "outputs": [
        {
          "output_type": "execute_result",
          "data": {
            "text/plain": [
              "0"
            ]
          },
          "metadata": {},
          "execution_count": 5
        }
      ]
    },
    {
      "cell_type": "code",
      "source": [
        "scalar.item()\n",
        "\n",
        "#returns the scalar value. This only works for scalar"
      ],
      "metadata": {
        "colab": {
          "base_uri": "https://localhost:8080/"
        },
        "id": "4PKXq8ciaCJZ",
        "outputId": "beede002-1014-46ef-c6c1-eb47a7612eb5"
      },
      "execution_count": 6,
      "outputs": [
        {
          "output_type": "execute_result",
          "data": {
            "text/plain": [
              "7"
            ]
          },
          "metadata": {},
          "execution_count": 6
        }
      ]
    },
    {
      "cell_type": "code",
      "source": [
        "## Vector -- > magnitude and direction (usually one dimension aka one feature taking up one axis on the graph). It usually has more than one value"
      ],
      "metadata": {
        "id": "nPJBR3ssaGpm"
      },
      "execution_count": 7,
      "outputs": []
    },
    {
      "cell_type": "code",
      "source": [
        "vector=torch.tensor([7,2])"
      ],
      "metadata": {
        "id": "cjK0l5bzamLs"
      },
      "execution_count": 8,
      "outputs": []
    },
    {
      "cell_type": "code",
      "source": [
        "vector.ndim\n",
        "# vector is 1D . just needs rows to navigate to the value"
      ],
      "metadata": {
        "colab": {
          "base_uri": "https://localhost:8080/"
        },
        "id": "QZi6k8R2aq-N",
        "outputId": "fdb6ae84-b57c-42c1-b7a1-1c4dc7e2371c"
      },
      "execution_count": 10,
      "outputs": [
        {
          "output_type": "execute_result",
          "data": {
            "text/plain": [
              "1"
            ]
          },
          "metadata": {},
          "execution_count": 10
        }
      ]
    },
    {
      "cell_type": "code",
      "source": [
        "vector.shape"
      ],
      "metadata": {
        "colab": {
          "base_uri": "https://localhost:8080/"
        },
        "id": "4I09y-dJatk7",
        "outputId": "51f3c02a-4adb-49c2-f55d-a76490cbaee5"
      },
      "execution_count": 15,
      "outputs": [
        {
          "output_type": "execute_result",
          "data": {
            "text/plain": [
              "torch.Size([2])"
            ]
          },
          "metadata": {},
          "execution_count": 15
        }
      ]
    },
    {
      "cell_type": "code",
      "source": [
        "#like an array it indicates its a 2x1 vector"
      ],
      "metadata": {
        "id": "a5ebAqgkaxLI"
      },
      "execution_count": 16,
      "outputs": []
    },
    {
      "cell_type": "code",
      "source": [
        "MATRIX = torch.tensor([[2,5],[3,6]])"
      ],
      "metadata": {
        "id": "_k4zTHzEbE47"
      },
      "execution_count": 41,
      "outputs": []
    },
    {
      "cell_type": "code",
      "source": [
        "MATRIX.ndim\n",
        "# matrix is 2Dimensional ---> rows and columns to navigate"
      ],
      "metadata": {
        "colab": {
          "base_uri": "https://localhost:8080/"
        },
        "id": "XQpNJdGObQi3",
        "outputId": "495ad4e3-1ec1-444f-f0b1-774457b405d5"
      },
      "execution_count": 42,
      "outputs": [
        {
          "output_type": "execute_result",
          "data": {
            "text/plain": [
              "2"
            ]
          },
          "metadata": {},
          "execution_count": 42
        }
      ]
    },
    {
      "cell_type": "code",
      "source": [
        "MATRIX.shape"
      ],
      "metadata": {
        "colab": {
          "base_uri": "https://localhost:8080/"
        },
        "id": "WsKRlgWrbRzW",
        "outputId": "785001a6-1061-4e2c-8489-455ab3103539"
      },
      "execution_count": 43,
      "outputs": [
        {
          "output_type": "execute_result",
          "data": {
            "text/plain": [
              "torch.Size([2, 2])"
            ]
          },
          "metadata": {},
          "execution_count": 43
        }
      ]
    },
    {
      "cell_type": "code",
      "source": [
        "MATRIX[0]"
      ],
      "metadata": {
        "colab": {
          "base_uri": "https://localhost:8080/"
        },
        "id": "YzMbcveJbYi9",
        "outputId": "49c96a9e-8812-43a6-da8b-695c5d2c6733"
      },
      "execution_count": 44,
      "outputs": [
        {
          "output_type": "execute_result",
          "data": {
            "text/plain": [
              "tensor([2, 5])"
            ]
          },
          "metadata": {},
          "execution_count": 44
        }
      ]
    },
    {
      "cell_type": "code",
      "source": [
        "MATRIX[1][0]"
      ],
      "metadata": {
        "colab": {
          "base_uri": "https://localhost:8080/"
        },
        "id": "APHRyouAbfTf",
        "outputId": "f823a794-6733-4f21-814f-27f08518a4f0"
      },
      "execution_count": 45,
      "outputs": [
        {
          "output_type": "execute_result",
          "data": {
            "text/plain": [
              "tensor(3)"
            ]
          },
          "metadata": {},
          "execution_count": 45
        }
      ]
    },
    {
      "cell_type": "code",
      "source": [
        "TENSOR = torch.tensor([[1,4,5],\n",
        " [3,8,9],\n",
        "  [1,2,5]])"
      ],
      "metadata": {
        "id": "89oFqQAZbiqr"
      },
      "execution_count": 28,
      "outputs": []
    },
    {
      "cell_type": "code",
      "source": [
        "TENSOR.shape"
      ],
      "metadata": {
        "colab": {
          "base_uri": "https://localhost:8080/"
        },
        "id": "83wjFrRsbyrC",
        "outputId": "926c906d-0b3b-469c-d998-f6f33fa14e16"
      },
      "execution_count": 29,
      "outputs": [
        {
          "output_type": "execute_result",
          "data": {
            "text/plain": [
              "torch.Size([3, 3])"
            ]
          },
          "metadata": {},
          "execution_count": 29
        }
      ]
    },
    {
      "cell_type": "code",
      "source": [
        "TENSOR.ndim\n",
        "\n",
        "#still only rows and columns to navigate. Usially number or square brackets starting or ending gives the dimensions"
      ],
      "metadata": {
        "colab": {
          "base_uri": "https://localhost:8080/"
        },
        "id": "W_DJ8Lt3b0Gb",
        "outputId": "999bb976-5e77-4024-bb8b-d7998bf556a2"
      },
      "execution_count": 30,
      "outputs": [
        {
          "output_type": "execute_result",
          "data": {
            "text/plain": [
              "2"
            ]
          },
          "metadata": {},
          "execution_count": 30
        }
      ]
    },
    {
      "cell_type": "code",
      "source": [
        "TENSOR_2= torch.tensor([[[1,4,5],\n",
        "                          [3,8,9],\n",
        "                          [1,2,5]]\n",
        "                        ,\n",
        "                        [[1,5,3],\n",
        "                        [2,5,4],\n",
        "                        [3,6,4]]])"
      ],
      "metadata": {
        "id": "Fff7Hlchb1kA"
      },
      "execution_count": 36,
      "outputs": []
    },
    {
      "cell_type": "code",
      "source": [
        "TENSOR_2.shape"
      ],
      "metadata": {
        "colab": {
          "base_uri": "https://localhost:8080/"
        },
        "id": "YE1SnhyLc0Pq",
        "outputId": "38caa899-bf04-4993-ced4-c55bf96d0087"
      },
      "execution_count": 37,
      "outputs": [
        {
          "output_type": "execute_result",
          "data": {
            "text/plain": [
              "torch.Size([2, 3, 3])"
            ]
          },
          "metadata": {},
          "execution_count": 37
        }
      ]
    },
    {
      "cell_type": "code",
      "source": [
        "TENSOR_2.ndim"
      ],
      "metadata": {
        "colab": {
          "base_uri": "https://localhost:8080/"
        },
        "id": "9Ha83zOzc1k9",
        "outputId": "b941625a-78e1-4bf1-ac8c-1ea446de4201"
      },
      "execution_count": 38,
      "outputs": [
        {
          "output_type": "execute_result",
          "data": {
            "text/plain": [
              "3"
            ]
          },
          "metadata": {},
          "execution_count": 38
        }
      ]
    },
    {
      "cell_type": "code",
      "source": [
        "TENSOR_2[1]"
      ],
      "metadata": {
        "colab": {
          "base_uri": "https://localhost:8080/"
        },
        "id": "4GJQcxz7c3zi",
        "outputId": "20cf021f-538c-4c5f-c150-6148cca7fdcc"
      },
      "execution_count": 39,
      "outputs": [
        {
          "output_type": "execute_result",
          "data": {
            "text/plain": [
              "tensor([[1, 5, 3],\n",
              "        [2, 5, 4],\n",
              "        [3, 6, 4]])"
            ]
          },
          "metadata": {},
          "execution_count": 39
        }
      ]
    },
    {
      "cell_type": "code",
      "source": [
        "TENSOR_2[1][1]"
      ],
      "metadata": {
        "colab": {
          "base_uri": "https://localhost:8080/"
        },
        "id": "vFI6c38KdtlV",
        "outputId": "94f032b4-73a4-4da6-fb91-6e8df0a4a75c"
      },
      "execution_count": 40,
      "outputs": [
        {
          "output_type": "execute_result",
          "data": {
            "text/plain": [
              "tensor([2, 5, 4])"
            ]
          },
          "metadata": {},
          "execution_count": 40
        }
      ]
    },
    {
      "cell_type": "markdown",
      "source": [
        "vector and scalars are usually in lowercase. Matrices and Tensors are names in capitals"
      ],
      "metadata": {
        "id": "uaotLoWcmqDC"
      }
    },
    {
      "cell_type": "markdown",
      "source": [
        "## Random Tensors"
      ],
      "metadata": {
        "id": "zcZlN6xxmwDM"
      }
    },
    {
      "cell_type": "markdown",
      "source": [
        "We need Random tensors for initializing random numbers. These random numbers are updated by feedback and updated accordingly"
      ],
      "metadata": {
        "id": "n5wRcX2jm34z"
      }
    },
    {
      "cell_type": "code",
      "source": [
        "random_tensor = torch.rand(4,3,4)"
      ],
      "metadata": {
        "id": "laiGdbFVnF12"
      },
      "execution_count": 49,
      "outputs": []
    },
    {
      "cell_type": "code",
      "source": [
        "random_tensor"
      ],
      "metadata": {
        "colab": {
          "base_uri": "https://localhost:8080/"
        },
        "id": "K4WTfk3LnLg-",
        "outputId": "a80857ea-5237-4389-c22e-ea5be970154b"
      },
      "execution_count": 50,
      "outputs": [
        {
          "output_type": "execute_result",
          "data": {
            "text/plain": [
              "tensor([[[0.4266, 0.3192, 0.8582, 0.4401],\n",
              "         [0.2106, 0.4440, 0.5684, 0.1160],\n",
              "         [0.4912, 0.0106, 0.4384, 0.1223]],\n",
              "\n",
              "        [[0.0777, 0.7243, 0.3246, 0.7889],\n",
              "         [0.7825, 0.3582, 0.2132, 0.5945],\n",
              "         [0.1879, 0.1238, 0.8608, 0.4446]],\n",
              "\n",
              "        [[0.4110, 0.9674, 0.9245, 0.0986],\n",
              "         [0.1642, 0.1151, 0.9795, 0.0860],\n",
              "         [0.0700, 0.5956, 0.1346, 0.5640]],\n",
              "\n",
              "        [[0.0037, 0.5055, 0.7479, 0.5169],\n",
              "         [0.1673, 0.8899, 0.0620, 0.6418],\n",
              "         [0.8801, 0.8797, 0.5180, 0.7867]]])"
            ]
          },
          "metadata": {},
          "execution_count": 50
        }
      ]
    },
    {
      "cell_type": "code",
      "source": [
        "random_tensor.ndim"
      ],
      "metadata": {
        "colab": {
          "base_uri": "https://localhost:8080/"
        },
        "id": "cc8BshbUnNr2",
        "outputId": "3e556809-2f72-4f2e-88cb-5c77ac9e1f44"
      },
      "execution_count": 51,
      "outputs": [
        {
          "output_type": "execute_result",
          "data": {
            "text/plain": [
              "3"
            ]
          },
          "metadata": {},
          "execution_count": 51
        }
      ]
    },
    {
      "cell_type": "code",
      "source": [
        "\n",
        "#images generally have (r,g,b) values combined --> size * (r,g,b)\n",
        "random_image_tensor= torch.rand(3,224,224)\n",
        "\n",
        "# the 3 here represents the color channels whose combination can get almost every color"
      ],
      "metadata": {
        "id": "tBXAb3voniq0"
      },
      "execution_count": 56,
      "outputs": []
    },
    {
      "cell_type": "code",
      "source": [
        "random_image_tensor.shape"
      ],
      "metadata": {
        "colab": {
          "base_uri": "https://localhost:8080/"
        },
        "id": "oM5uB823nTwC",
        "outputId": "9f46343d-ec44-4ee8-eabe-f2b72795c5e5"
      },
      "execution_count": 57,
      "outputs": [
        {
          "output_type": "execute_result",
          "data": {
            "text/plain": [
              "torch.Size([3, 224, 224])"
            ]
          },
          "metadata": {},
          "execution_count": 57
        }
      ]
    },
    {
      "cell_type": "markdown",
      "source": [
        "#tensor of zeros or ones"
      ],
      "metadata": {
        "id": "SRh1n4ahoDLr"
      }
    },
    {
      "cell_type": "code",
      "source": [
        "zeros = torch.zeros(3,1)"
      ],
      "metadata": {
        "id": "SP3GA-Bdob9_"
      },
      "execution_count": 74,
      "outputs": []
    },
    {
      "cell_type": "code",
      "source": [
        "zeros"
      ],
      "metadata": {
        "colab": {
          "base_uri": "https://localhost:8080/"
        },
        "id": "IovGDy5MpRep",
        "outputId": "3c41a05a-4a37-40a8-86a6-4f88638e75fd"
      },
      "execution_count": 75,
      "outputs": [
        {
          "output_type": "execute_result",
          "data": {
            "text/plain": [
              "tensor([[0.],\n",
              "        [0.],\n",
              "        [0.]])"
            ]
          },
          "metadata": {},
          "execution_count": 75
        }
      ]
    },
    {
      "cell_type": "code",
      "source": [
        "zeros.dtype"
      ],
      "metadata": {
        "colab": {
          "base_uri": "https://localhost:8080/"
        },
        "id": "7wO3066rpT2h",
        "outputId": "6a2cc714-1618-424a-ad37-856f9d98cf89"
      },
      "execution_count": 76,
      "outputs": [
        {
          "output_type": "execute_result",
          "data": {
            "text/plain": [
              "torch.float32"
            ]
          },
          "metadata": {},
          "execution_count": 76
        }
      ]
    },
    {
      "cell_type": "markdown",
      "source": [
        "We usually see zeros for masking!\n",
        "\n",
        "Default datatype is float"
      ],
      "metadata": {
        "id": "9lhzvKD9onAo"
      }
    },
    {
      "cell_type": "code",
      "source": [
        "random_tensor = torch.rand(3,4)"
      ],
      "metadata": {
        "id": "vcLPKIkIp3F2"
      },
      "execution_count": 77,
      "outputs": []
    },
    {
      "cell_type": "code",
      "source": [
        "random_tensor"
      ],
      "metadata": {
        "colab": {
          "base_uri": "https://localhost:8080/"
        },
        "id": "2OpztrJEp6Ro",
        "outputId": "c7c69d5f-615b-42e3-8b51-661d2a1e629d"
      },
      "execution_count": 78,
      "outputs": [
        {
          "output_type": "execute_result",
          "data": {
            "text/plain": [
              "tensor([[0.3367, 0.2726, 0.5329, 0.2699],\n",
              "        [0.4689, 0.9027, 0.5801, 0.3239],\n",
              "        [0.7530, 0.6985, 0.6738, 0.4660]])"
            ]
          },
          "metadata": {},
          "execution_count": 78
        }
      ]
    },
    {
      "cell_type": "code",
      "source": [
        "zeros*random_tensor\n",
        "#element wise\n",
        "# it broad casts to the other columns"
      ],
      "metadata": {
        "colab": {
          "base_uri": "https://localhost:8080/"
        },
        "id": "hh0HIoEEov9u",
        "outputId": "34719011-6614-40fe-c884-74f1b9dd08b4"
      },
      "execution_count": 79,
      "outputs": [
        {
          "output_type": "execute_result",
          "data": {
            "text/plain": [
              "tensor([[0., 0., 0., 0.],\n",
              "        [0., 0., 0., 0.],\n",
              "        [0., 0., 0., 0.]])"
            ]
          },
          "metadata": {},
          "execution_count": 79
        }
      ]
    },
    {
      "cell_type": "markdown",
      "source": [
        "Ones"
      ],
      "metadata": {
        "id": "sChhLTnlpGmu"
      }
    },
    {
      "cell_type": "code",
      "source": [
        "ones=torch.ones(3,1)*2"
      ],
      "metadata": {
        "id": "d1c-vxX0qWqJ"
      },
      "execution_count": 88,
      "outputs": []
    },
    {
      "cell_type": "code",
      "source": [
        "ones"
      ],
      "metadata": {
        "colab": {
          "base_uri": "https://localhost:8080/"
        },
        "id": "j1vZNnuuqZPA",
        "outputId": "88ef37cd-16b4-494e-828e-61f4ab678343"
      },
      "execution_count": 89,
      "outputs": [
        {
          "output_type": "execute_result",
          "data": {
            "text/plain": [
              "tensor([[2.],\n",
              "        [2.],\n",
              "        [2.]])"
            ]
          },
          "metadata": {},
          "execution_count": 89
        }
      ]
    },
    {
      "cell_type": "code",
      "source": [
        "ones*random_tensor"
      ],
      "metadata": {
        "colab": {
          "base_uri": "https://localhost:8080/"
        },
        "id": "GfosXdmEqZzC",
        "outputId": "532c7221-9359-4cf1-f38b-9282296a31b8"
      },
      "execution_count": 90,
      "outputs": [
        {
          "output_type": "execute_result",
          "data": {
            "text/plain": [
              "tensor([[0.6734, 0.5451, 1.0659, 0.5397],\n",
              "        [0.9378, 1.8054, 1.1603, 0.6477],\n",
              "        [1.5060, 1.3969, 1.3476, 0.9320]])"
            ]
          },
          "metadata": {},
          "execution_count": 90
        }
      ]
    },
    {
      "cell_type": "markdown",
      "source": [
        "#RANGE"
      ],
      "metadata": {
        "id": "78EwXw01qhCK"
      }
    },
    {
      "cell_type": "code",
      "source": [
        "torch.range(1,16)"
      ],
      "metadata": {
        "colab": {
          "base_uri": "https://localhost:8080/"
        },
        "id": "Xmri_fjLrDKP",
        "outputId": "8e60ffa1-bcde-4030-cd9a-5bdd59100d30"
      },
      "execution_count": 91,
      "outputs": [
        {
          "output_type": "stream",
          "name": "stderr",
          "text": [
            "<ipython-input-91-3e8b614ad210>:1: UserWarning: torch.range is deprecated and will be removed in a future release because its behavior is inconsistent with Python's range builtin. Instead, use torch.arange, which produces values in [start, end).\n",
            "  torch.range(1,16)\n"
          ]
        },
        {
          "output_type": "execute_result",
          "data": {
            "text/plain": [
              "tensor([ 1.,  2.,  3.,  4.,  5.,  6.,  7.,  8.,  9., 10., 11., 12., 13., 14.,\n",
              "        15., 16.])"
            ]
          },
          "metadata": {},
          "execution_count": 91
        }
      ]
    },
    {
      "cell_type": "code",
      "source": [
        "torch.arange(1,16)"
      ],
      "metadata": {
        "colab": {
          "base_uri": "https://localhost:8080/"
        },
        "id": "pAF4hfbTrHN0",
        "outputId": "1e178b49-4797-42b8-d725-d7351682a314"
      },
      "execution_count": 92,
      "outputs": [
        {
          "output_type": "execute_result",
          "data": {
            "text/plain": [
              "tensor([ 1,  2,  3,  4,  5,  6,  7,  8,  9, 10, 11, 12, 13, 14, 15])"
            ]
          },
          "metadata": {},
          "execution_count": 92
        }
      ]
    },
    {
      "cell_type": "code",
      "source": [
        "torch.arange(1,16,3)"
      ],
      "metadata": {
        "colab": {
          "base_uri": "https://localhost:8080/"
        },
        "id": "qnVzx_LdrMlj",
        "outputId": "c3c9bc4f-6133-4f1b-8d35-f3f57714c71d"
      },
      "execution_count": 93,
      "outputs": [
        {
          "output_type": "execute_result",
          "data": {
            "text/plain": [
              "tensor([ 1,  4,  7, 10, 13])"
            ]
          },
          "metadata": {},
          "execution_count": 93
        }
      ]
    },
    {
      "cell_type": "markdown",
      "source": [
        "#Tensor\\s LIKE"
      ],
      "metadata": {
        "id": "eZhFlkzTrTEg"
      }
    },
    {
      "cell_type": "markdown",
      "source": [
        "Want to create a tensor with the same shape as another, we can use tensor like"
      ],
      "metadata": {
        "id": "wZWkxga_rfpA"
      }
    },
    {
      "cell_type": "code",
      "source": [
        "new_tensor_zeros= torch.zeros_like(input=random_tensor)"
      ],
      "metadata": {
        "id": "AXmkLJ48rqMs"
      },
      "execution_count": 100,
      "outputs": []
    },
    {
      "cell_type": "code",
      "source": [
        "new_tensor_zeros"
      ],
      "metadata": {
        "colab": {
          "base_uri": "https://localhost:8080/"
        },
        "id": "wEX8IqCSr-6d",
        "outputId": "775d4235-9e9a-4653-8d48-e7f06ed4c6b1"
      },
      "execution_count": 101,
      "outputs": [
        {
          "output_type": "execute_result",
          "data": {
            "text/plain": [
              "tensor([[0., 0., 0., 0.],\n",
              "        [0., 0., 0., 0.],\n",
              "        [0., 0., 0., 0.]])"
            ]
          },
          "metadata": {},
          "execution_count": 101
        }
      ]
    },
    {
      "cell_type": "code",
      "source": [
        "new_tensor_rand= torch.rand_like(input=random_tensor)\n",
        "new_tensor_rand"
      ],
      "metadata": {
        "colab": {
          "base_uri": "https://localhost:8080/"
        },
        "id": "gerVKWCQsvkV",
        "outputId": "0d68c1f5-b937-40ca-f7cb-d2a42ed64f69"
      },
      "execution_count": 103,
      "outputs": [
        {
          "output_type": "execute_result",
          "data": {
            "text/plain": [
              "tensor([[0.5552, 0.6621, 0.4967, 0.1565],\n",
              "        [0.2800, 0.8042, 0.4249, 0.6502],\n",
              "        [0.1516, 0.7520, 0.7088, 0.2619]])"
            ]
          },
          "metadata": {},
          "execution_count": 103
        }
      ]
    },
    {
      "cell_type": "code",
      "source": [
        "new_tensor_ones= torch.ones_like(input=random_tensor)\n",
        "new_tensor_ones"
      ],
      "metadata": {
        "colab": {
          "base_uri": "https://localhost:8080/"
        },
        "id": "s-GGAq1ys0Bu",
        "outputId": "fdf7eadd-3b22-4394-9810-a4daa963d2c9"
      },
      "execution_count": 104,
      "outputs": [
        {
          "output_type": "execute_result",
          "data": {
            "text/plain": [
              "tensor([[1., 1., 1., 1.],\n",
              "        [1., 1., 1., 1.],\n",
              "        [1., 1., 1., 1.]])"
            ]
          },
          "metadata": {},
          "execution_count": 104
        }
      ]
    },
    {
      "cell_type": "markdown",
      "source": [
        "#DATATYPES"
      ],
      "metadata": {
        "id": "QGhRb_VTsQ1v"
      }
    },
    {
      "cell_type": "markdown",
      "source": [
        "default --> float 32 even if we speciy none.\n",
        "\n",
        "We will mostly run into the error wrt to datatype, shape, and device"
      ],
      "metadata": {
        "id": "3Rrg40InseZV"
      }
    },
    {
      "cell_type": "code",
      "source": [
        "\n",
        "t1= torch.rand(3,3,\n",
        "               dtype=None, #datatype 32 and 16 bit floats most used\n",
        "               device=None, # default = cpu\n",
        "               requires_grad=False) #this is to track the gradients -- will get into it int he next bits\n",
        "t1.dtype"
      ],
      "metadata": {
        "colab": {
          "base_uri": "https://localhost:8080/"
        },
        "id": "rW5lu0L0si_X",
        "outputId": "0586da3a-fb91-4cfe-ab6c-cf4564d7ab1d"
      },
      "execution_count": 105,
      "outputs": [
        {
          "output_type": "execute_result",
          "data": {
            "text/plain": [
              "torch.float32"
            ]
          },
          "metadata": {},
          "execution_count": 105
        }
      ]
    },
    {
      "cell_type": "code",
      "source": [
        "t1"
      ],
      "metadata": {
        "colab": {
          "base_uri": "https://localhost:8080/"
        },
        "id": "hL2eYWgZvQIy",
        "outputId": "df96520d-16d7-4b45-a28c-61ee04f540d9"
      },
      "execution_count": 111,
      "outputs": [
        {
          "output_type": "execute_result",
          "data": {
            "text/plain": [
              "tensor([[0.9432, 0.1794, 0.4638],\n",
              "        [0.3706, 0.3061, 0.6213],\n",
              "        [0.3251, 0.5134, 0.7887]])"
            ]
          },
          "metadata": {},
          "execution_count": 111
        }
      ]
    },
    {
      "cell_type": "markdown",
      "source": [
        "The above parmeters are the most imp ones when we create tensors"
      ],
      "metadata": {
        "id": "em4bnSxJtHf1"
      }
    },
    {
      "cell_type": "markdown",
      "source": [
        "the 32 bit float is of higher precision hence more detail. Each number has 32 bits.\n",
        "Number that take up less memory , we can change it to 16 bits."
      ],
      "metadata": {
        "id": "mDK-ei09teHp"
      }
    },
    {
      "cell_type": "code",
      "source": [
        "#converting 32 to 16 bit float datatype\n",
        "float_16_tensor=t1.type(torch.float16)\n",
        "float_16_tensor.dtype"
      ],
      "metadata": {
        "colab": {
          "base_uri": "https://localhost:8080/"
        },
        "id": "-Z6cn8S-tvWK",
        "outputId": "ee405c16-794c-497b-eee3-732879b72d96"
      },
      "execution_count": 107,
      "outputs": [
        {
          "output_type": "execute_result",
          "data": {
            "text/plain": [
              "torch.float16"
            ]
          },
          "metadata": {},
          "execution_count": 107
        }
      ]
    },
    {
      "cell_type": "code",
      "source": [
        "output=float_16_tensor * t1\n",
        "output\n",
        "#elemetwise not dot product"
      ],
      "metadata": {
        "colab": {
          "base_uri": "https://localhost:8080/"
        },
        "id": "fZFLOPImu4z-",
        "outputId": "3005528c-f38b-4e50-c416-563a52721c23"
      },
      "execution_count": 110,
      "outputs": [
        {
          "output_type": "execute_result",
          "data": {
            "text/plain": [
              "tensor([[0.8898, 0.0322, 0.2151],\n",
              "        [0.1373, 0.0937, 0.3862],\n",
              "        [0.1057, 0.2634, 0.6220]])"
            ]
          },
          "metadata": {},
          "execution_count": 110
        }
      ]
    },
    {
      "cell_type": "code",
      "source": [
        "output.dtype #typrcasted to the higher one"
      ],
      "metadata": {
        "colab": {
          "base_uri": "https://localhost:8080/"
        },
        "id": "wu011K2jvIdC",
        "outputId": "be86b2e6-3cb7-4bd2-ce2d-bc048bab18a8"
      },
      "execution_count": 112,
      "outputs": [
        {
          "output_type": "execute_result",
          "data": {
            "text/plain": [
              "torch.float32"
            ]
          },
          "metadata": {},
          "execution_count": 112
        }
      ]
    },
    {
      "cell_type": "markdown",
      "source": [
        "#other datatypes\n",
        "https://pytorch.org/docs/stable/tensors.html"
      ],
      "metadata": {
        "id": "lSZus0n0vWm4"
      }
    }
  ]
}