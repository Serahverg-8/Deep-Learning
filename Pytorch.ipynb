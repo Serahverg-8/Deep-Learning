{
  "nbformat": 4,
  "nbformat_minor": 0,
  "metadata": {
    "colab": {
      "provenance": [],
      "toc_visible": true,
      "gpuType": "T4",
      "authorship_tag": "ABX9TyN8lCZoRK/Tvwq/y3hMMDzR",
      "include_colab_link": true
    },
    "kernelspec": {
      "name": "python3",
      "display_name": "Python 3"
    },
    "language_info": {
      "name": "python"
    },
    "accelerator": "GPU"
  },
  "cells": [
    {
      "cell_type": "markdown",
      "metadata": {
        "id": "view-in-github",
        "colab_type": "text"
      },
      "source": [
        "<a href=\"https://colab.research.google.com/github/Serahverg-8/Deep-Learning/blob/main/Pytorch.ipynb\" target=\"_parent\"><img src=\"https://colab.research.google.com/assets/colab-badge.svg\" alt=\"Open In Colab\"/></a>"
      ]
    },
    {
      "cell_type": "code",
      "execution_count": 1,
      "metadata": {
        "colab": {
          "base_uri": "https://localhost:8080/",
          "height": 35
        },
        "id": "zdZxCxzxmxhV",
        "outputId": "5c3c11b9-43bc-45d4-8133-08d197153dda"
      },
      "outputs": [
        {
          "output_type": "execute_result",
          "data": {
            "text/plain": [
              "'2.0.1+cu118'"
            ],
            "application/vnd.google.colaboratory.intrinsic+json": {
              "type": "string"
            }
          },
          "metadata": {},
          "execution_count": 1
        }
      ],
      "source": [
        "import torch\n",
        "import pandas as pd\n",
        "import numpy as np\n",
        "import matplotlib.pyplot as plt\n",
        "%matplotlib inline\n",
        "torch.__version__"
      ]
    },
    {
      "cell_type": "markdown",
      "source": [
        "torch.tensor class : A torch.Tensor is a multi-dimensional matrix containing elements of a single data type.\n",
        "\n",
        "torch.tensor() always copies data. If you have a Tensor data and just want to change its requires_grad flag, use requires_grad_() or detach() to avoid a copy. If you have a numpy array and want to avoid a copy, use torch.as_tensor()."
      ],
      "metadata": {
        "id": "u07RCST6nQgD"
      }
    },
    {
      "cell_type": "code",
      "source": [
        "\n",
        "#intro to tensors\n",
        "\n",
        "#creating tensors - torch.tensor"
      ],
      "metadata": {
        "id": "D2pm4OufHp-5"
      },
      "execution_count": 2,
      "outputs": []
    },
    {
      "cell_type": "code",
      "source": [
        "#scalar tensor\n",
        "\n",
        "scalar=torch.tensor(7)\n",
        "scalar"
      ],
      "metadata": {
        "colab": {
          "base_uri": "https://localhost:8080/"
        },
        "id": "II8tdGXQUivV",
        "outputId": "8084eade-9bf4-4385-815b-c9bd0a770790"
      },
      "execution_count": 3,
      "outputs": [
        {
          "output_type": "execute_result",
          "data": {
            "text/plain": [
              "tensor(7)"
            ]
          },
          "metadata": {},
          "execution_count": 3
        }
      ]
    },
    {
      "cell_type": "code",
      "source": [
        "#attributes:\n",
        "scalar.ndim\n",
        "#no dimensions"
      ],
      "metadata": {
        "colab": {
          "base_uri": "https://localhost:8080/"
        },
        "id": "STFZ0H4iU1zv",
        "outputId": "1132d796-0d50-438e-acbb-625777fcedc3"
      },
      "execution_count": 4,
      "outputs": [
        {
          "output_type": "execute_result",
          "data": {
            "text/plain": [
              "0"
            ]
          },
          "metadata": {},
          "execution_count": 4
        }
      ]
    },
    {
      "cell_type": "code",
      "source": [
        "scalar.item()\n",
        "\n",
        "#returns the scalar value. This only works for scalar"
      ],
      "metadata": {
        "colab": {
          "base_uri": "https://localhost:8080/"
        },
        "id": "4PKXq8ciaCJZ",
        "outputId": "04744cee-b8be-422e-92b2-814d86d34f25"
      },
      "execution_count": 5,
      "outputs": [
        {
          "output_type": "execute_result",
          "data": {
            "text/plain": [
              "7"
            ]
          },
          "metadata": {},
          "execution_count": 5
        }
      ]
    },
    {
      "cell_type": "code",
      "source": [
        "## Vector -- > magnitude and direction (usually one dimension aka one feature taking up one axis on the graph). It usually has more than one value"
      ],
      "metadata": {
        "id": "nPJBR3ssaGpm"
      },
      "execution_count": 6,
      "outputs": []
    },
    {
      "cell_type": "code",
      "source": [
        "vector=torch.tensor([7,2])"
      ],
      "metadata": {
        "id": "cjK0l5bzamLs"
      },
      "execution_count": 7,
      "outputs": []
    },
    {
      "cell_type": "code",
      "source": [
        "vector.ndim\n",
        "# vector is 1D . just needs rows to navigate to the value"
      ],
      "metadata": {
        "colab": {
          "base_uri": "https://localhost:8080/"
        },
        "id": "QZi6k8R2aq-N",
        "outputId": "6896d0bc-eaa8-4ecc-d08b-7b6a39dfeee2"
      },
      "execution_count": 8,
      "outputs": [
        {
          "output_type": "execute_result",
          "data": {
            "text/plain": [
              "1"
            ]
          },
          "metadata": {},
          "execution_count": 8
        }
      ]
    },
    {
      "cell_type": "code",
      "source": [
        "vector.shape"
      ],
      "metadata": {
        "colab": {
          "base_uri": "https://localhost:8080/"
        },
        "id": "4I09y-dJatk7",
        "outputId": "a8eb27ba-2085-49bc-fa28-434f23b52e3e"
      },
      "execution_count": 9,
      "outputs": [
        {
          "output_type": "execute_result",
          "data": {
            "text/plain": [
              "torch.Size([2])"
            ]
          },
          "metadata": {},
          "execution_count": 9
        }
      ]
    },
    {
      "cell_type": "code",
      "source": [
        "#like an array it indicates its a 2x1 vector"
      ],
      "metadata": {
        "id": "a5ebAqgkaxLI"
      },
      "execution_count": 10,
      "outputs": []
    },
    {
      "cell_type": "code",
      "source": [
        "MATRIX = torch.tensor([[2,5],[3,6]])"
      ],
      "metadata": {
        "id": "_k4zTHzEbE47"
      },
      "execution_count": 11,
      "outputs": []
    },
    {
      "cell_type": "code",
      "source": [
        "MATRIX.ndim\n",
        "# matrix is 2Dimensional ---> rows and columns to navigate"
      ],
      "metadata": {
        "colab": {
          "base_uri": "https://localhost:8080/"
        },
        "id": "XQpNJdGObQi3",
        "outputId": "253e740f-e613-4da5-ee4b-04ad4c09da8b"
      },
      "execution_count": 12,
      "outputs": [
        {
          "output_type": "execute_result",
          "data": {
            "text/plain": [
              "2"
            ]
          },
          "metadata": {},
          "execution_count": 12
        }
      ]
    },
    {
      "cell_type": "code",
      "source": [
        "MATRIX.shape"
      ],
      "metadata": {
        "colab": {
          "base_uri": "https://localhost:8080/"
        },
        "id": "WsKRlgWrbRzW",
        "outputId": "4d899a3d-30a8-4eed-c87d-e5ef26e4b9e1"
      },
      "execution_count": 13,
      "outputs": [
        {
          "output_type": "execute_result",
          "data": {
            "text/plain": [
              "torch.Size([2, 2])"
            ]
          },
          "metadata": {},
          "execution_count": 13
        }
      ]
    },
    {
      "cell_type": "code",
      "source": [
        "MATRIX[0]"
      ],
      "metadata": {
        "colab": {
          "base_uri": "https://localhost:8080/"
        },
        "id": "YzMbcveJbYi9",
        "outputId": "dbfb57b8-2692-46b9-e9ee-673ec586a7da"
      },
      "execution_count": 14,
      "outputs": [
        {
          "output_type": "execute_result",
          "data": {
            "text/plain": [
              "tensor([2, 5])"
            ]
          },
          "metadata": {},
          "execution_count": 14
        }
      ]
    },
    {
      "cell_type": "code",
      "source": [
        "MATRIX[1][0]"
      ],
      "metadata": {
        "colab": {
          "base_uri": "https://localhost:8080/"
        },
        "id": "APHRyouAbfTf",
        "outputId": "4e6de854-9b1c-4b87-a36d-1a743eea445b"
      },
      "execution_count": 15,
      "outputs": [
        {
          "output_type": "execute_result",
          "data": {
            "text/plain": [
              "tensor(3)"
            ]
          },
          "metadata": {},
          "execution_count": 15
        }
      ]
    },
    {
      "cell_type": "code",
      "source": [
        "TENSOR = torch.tensor([[1,4,5],\n",
        " [3,8,9],\n",
        "  [1,2,5]])"
      ],
      "metadata": {
        "id": "89oFqQAZbiqr"
      },
      "execution_count": 16,
      "outputs": []
    },
    {
      "cell_type": "code",
      "source": [
        "TENSOR.shape"
      ],
      "metadata": {
        "colab": {
          "base_uri": "https://localhost:8080/"
        },
        "id": "83wjFrRsbyrC",
        "outputId": "070b4a27-4a0d-4edf-df6b-2e03b37fbc05"
      },
      "execution_count": 17,
      "outputs": [
        {
          "output_type": "execute_result",
          "data": {
            "text/plain": [
              "torch.Size([3, 3])"
            ]
          },
          "metadata": {},
          "execution_count": 17
        }
      ]
    },
    {
      "cell_type": "code",
      "source": [
        "TENSOR.ndim\n",
        "\n",
        "#still only rows and columns to navigate. Usially number or square brackets starting or ending gives the dimensions"
      ],
      "metadata": {
        "colab": {
          "base_uri": "https://localhost:8080/"
        },
        "id": "W_DJ8Lt3b0Gb",
        "outputId": "cf6e5f87-7526-4ab2-bc74-a3af6b3c735e"
      },
      "execution_count": 18,
      "outputs": [
        {
          "output_type": "execute_result",
          "data": {
            "text/plain": [
              "2"
            ]
          },
          "metadata": {},
          "execution_count": 18
        }
      ]
    },
    {
      "cell_type": "code",
      "source": [
        "TENSOR_2= torch.tensor([[[1,4,5],\n",
        "                          [3,8,9],\n",
        "                          [1,2,5]]\n",
        "                        ,\n",
        "                        [[1,5,3],\n",
        "                        [2,5,4],\n",
        "                        [3,6,4]]])"
      ],
      "metadata": {
        "id": "Fff7Hlchb1kA"
      },
      "execution_count": 19,
      "outputs": []
    },
    {
      "cell_type": "code",
      "source": [
        "TENSOR_2.shape"
      ],
      "metadata": {
        "colab": {
          "base_uri": "https://localhost:8080/"
        },
        "id": "YE1SnhyLc0Pq",
        "outputId": "5d31e6a4-cebf-455b-8bea-2e04b7e8f1ec"
      },
      "execution_count": 20,
      "outputs": [
        {
          "output_type": "execute_result",
          "data": {
            "text/plain": [
              "torch.Size([2, 3, 3])"
            ]
          },
          "metadata": {},
          "execution_count": 20
        }
      ]
    },
    {
      "cell_type": "code",
      "source": [
        "TENSOR_2.ndim"
      ],
      "metadata": {
        "colab": {
          "base_uri": "https://localhost:8080/"
        },
        "id": "9Ha83zOzc1k9",
        "outputId": "7853b032-2340-45a4-c56b-69746152ecea"
      },
      "execution_count": 21,
      "outputs": [
        {
          "output_type": "execute_result",
          "data": {
            "text/plain": [
              "3"
            ]
          },
          "metadata": {},
          "execution_count": 21
        }
      ]
    },
    {
      "cell_type": "code",
      "source": [
        "TENSOR_2[1]"
      ],
      "metadata": {
        "colab": {
          "base_uri": "https://localhost:8080/"
        },
        "id": "4GJQcxz7c3zi",
        "outputId": "f81310c4-f3ca-4658-a889-c2348e2e2d27"
      },
      "execution_count": 22,
      "outputs": [
        {
          "output_type": "execute_result",
          "data": {
            "text/plain": [
              "tensor([[1, 5, 3],\n",
              "        [2, 5, 4],\n",
              "        [3, 6, 4]])"
            ]
          },
          "metadata": {},
          "execution_count": 22
        }
      ]
    },
    {
      "cell_type": "code",
      "source": [
        "TENSOR_2[1][1]"
      ],
      "metadata": {
        "colab": {
          "base_uri": "https://localhost:8080/"
        },
        "id": "vFI6c38KdtlV",
        "outputId": "7ef7897d-5ea2-4e23-90f1-6bccf0754acc"
      },
      "execution_count": 23,
      "outputs": [
        {
          "output_type": "execute_result",
          "data": {
            "text/plain": [
              "tensor([2, 5, 4])"
            ]
          },
          "metadata": {},
          "execution_count": 23
        }
      ]
    },
    {
      "cell_type": "markdown",
      "source": [
        "vector and scalars are usually in lowercase. Matrices and Tensors are names in capitals"
      ],
      "metadata": {
        "id": "uaotLoWcmqDC"
      }
    },
    {
      "cell_type": "markdown",
      "source": [
        "## Random Tensors"
      ],
      "metadata": {
        "id": "zcZlN6xxmwDM"
      }
    },
    {
      "cell_type": "markdown",
      "source": [
        "We need Random tensors for initializing random numbers. These random numbers are updated by feedback and updated accordingly"
      ],
      "metadata": {
        "id": "n5wRcX2jm34z"
      }
    },
    {
      "cell_type": "code",
      "source": [
        "random_tensor = torch.rand(4,3,4)"
      ],
      "metadata": {
        "id": "laiGdbFVnF12"
      },
      "execution_count": 24,
      "outputs": []
    },
    {
      "cell_type": "code",
      "source": [
        "random_tensor"
      ],
      "metadata": {
        "colab": {
          "base_uri": "https://localhost:8080/"
        },
        "id": "K4WTfk3LnLg-",
        "outputId": "3c937c5b-3ed2-4169-d9c2-c8fb374d1472"
      },
      "execution_count": 25,
      "outputs": [
        {
          "output_type": "execute_result",
          "data": {
            "text/plain": [
              "tensor([[[0.5515, 0.7263, 0.2682, 0.3163],\n",
              "         [0.2438, 0.3312, 0.2300, 0.1841],\n",
              "         [0.8873, 0.3298, 0.4071, 0.1626]],\n",
              "\n",
              "        [[0.9127, 0.8541, 0.3730, 0.8558],\n",
              "         [0.0768, 0.6424, 0.4211, 0.4993],\n",
              "         [0.9764, 0.4986, 0.2247, 0.4645]],\n",
              "\n",
              "        [[0.3747, 0.4806, 0.6228, 0.3213],\n",
              "         [0.6434, 0.4257, 0.7607, 0.5859],\n",
              "         [0.2720, 0.9301, 0.8806, 0.6726]],\n",
              "\n",
              "        [[0.4720, 0.3371, 0.8637, 0.2848],\n",
              "         [0.1665, 0.1379, 0.3087, 0.1398],\n",
              "         [0.7760, 0.7324, 0.2040, 0.9042]]])"
            ]
          },
          "metadata": {},
          "execution_count": 25
        }
      ]
    },
    {
      "cell_type": "code",
      "source": [
        "random_tensor.ndim"
      ],
      "metadata": {
        "colab": {
          "base_uri": "https://localhost:8080/"
        },
        "id": "cc8BshbUnNr2",
        "outputId": "a836aef9-bee9-46d6-d0d3-dbce8d45c06c"
      },
      "execution_count": 26,
      "outputs": [
        {
          "output_type": "execute_result",
          "data": {
            "text/plain": [
              "3"
            ]
          },
          "metadata": {},
          "execution_count": 26
        }
      ]
    },
    {
      "cell_type": "code",
      "source": [
        "\n",
        "#images generally have (r,g,b) values combined --> size * (r,g,b)\n",
        "random_image_tensor= torch.rand(3,224,224)\n",
        "\n",
        "# the 3 here represents the color channels whose combination can get almost every color"
      ],
      "metadata": {
        "id": "tBXAb3voniq0"
      },
      "execution_count": 27,
      "outputs": []
    },
    {
      "cell_type": "code",
      "source": [
        "random_image_tensor.shape"
      ],
      "metadata": {
        "colab": {
          "base_uri": "https://localhost:8080/"
        },
        "id": "oM5uB823nTwC",
        "outputId": "b59d29eb-a134-4fe9-8406-41e7dd9491dc"
      },
      "execution_count": 28,
      "outputs": [
        {
          "output_type": "execute_result",
          "data": {
            "text/plain": [
              "torch.Size([3, 224, 224])"
            ]
          },
          "metadata": {},
          "execution_count": 28
        }
      ]
    },
    {
      "cell_type": "markdown",
      "source": [
        "#tensor of zeros or ones"
      ],
      "metadata": {
        "id": "SRh1n4ahoDLr"
      }
    },
    {
      "cell_type": "code",
      "source": [
        "zeros = torch.zeros(3,1)"
      ],
      "metadata": {
        "id": "SP3GA-Bdob9_"
      },
      "execution_count": 29,
      "outputs": []
    },
    {
      "cell_type": "code",
      "source": [
        "zeros"
      ],
      "metadata": {
        "colab": {
          "base_uri": "https://localhost:8080/"
        },
        "id": "IovGDy5MpRep",
        "outputId": "8d32fc78-8d41-4bf9-f5b1-22480c21c98d"
      },
      "execution_count": 30,
      "outputs": [
        {
          "output_type": "execute_result",
          "data": {
            "text/plain": [
              "tensor([[0.],\n",
              "        [0.],\n",
              "        [0.]])"
            ]
          },
          "metadata": {},
          "execution_count": 30
        }
      ]
    },
    {
      "cell_type": "code",
      "source": [
        "zeros.dtype"
      ],
      "metadata": {
        "colab": {
          "base_uri": "https://localhost:8080/"
        },
        "id": "7wO3066rpT2h",
        "outputId": "dbd9569b-5020-4203-a6ba-4f3ec0702b23"
      },
      "execution_count": 31,
      "outputs": [
        {
          "output_type": "execute_result",
          "data": {
            "text/plain": [
              "torch.float32"
            ]
          },
          "metadata": {},
          "execution_count": 31
        }
      ]
    },
    {
      "cell_type": "markdown",
      "source": [
        "We usually see zeros for masking!\n",
        "\n",
        "Default datatype is float"
      ],
      "metadata": {
        "id": "9lhzvKD9onAo"
      }
    },
    {
      "cell_type": "code",
      "source": [
        "random_tensor = torch.rand(3,4)"
      ],
      "metadata": {
        "id": "vcLPKIkIp3F2"
      },
      "execution_count": 32,
      "outputs": []
    },
    {
      "cell_type": "code",
      "source": [
        "random_tensor"
      ],
      "metadata": {
        "colab": {
          "base_uri": "https://localhost:8080/"
        },
        "id": "2OpztrJEp6Ro",
        "outputId": "0b2032fc-8e9e-499e-97fa-d0cc6c43a47c"
      },
      "execution_count": 33,
      "outputs": [
        {
          "output_type": "execute_result",
          "data": {
            "text/plain": [
              "tensor([[0.2347, 0.6046, 0.5405, 0.4805],\n",
              "        [0.6736, 0.0888, 0.9962, 0.7914],\n",
              "        [0.7544, 0.1512, 0.7738, 0.3715]])"
            ]
          },
          "metadata": {},
          "execution_count": 33
        }
      ]
    },
    {
      "cell_type": "code",
      "source": [
        "zeros*random_tensor\n",
        "#element wise\n",
        "# it broad casts to the other columns"
      ],
      "metadata": {
        "colab": {
          "base_uri": "https://localhost:8080/"
        },
        "id": "hh0HIoEEov9u",
        "outputId": "13ca1d96-cd0d-49e5-9d38-a3d797758962"
      },
      "execution_count": 34,
      "outputs": [
        {
          "output_type": "execute_result",
          "data": {
            "text/plain": [
              "tensor([[0., 0., 0., 0.],\n",
              "        [0., 0., 0., 0.],\n",
              "        [0., 0., 0., 0.]])"
            ]
          },
          "metadata": {},
          "execution_count": 34
        }
      ]
    },
    {
      "cell_type": "markdown",
      "source": [
        "Ones"
      ],
      "metadata": {
        "id": "sChhLTnlpGmu"
      }
    },
    {
      "cell_type": "code",
      "source": [
        "ones=torch.ones(3,1)*2"
      ],
      "metadata": {
        "id": "d1c-vxX0qWqJ"
      },
      "execution_count": 35,
      "outputs": []
    },
    {
      "cell_type": "code",
      "source": [
        "ones"
      ],
      "metadata": {
        "colab": {
          "base_uri": "https://localhost:8080/"
        },
        "id": "j1vZNnuuqZPA",
        "outputId": "4ace9dea-89f4-47af-c857-f505828b4682"
      },
      "execution_count": 36,
      "outputs": [
        {
          "output_type": "execute_result",
          "data": {
            "text/plain": [
              "tensor([[2.],\n",
              "        [2.],\n",
              "        [2.]])"
            ]
          },
          "metadata": {},
          "execution_count": 36
        }
      ]
    },
    {
      "cell_type": "code",
      "source": [
        "ones*random_tensor"
      ],
      "metadata": {
        "colab": {
          "base_uri": "https://localhost:8080/"
        },
        "id": "GfosXdmEqZzC",
        "outputId": "5904e0f7-49f5-4e20-a91f-3568d51c396f"
      },
      "execution_count": 37,
      "outputs": [
        {
          "output_type": "execute_result",
          "data": {
            "text/plain": [
              "tensor([[0.4694, 1.2091, 1.0810, 0.9610],\n",
              "        [1.3472, 0.1775, 1.9923, 1.5828],\n",
              "        [1.5088, 0.3025, 1.5476, 0.7430]])"
            ]
          },
          "metadata": {},
          "execution_count": 37
        }
      ]
    },
    {
      "cell_type": "markdown",
      "source": [
        "#RANGE"
      ],
      "metadata": {
        "id": "78EwXw01qhCK"
      }
    },
    {
      "cell_type": "code",
      "source": [
        "torch.range(1,16)"
      ],
      "metadata": {
        "colab": {
          "base_uri": "https://localhost:8080/"
        },
        "id": "Xmri_fjLrDKP",
        "outputId": "ccbde59a-7fe0-4c3e-9741-2060be680e1b"
      },
      "execution_count": 38,
      "outputs": [
        {
          "output_type": "stream",
          "name": "stderr",
          "text": [
            "<ipython-input-38-3e8b614ad210>:1: UserWarning: torch.range is deprecated and will be removed in a future release because its behavior is inconsistent with Python's range builtin. Instead, use torch.arange, which produces values in [start, end).\n",
            "  torch.range(1,16)\n"
          ]
        },
        {
          "output_type": "execute_result",
          "data": {
            "text/plain": [
              "tensor([ 1.,  2.,  3.,  4.,  5.,  6.,  7.,  8.,  9., 10., 11., 12., 13., 14.,\n",
              "        15., 16.])"
            ]
          },
          "metadata": {},
          "execution_count": 38
        }
      ]
    },
    {
      "cell_type": "code",
      "source": [
        "torch.arange(1,16)"
      ],
      "metadata": {
        "colab": {
          "base_uri": "https://localhost:8080/"
        },
        "id": "pAF4hfbTrHN0",
        "outputId": "f3011123-9792-4837-875c-1e2614d54893"
      },
      "execution_count": 39,
      "outputs": [
        {
          "output_type": "execute_result",
          "data": {
            "text/plain": [
              "tensor([ 1,  2,  3,  4,  5,  6,  7,  8,  9, 10, 11, 12, 13, 14, 15])"
            ]
          },
          "metadata": {},
          "execution_count": 39
        }
      ]
    },
    {
      "cell_type": "code",
      "source": [
        "torch.arange(1,16,3)"
      ],
      "metadata": {
        "colab": {
          "base_uri": "https://localhost:8080/"
        },
        "id": "qnVzx_LdrMlj",
        "outputId": "d9dd5678-f38d-492a-8c3d-38c7d734cfee"
      },
      "execution_count": 40,
      "outputs": [
        {
          "output_type": "execute_result",
          "data": {
            "text/plain": [
              "tensor([ 1,  4,  7, 10, 13])"
            ]
          },
          "metadata": {},
          "execution_count": 40
        }
      ]
    },
    {
      "cell_type": "markdown",
      "source": [
        "#Tensor\\s LIKE"
      ],
      "metadata": {
        "id": "eZhFlkzTrTEg"
      }
    },
    {
      "cell_type": "markdown",
      "source": [
        "Want to create a tensor with the same shape as another, we can use tensor like"
      ],
      "metadata": {
        "id": "wZWkxga_rfpA"
      }
    },
    {
      "cell_type": "code",
      "source": [
        "new_tensor_zeros= torch.zeros_like(input=random_tensor)"
      ],
      "metadata": {
        "id": "AXmkLJ48rqMs"
      },
      "execution_count": 41,
      "outputs": []
    },
    {
      "cell_type": "code",
      "source": [
        "new_tensor_zeros"
      ],
      "metadata": {
        "colab": {
          "base_uri": "https://localhost:8080/"
        },
        "id": "wEX8IqCSr-6d",
        "outputId": "e7edcccf-928f-4920-aecd-6913da95fa98"
      },
      "execution_count": 42,
      "outputs": [
        {
          "output_type": "execute_result",
          "data": {
            "text/plain": [
              "tensor([[0., 0., 0., 0.],\n",
              "        [0., 0., 0., 0.],\n",
              "        [0., 0., 0., 0.]])"
            ]
          },
          "metadata": {},
          "execution_count": 42
        }
      ]
    },
    {
      "cell_type": "code",
      "source": [
        "new_tensor_rand= torch.rand_like(input=random_tensor)\n",
        "new_tensor_rand"
      ],
      "metadata": {
        "colab": {
          "base_uri": "https://localhost:8080/"
        },
        "id": "gerVKWCQsvkV",
        "outputId": "2d5fe9db-e479-4487-df83-fe0ec6d7f7a7"
      },
      "execution_count": 43,
      "outputs": [
        {
          "output_type": "execute_result",
          "data": {
            "text/plain": [
              "tensor([[0.2186, 0.8876, 0.8446, 0.4832],\n",
              "        [0.2201, 0.5424, 0.6511, 0.7310],\n",
              "        [0.0591, 0.0381, 0.3190, 0.2222]])"
            ]
          },
          "metadata": {},
          "execution_count": 43
        }
      ]
    },
    {
      "cell_type": "code",
      "source": [
        "new_tensor_ones= torch.ones_like(input=random_tensor)\n",
        "new_tensor_ones"
      ],
      "metadata": {
        "colab": {
          "base_uri": "https://localhost:8080/"
        },
        "id": "s-GGAq1ys0Bu",
        "outputId": "e4d5549a-2b23-4e96-dcdb-767c2d27765a"
      },
      "execution_count": 44,
      "outputs": [
        {
          "output_type": "execute_result",
          "data": {
            "text/plain": [
              "tensor([[1., 1., 1., 1.],\n",
              "        [1., 1., 1., 1.],\n",
              "        [1., 1., 1., 1.]])"
            ]
          },
          "metadata": {},
          "execution_count": 44
        }
      ]
    },
    {
      "cell_type": "markdown",
      "source": [
        "#DATATYPES"
      ],
      "metadata": {
        "id": "QGhRb_VTsQ1v"
      }
    },
    {
      "cell_type": "markdown",
      "source": [
        "default --> float 32 even if we speciy none.\n",
        "\n",
        "We will mostly run into the error wrt to datatype, shape, and device"
      ],
      "metadata": {
        "id": "3Rrg40InseZV"
      }
    },
    {
      "cell_type": "code",
      "source": [
        "\n",
        "t1= torch.rand(3,3,\n",
        "               dtype=None, #datatype 32 and 16 bit floats most used\n",
        "               device=None, # default = cpu\n",
        "               requires_grad=False) #this is to track the gradients -- will get into it int he next bits\n",
        "t1.dtype"
      ],
      "metadata": {
        "colab": {
          "base_uri": "https://localhost:8080/"
        },
        "id": "rW5lu0L0si_X",
        "outputId": "b4e1174f-32d0-41f2-c076-6a95bdc72155"
      },
      "execution_count": 45,
      "outputs": [
        {
          "output_type": "execute_result",
          "data": {
            "text/plain": [
              "torch.float32"
            ]
          },
          "metadata": {},
          "execution_count": 45
        }
      ]
    },
    {
      "cell_type": "code",
      "source": [
        "t1"
      ],
      "metadata": {
        "colab": {
          "base_uri": "https://localhost:8080/"
        },
        "id": "hL2eYWgZvQIy",
        "outputId": "2e5b2be8-a6ef-4472-f3bf-309319d0edc6"
      },
      "execution_count": 46,
      "outputs": [
        {
          "output_type": "execute_result",
          "data": {
            "text/plain": [
              "tensor([[0.9312, 0.3930, 0.1815],\n",
              "        [0.4897, 0.9536, 0.7019],\n",
              "        [0.6250, 0.8577, 0.2673]])"
            ]
          },
          "metadata": {},
          "execution_count": 46
        }
      ]
    },
    {
      "cell_type": "markdown",
      "source": [
        "The above parmeters are the most imp ones when we create tensors"
      ],
      "metadata": {
        "id": "em4bnSxJtHf1"
      }
    },
    {
      "cell_type": "markdown",
      "source": [
        "the 32 bit float is of higher precision hence more detail. Each number has 32 bits.\n",
        "Number that take up less memory , we can change it to 16 bits."
      ],
      "metadata": {
        "id": "mDK-ei09teHp"
      }
    },
    {
      "cell_type": "code",
      "source": [
        "#converting 32 to 16 bit float datatype\n",
        "float_16_tensor=t1.type(torch.float16)\n",
        "float_16_tensor.dtype"
      ],
      "metadata": {
        "colab": {
          "base_uri": "https://localhost:8080/"
        },
        "id": "-Z6cn8S-tvWK",
        "outputId": "e56a2b69-00e6-4249-bef5-395b297c7cff"
      },
      "execution_count": 47,
      "outputs": [
        {
          "output_type": "execute_result",
          "data": {
            "text/plain": [
              "torch.float16"
            ]
          },
          "metadata": {},
          "execution_count": 47
        }
      ]
    },
    {
      "cell_type": "code",
      "source": [
        "output=float_16_tensor * t1\n",
        "output\n",
        "#elemetwise not dot product"
      ],
      "metadata": {
        "colab": {
          "base_uri": "https://localhost:8080/"
        },
        "id": "fZFLOPImu4z-",
        "outputId": "958d1439-d74f-4a11-e1bb-57a337dc2946"
      },
      "execution_count": 48,
      "outputs": [
        {
          "output_type": "execute_result",
          "data": {
            "text/plain": [
              "tensor([[0.8671, 0.1545, 0.0329],\n",
              "        [0.2398, 0.9094, 0.4925],\n",
              "        [0.3907, 0.7358, 0.0715]])"
            ]
          },
          "metadata": {},
          "execution_count": 48
        }
      ]
    },
    {
      "cell_type": "code",
      "source": [
        "output.dtype #typrcasted to the higher one"
      ],
      "metadata": {
        "colab": {
          "base_uri": "https://localhost:8080/"
        },
        "id": "wu011K2jvIdC",
        "outputId": "da8c75a6-00b5-4ce8-8f90-5696cd59f7c3"
      },
      "execution_count": 49,
      "outputs": [
        {
          "output_type": "execute_result",
          "data": {
            "text/plain": [
              "torch.float32"
            ]
          },
          "metadata": {},
          "execution_count": 49
        }
      ]
    },
    {
      "cell_type": "markdown",
      "source": [
        "some operations will run into error. Interger and float 32 and int 32. When we multiply them it works, int and torch.long"
      ],
      "metadata": {
        "id": "08NNbdVL5oom"
      }
    },
    {
      "cell_type": "markdown",
      "source": [
        "#other datatypes\n",
        "https://pytorch.org/docs/stable/tensors.html"
      ],
      "metadata": {
        "id": "lSZus0n0vWm4"
      }
    },
    {
      "cell_type": "markdown",
      "source": [
        "# Tensor Attributes"
      ],
      "metadata": {
        "id": "8VRcII2AwX3a"
      }
    },
    {
      "cell_type": "markdown",
      "source": [
        "getting the right info for errors from tensors:   \n",
        "\n",
        "\n",
        "tensors.dtype, tensors.shape,tensors.device\n",
        "\n",
        "\n",
        "\n"
      ],
      "metadata": {
        "id": "JpFvQY3x5fJ0"
      }
    },
    {
      "cell_type": "code",
      "source": [
        "random_tensor.shape"
      ],
      "metadata": {
        "colab": {
          "base_uri": "https://localhost:8080/"
        },
        "id": "PVYBDd5J6Pyq",
        "outputId": "dde113fc-723a-4a20-bb0c-5473cfd07093"
      },
      "execution_count": 50,
      "outputs": [
        {
          "output_type": "execute_result",
          "data": {
            "text/plain": [
              "torch.Size([3, 4])"
            ]
          },
          "metadata": {},
          "execution_count": 50
        }
      ]
    },
    {
      "cell_type": "code",
      "source": [
        "random_tensor.device"
      ],
      "metadata": {
        "colab": {
          "base_uri": "https://localhost:8080/"
        },
        "id": "PNGeg64A6eQk",
        "outputId": "1f5cf61b-4f1f-4c8d-f46c-84cf52cd9ff6"
      },
      "execution_count": 51,
      "outputs": [
        {
          "output_type": "execute_result",
          "data": {
            "text/plain": [
              "device(type='cpu')"
            ]
          },
          "metadata": {},
          "execution_count": 51
        }
      ]
    },
    {
      "cell_type": "markdown",
      "source": [
        "size - function. shape is an attribute"
      ],
      "metadata": {
        "id": "gBmhoPKN6gDT"
      }
    },
    {
      "cell_type": "markdown",
      "source": [
        "#TENSOR OPERATIONS\n",
        "\n",
        "Additon, sub, multiplication and division , matrix multiplication ..."
      ],
      "metadata": {
        "id": "jRV7rWoW6qRM"
      }
    },
    {
      "cell_type": "code",
      "source": [
        "#additon\n",
        "\n",
        "a1=torch.tensor([[1,2,3],[4,5,6]])"
      ],
      "metadata": {
        "id": "iSzLXz8O6u8X"
      },
      "execution_count": 52,
      "outputs": []
    },
    {
      "cell_type": "code",
      "source": [
        "a1+10\n",
        "\n",
        "a1*10"
      ],
      "metadata": {
        "colab": {
          "base_uri": "https://localhost:8080/"
        },
        "id": "Tb0A2S6O6976",
        "outputId": "8c0afd5f-105d-45fd-cf82-dec84c4ddd9e"
      },
      "execution_count": 53,
      "outputs": [
        {
          "output_type": "execute_result",
          "data": {
            "text/plain": [
              "tensor([[10, 20, 30],\n",
              "        [40, 50, 60]])"
            ]
          },
          "metadata": {},
          "execution_count": 53
        }
      ]
    },
    {
      "cell_type": "code",
      "source": [
        "a1/0.5"
      ],
      "metadata": {
        "colab": {
          "base_uri": "https://localhost:8080/"
        },
        "id": "UG5jNY-g7XcV",
        "outputId": "2cfec957-9fe5-4ab9-aeb5-abe7ff2d2d2a"
      },
      "execution_count": 54,
      "outputs": [
        {
          "output_type": "execute_result",
          "data": {
            "text/plain": [
              "tensor([[ 2.,  4.,  6.],\n",
              "        [ 8., 10., 12.]])"
            ]
          },
          "metadata": {},
          "execution_count": 54
        }
      ]
    },
    {
      "cell_type": "code",
      "source": [
        "a2=torch.tensor([[3,6,3],[4,6,9]])"
      ],
      "metadata": {
        "id": "8oSxy0kJ7CaU"
      },
      "execution_count": 55,
      "outputs": []
    },
    {
      "cell_type": "code",
      "source": [
        "a1+a2"
      ],
      "metadata": {
        "colab": {
          "base_uri": "https://localhost:8080/"
        },
        "id": "nIKU9iME7T07",
        "outputId": "bd073e1d-8c56-4db5-aac3-8e1df2b5c044"
      },
      "execution_count": 56,
      "outputs": [
        {
          "output_type": "execute_result",
          "data": {
            "text/plain": [
              "tensor([[ 4,  8,  6],\n",
              "        [ 8, 11, 15]])"
            ]
          },
          "metadata": {},
          "execution_count": 56
        }
      ]
    },
    {
      "cell_type": "code",
      "source": [
        "a1*a2\n",
        "#elementwise"
      ],
      "metadata": {
        "colab": {
          "base_uri": "https://localhost:8080/"
        },
        "id": "IRNOFzqv7VAi",
        "outputId": "2ac161bb-847b-417e-b335-0bdc8bda52f9"
      },
      "execution_count": 57,
      "outputs": [
        {
          "output_type": "execute_result",
          "data": {
            "text/plain": [
              "tensor([[ 3, 12,  9],\n",
              "        [16, 30, 54]])"
            ]
          },
          "metadata": {},
          "execution_count": 57
        }
      ]
    },
    {
      "cell_type": "code",
      "source": [
        "a3 = torch.tensor([[1,4],\n",
        "      [2,6],\n",
        "      [8,4]])"
      ],
      "metadata": {
        "id": "d8JYL-0NBAM_"
      },
      "execution_count": 58,
      "outputs": []
    },
    {
      "cell_type": "markdown",
      "source": [
        "inbuilt torch functions\n",
        "\n",
        "torch.mul(a1,10)\n",
        "torch.add(a1,3)"
      ],
      "metadata": {
        "id": "dp_W7Q_07WuJ"
      }
    },
    {
      "cell_type": "markdown",
      "source": [
        "#matrix multiplication\n",
        "\n",
        "Differes from element wise. From neural networks we usually use a lot of matrix multiplication. Here we need to use the dot product.\n",
        "We can use the  *torch.matmul()* or *@*"
      ],
      "metadata": {
        "id": "WS8gO0zJ7xeA"
      }
    },
    {
      "cell_type": "code",
      "source": [
        "%%time\n",
        "# to test the time\n",
        "torch.matmul(a1,a3)\n",
        "\n",
        "#  or\n",
        "torch.mm(a1,a3)\n",
        "\n",
        "#mm is an alias for matmul"
      ],
      "metadata": {
        "colab": {
          "base_uri": "https://localhost:8080/"
        },
        "id": "beeyqrc5A6fq",
        "outputId": "0df0d610-49ea-4a8e-abde-04b6875be18d"
      },
      "execution_count": 63,
      "outputs": [
        {
          "output_type": "stream",
          "name": "stdout",
          "text": [
            "CPU times: user 151 µs, sys: 0 ns, total: 151 µs\n",
            "Wall time: 156 µs\n"
          ]
        },
        {
          "output_type": "execute_result",
          "data": {
            "text/plain": [
              "tensor([[29, 28],\n",
              "        [62, 70]])"
            ]
          },
          "metadata": {},
          "execution_count": 63
        }
      ]
    },
    {
      "cell_type": "code",
      "source": [
        "# 2 X 3. and 3 X. 2 = 2 x 2"
      ],
      "metadata": {
        "id": "SLr1tSdfA9Dy"
      },
      "execution_count": 64,
      "outputs": []
    },
    {
      "cell_type": "markdown",
      "source": [
        "Rules for mat mul:  ** Inner dimensions must match ** . Matrices are always 2D"
      ],
      "metadata": {
        "id": "OfHtU0-MBWKf"
      }
    },
    {
      "cell_type": "code",
      "source": [
        "#to transpose:\n",
        "\n",
        "a1.T"
      ],
      "metadata": {
        "colab": {
          "base_uri": "https://localhost:8080/"
        },
        "id": "nGbiXQLHB7xp",
        "outputId": "e614b941-65f9-49d9-8cb8-1848acdd491c"
      },
      "execution_count": 65,
      "outputs": [
        {
          "output_type": "execute_result",
          "data": {
            "text/plain": [
              "tensor([[1, 4],\n",
              "        [2, 5],\n",
              "        [3, 6]])"
            ]
          },
          "metadata": {},
          "execution_count": 65
        }
      ]
    },
    {
      "cell_type": "markdown",
      "source": [
        "#tensor aggregation- min max sum etc"
      ],
      "metadata": {
        "id": "ev4-Sa-UERo-"
      }
    },
    {
      "cell_type": "code",
      "source": [
        "x=torch.arange(2,36,3)\n",
        "\n",
        "#"
      ],
      "metadata": {
        "id": "3OXNRv_0GAb8"
      },
      "execution_count": 66,
      "outputs": []
    },
    {
      "cell_type": "code",
      "source": [
        "x"
      ],
      "metadata": {
        "colab": {
          "base_uri": "https://localhost:8080/"
        },
        "id": "j2hM0D3cGGVY",
        "outputId": "d602437c-6127-4d7a-e755-103d052e2e4c"
      },
      "execution_count": 67,
      "outputs": [
        {
          "output_type": "execute_result",
          "data": {
            "text/plain": [
              "tensor([ 2,  5,  8, 11, 14, 17, 20, 23, 26, 29, 32, 35])"
            ]
          },
          "metadata": {},
          "execution_count": 67
        }
      ]
    },
    {
      "cell_type": "code",
      "source": [
        "torch.min(x)\n",
        "#or x.min()"
      ],
      "metadata": {
        "colab": {
          "base_uri": "https://localhost:8080/"
        },
        "id": "McvNjDCQGGry",
        "outputId": "1e1cd407-ae39-428f-a0ed-0e66f7b14d4f"
      },
      "execution_count": 68,
      "outputs": [
        {
          "output_type": "execute_result",
          "data": {
            "text/plain": [
              "tensor(2)"
            ]
          },
          "metadata": {},
          "execution_count": 68
        }
      ]
    },
    {
      "cell_type": "code",
      "source": [
        "torch.max(a1)\n",
        "#or x.max()"
      ],
      "metadata": {
        "colab": {
          "base_uri": "https://localhost:8080/"
        },
        "id": "jhlITK-LGIuo",
        "outputId": "f43db74d-ea1a-46df-cc1c-6d2fed28223a"
      },
      "execution_count": 69,
      "outputs": [
        {
          "output_type": "execute_result",
          "data": {
            "text/plain": [
              "tensor(6)"
            ]
          },
          "metadata": {},
          "execution_count": 69
        }
      ]
    },
    {
      "cell_type": "code",
      "source": [
        "a2.dtype"
      ],
      "metadata": {
        "colab": {
          "base_uri": "https://localhost:8080/"
        },
        "id": "3eO0h5hcGhu0",
        "outputId": "a402f394-74cb-43ba-a9b5-f6c1ae4617b4"
      },
      "execution_count": 70,
      "outputs": [
        {
          "output_type": "execute_result",
          "data": {
            "text/plain": [
              "torch.int64"
            ]
          },
          "metadata": {},
          "execution_count": 70
        }
      ]
    },
    {
      "cell_type": "markdown",
      "source": [
        "torch.mean(a1)\n",
        "RuntimeError: mean(): could not infer output dtype. Input dtype must be either a floating point or complex dtype. Got: Long\n",
        "so typecast to float\n",
        "\n",
        "long is int64 change it to float32"
      ],
      "metadata": {
        "id": "5tg2R2nVGkW0"
      }
    },
    {
      "cell_type": "code",
      "source": [
        "torch.mean(a2.type(torch.float32))\n",
        "#or\n",
        "a2.type(torch.float32).mean()"
      ],
      "metadata": {
        "colab": {
          "base_uri": "https://localhost:8080/"
        },
        "id": "l4aV6mcEGKZg",
        "outputId": "9c148a48-1ec3-43c0-8522-a191fac9e34b"
      },
      "execution_count": 71,
      "outputs": [
        {
          "output_type": "execute_result",
          "data": {
            "text/plain": [
              "tensor(5.1667)"
            ]
          },
          "metadata": {},
          "execution_count": 71
        }
      ]
    },
    {
      "cell_type": "markdown",
      "source": [
        "To get the position of min and max -- > use argmin and argmax"
      ],
      "metadata": {
        "id": "iRmUwjwCGRtA"
      }
    },
    {
      "cell_type": "code",
      "source": [
        "x"
      ],
      "metadata": {
        "colab": {
          "base_uri": "https://localhost:8080/"
        },
        "id": "5rOOgCPEHjpB",
        "outputId": "064fdaf4-bdf2-4593-edf4-9e14a86f12c9"
      },
      "execution_count": 72,
      "outputs": [
        {
          "output_type": "execute_result",
          "data": {
            "text/plain": [
              "tensor([ 2,  5,  8, 11, 14, 17, 20, 23, 26, 29, 32, 35])"
            ]
          },
          "metadata": {},
          "execution_count": 72
        }
      ]
    },
    {
      "cell_type": "code",
      "source": [
        "x.argmin()"
      ],
      "metadata": {
        "colab": {
          "base_uri": "https://localhost:8080/"
        },
        "id": "2-2TE89dHiC8",
        "outputId": "cf7e2b72-8f8b-41b2-84ff-9d599e2770d7"
      },
      "execution_count": 73,
      "outputs": [
        {
          "output_type": "execute_result",
          "data": {
            "text/plain": [
              "tensor(0)"
            ]
          },
          "metadata": {},
          "execution_count": 73
        }
      ]
    },
    {
      "cell_type": "code",
      "source": [
        "a2"
      ],
      "metadata": {
        "id": "9Fcje5aKHqQ2",
        "outputId": "558726f9-36af-4661-dbbd-bdbf582aacf2",
        "colab": {
          "base_uri": "https://localhost:8080/"
        }
      },
      "execution_count": 74,
      "outputs": [
        {
          "output_type": "execute_result",
          "data": {
            "text/plain": [
              "tensor([[3, 6, 3],\n",
              "        [4, 6, 9]])"
            ]
          },
          "metadata": {},
          "execution_count": 74
        }
      ]
    },
    {
      "cell_type": "code",
      "source": [
        "a2.argmax()"
      ],
      "metadata": {
        "colab": {
          "base_uri": "https://localhost:8080/"
        },
        "id": "0UFXKe_KHi-j",
        "outputId": "79eeb3b4-d8cf-458f-c582-6e3ed7df6a1c"
      },
      "execution_count": 75,
      "outputs": [
        {
          "output_type": "execute_result",
          "data": {
            "text/plain": [
              "tensor(5)"
            ]
          },
          "metadata": {},
          "execution_count": 75
        }
      ]
    },
    {
      "cell_type": "markdown",
      "source": [
        "# REshaping ,stacking,squeezing and unsqueezing\n",
        "\n",
        "\n",
        "\n",
        "1.   Reshaping to another shape\n",
        "\n",
        "2.   View:  get a veiw of the tensor into a cetain shape but keep the same memory\n",
        "\n",
        "3. Stacking. Combining tensors:vertically or horizontally . torchvstach and torchhstach\n",
        "\n",
        "4. squeeze and unsqueeze: removes or adds one dimension to the tensor\n",
        "\n",
        "5. permute view of the input with dimensions a certain way\n"
      ],
      "metadata": {
        "id": "htwRD4HfHo2u"
      }
    },
    {
      "cell_type": "code",
      "source": [
        "x = torch.arange(1.1,3.5,0.2)\n",
        "x"
      ],
      "metadata": {
        "colab": {
          "base_uri": "https://localhost:8080/"
        },
        "id": "WGzfj3T6FfOO",
        "outputId": "7e080587-7f57-47ee-da36-718ca74241c0"
      },
      "execution_count": 86,
      "outputs": [
        {
          "output_type": "execute_result",
          "data": {
            "text/plain": [
              "tensor([1.1000, 1.3000, 1.5000, 1.7000, 1.9000, 2.1000, 2.3000, 2.5000, 2.7000,\n",
              "        2.9000, 3.1000, 3.3000])"
            ]
          },
          "metadata": {},
          "execution_count": 86
        }
      ]
    },
    {
      "cell_type": "code",
      "source": [
        "x.shape"
      ],
      "metadata": {
        "colab": {
          "base_uri": "https://localhost:8080/"
        },
        "id": "cmgnRiCRFfr6",
        "outputId": "0a2973fb-093b-44e9-98a6-b06188d96c81"
      },
      "execution_count": 87,
      "outputs": [
        {
          "output_type": "execute_result",
          "data": {
            "text/plain": [
              "torch.Size([12])"
            ]
          },
          "metadata": {},
          "execution_count": 87
        }
      ]
    },
    {
      "cell_type": "code",
      "source": [
        "#reshape\n",
        "# has to have the same number of elements\n",
        "x.reshape(1,12)"
      ],
      "metadata": {
        "colab": {
          "base_uri": "https://localhost:8080/"
        },
        "id": "T2fLsKUxFtYT",
        "outputId": "49bdce34-81af-4af6-ac2c-c7dae094dde4"
      },
      "execution_count": 89,
      "outputs": [
        {
          "output_type": "execute_result",
          "data": {
            "text/plain": [
              "tensor([[1.1000, 1.3000, 1.5000, 1.7000, 1.9000, 2.1000, 2.3000, 2.5000, 2.7000,\n",
              "         2.9000, 3.1000, 3.3000]])"
            ]
          },
          "metadata": {},
          "execution_count": 89
        }
      ]
    },
    {
      "cell_type": "code",
      "source": [
        "#here we added another dimension. hence two [[]]"
      ],
      "metadata": {
        "id": "8YT4cbI9F5YI"
      },
      "execution_count": 81,
      "outputs": []
    },
    {
      "cell_type": "code",
      "source": [
        "#changing the view\n",
        "z= x.view(4,3)\n",
        "\n",
        "z"
      ],
      "metadata": {
        "colab": {
          "base_uri": "https://localhost:8080/"
        },
        "id": "FlXONVNjGUnm",
        "outputId": "bbf72c75-516f-425f-f42b-5e4934225617"
      },
      "execution_count": 94,
      "outputs": [
        {
          "output_type": "execute_result",
          "data": {
            "text/plain": [
              "tensor([[1.1000, 1.3000, 1.5000],\n",
              "        [1.7000, 1.9000, 2.1000],\n",
              "        [2.3000, 2.5000, 2.7000],\n",
              "        [2.9000, 3.1000, 3.3000]])"
            ]
          },
          "metadata": {},
          "execution_count": 94
        }
      ]
    },
    {
      "cell_type": "code",
      "source": [
        "x"
      ],
      "metadata": {
        "colab": {
          "base_uri": "https://localhost:8080/"
        },
        "id": "0gBgx1aFGjje",
        "outputId": "a56a3509-b440-4c85-ea97-aa6b5bbb62e2"
      },
      "execution_count": 95,
      "outputs": [
        {
          "output_type": "execute_result",
          "data": {
            "text/plain": [
              "tensor([1.1000, 1.3000, 1.5000, 1.7000, 1.9000, 2.1000, 2.3000, 2.5000, 2.7000,\n",
              "        2.9000, 3.1000, 3.3000])"
            ]
          },
          "metadata": {},
          "execution_count": 95
        }
      ]
    },
    {
      "cell_type": "code",
      "source": [
        "z = z.reshape(3,2,2)"
      ],
      "metadata": {
        "id": "i9lC8UYeGjqW"
      },
      "execution_count": 102,
      "outputs": []
    },
    {
      "cell_type": "code",
      "source": [
        "#remember: changing an element in z will change the element in x as they have the same memory\n",
        "\n",
        "z.shape"
      ],
      "metadata": {
        "colab": {
          "base_uri": "https://localhost:8080/"
        },
        "id": "YpfSff7JG97E",
        "outputId": "83d6bfe8-832b-4b0e-b0b5-508c7051a898"
      },
      "execution_count": 103,
      "outputs": [
        {
          "output_type": "execute_result",
          "data": {
            "text/plain": [
              "torch.Size([3, 2, 2])"
            ]
          },
          "metadata": {},
          "execution_count": 103
        }
      ]
    },
    {
      "cell_type": "code",
      "source": [
        "z[0][0][0] =13.6"
      ],
      "metadata": {
        "id": "H_dC0IKlG-9Q"
      },
      "execution_count": 104,
      "outputs": []
    },
    {
      "cell_type": "code",
      "source": [
        "print(z,\"\\n\",x)"
      ],
      "metadata": {
        "colab": {
          "base_uri": "https://localhost:8080/"
        },
        "id": "uqGCDVvRHkvL",
        "outputId": "84c66942-a947-45a4-fd08-3670c5d9b86b"
      },
      "execution_count": 105,
      "outputs": [
        {
          "output_type": "stream",
          "name": "stdout",
          "text": [
            "tensor([[[13.6000,  1.3000],\n",
            "         [ 1.5000,  1.7000]],\n",
            "\n",
            "        [[ 1.9000,  2.1000],\n",
            "         [ 2.3000,  2.5000]],\n",
            "\n",
            "        [[ 2.7000,  2.9000],\n",
            "         [ 3.1000,  3.3000]]]) \n",
            " tensor([13.6000,  1.3000,  1.5000,  1.7000,  1.9000,  2.1000,  2.3000,  2.5000,\n",
            "         2.7000,  2.9000,  3.1000,  3.3000])\n"
          ]
        }
      ]
    },
    {
      "cell_type": "code",
      "source": [
        "#so although they are in different shapes , they still have he same values"
      ],
      "metadata": {
        "id": "fI2joPbjHqga"
      },
      "execution_count": null,
      "outputs": []
    },
    {
      "cell_type": "code",
      "source": [
        "##stacking - dim default 0\n",
        "\n",
        "torch.stack([x,x,x],dim = 0)\n",
        "\n",
        "#vertically stacking rowwise"
      ],
      "metadata": {
        "colab": {
          "base_uri": "https://localhost:8080/"
        },
        "id": "j1WmCDG1H7SP",
        "outputId": "79293c91-2866-4af7-db49-dff5f8287e6d"
      },
      "execution_count": 111,
      "outputs": [
        {
          "output_type": "execute_result",
          "data": {
            "text/plain": [
              "tensor([[13.6000,  1.3000,  1.5000,  1.7000,  1.9000,  2.1000,  2.3000,  2.5000,\n",
              "          2.7000,  2.9000,  3.1000,  3.3000],\n",
              "        [13.6000,  1.3000,  1.5000,  1.7000,  1.9000,  2.1000,  2.3000,  2.5000,\n",
              "          2.7000,  2.9000,  3.1000,  3.3000],\n",
              "        [13.6000,  1.3000,  1.5000,  1.7000,  1.9000,  2.1000,  2.3000,  2.5000,\n",
              "          2.7000,  2.9000,  3.1000,  3.3000]])"
            ]
          },
          "metadata": {},
          "execution_count": 111
        }
      ]
    },
    {
      "cell_type": "code",
      "source": [
        "\n",
        "torch.stack([x,x,x],dim = 1)\n",
        "#column wise stacking"
      ],
      "metadata": {
        "colab": {
          "base_uri": "https://localhost:8080/"
        },
        "id": "pSqHswZlIclc",
        "outputId": "63a80ae3-6d4e-40ea-8fe6-26805ccb8e94"
      },
      "execution_count": 113,
      "outputs": [
        {
          "output_type": "execute_result",
          "data": {
            "text/plain": [
              "tensor([[13.6000, 13.6000, 13.6000],\n",
              "        [ 1.3000,  1.3000,  1.3000],\n",
              "        [ 1.5000,  1.5000,  1.5000],\n",
              "        [ 1.7000,  1.7000,  1.7000],\n",
              "        [ 1.9000,  1.9000,  1.9000],\n",
              "        [ 2.1000,  2.1000,  2.1000],\n",
              "        [ 2.3000,  2.3000,  2.3000],\n",
              "        [ 2.5000,  2.5000,  2.5000],\n",
              "        [ 2.7000,  2.7000,  2.7000],\n",
              "        [ 2.9000,  2.9000,  2.9000],\n",
              "        [ 3.1000,  3.1000,  3.1000],\n",
              "        [ 3.3000,  3.3000,  3.3000]])"
            ]
          },
          "metadata": {},
          "execution_count": 113
        }
      ]
    },
    {
      "cell_type": "markdown",
      "source": [
        "##squeeze -"
      ],
      "metadata": {
        "id": "hNclFmvlIdd8"
      }
    },
    {
      "cell_type": "markdown",
      "source": [
        "Returns a tensor with all specified dimensions of input of size 1 removed.\n"
      ],
      "metadata": {
        "id": "1FFC9RnMIvNd"
      }
    },
    {
      "cell_type": "code",
      "source": [
        "y= torch.arange(1,10)\n",
        "y"
      ],
      "metadata": {
        "colab": {
          "base_uri": "https://localhost:8080/"
        },
        "id": "2ptYWhDqI2xX",
        "outputId": "1b82ca70-0044-4d1a-f01b-8c95d1fc7993"
      },
      "execution_count": 128,
      "outputs": [
        {
          "output_type": "execute_result",
          "data": {
            "text/plain": [
              "tensor([1, 2, 3, 4, 5, 6, 7, 8, 9])"
            ]
          },
          "metadata": {},
          "execution_count": 128
        }
      ]
    },
    {
      "cell_type": "code",
      "source": [
        "y=y.reshape(1,1,9)"
      ],
      "metadata": {
        "id": "igLWkbmmJGrG"
      },
      "execution_count": 129,
      "outputs": []
    },
    {
      "cell_type": "code",
      "source": [
        "y.shape\n",
        "print(\"shape now is \",y.shape)"
      ],
      "metadata": {
        "colab": {
          "base_uri": "https://localhost:8080/"
        },
        "id": "Ruza-PXhJJ7g",
        "outputId": "9370871e-90e9-43d4-8f14-844f256b2e75"
      },
      "execution_count": 130,
      "outputs": [
        {
          "output_type": "stream",
          "name": "stdout",
          "text": [
            "shape now is  torch.Size([1, 1, 9])\n"
          ]
        }
      ]
    },
    {
      "cell_type": "code",
      "source": [
        "y= y.squeeze()\n",
        "\n",
        "print(\"after squuezing, shape becomes \",y.squeeze().shape)"
      ],
      "metadata": {
        "colab": {
          "base_uri": "https://localhost:8080/"
        },
        "id": "Z8rBDkadJMTT",
        "outputId": "4ecebee8-8fd3-4fb4-9780-31e29fad1980"
      },
      "execution_count": 132,
      "outputs": [
        {
          "output_type": "stream",
          "name": "stdout",
          "text": [
            "after squuezing, shape becomes  torch.Size([9])\n"
          ]
        }
      ]
    },
    {
      "cell_type": "code",
      "source": [
        "#removes all dimensions with 1: basically removes unwanted dimensions"
      ],
      "metadata": {
        "id": "l6HeqM_jJWoz"
      },
      "execution_count": 133,
      "outputs": []
    },
    {
      "cell_type": "markdown",
      "source": [
        "##unsqueeze"
      ],
      "metadata": {
        "id": "EMwLUXsuJedQ"
      }
    },
    {
      "cell_type": "code",
      "source": [
        "y\n"
      ],
      "metadata": {
        "colab": {
          "base_uri": "https://localhost:8080/"
        },
        "id": "4fGYq9SgKP2x",
        "outputId": "036ffcb2-3298-4fea-8a57-b516c0f4462a"
      },
      "execution_count": 134,
      "outputs": [
        {
          "output_type": "execute_result",
          "data": {
            "text/plain": [
              "tensor([1, 2, 3, 4, 5, 6, 7, 8, 9])"
            ]
          },
          "metadata": {},
          "execution_count": 134
        }
      ]
    },
    {
      "cell_type": "code",
      "source": [
        "y.unsqueeze(dim=0)\n",
        "#( rows, columns, .....)\n",
        "#(dim=0,dim=1,dim=2....)\n",
        "print(y.unsqueeze(dim=0),y.unsqueeze(dim=0).shape)\n",
        "\n",
        "#adden one to row [1,9]"
      ],
      "metadata": {
        "colab": {
          "base_uri": "https://localhost:8080/"
        },
        "id": "MInFRRXpKD3X",
        "outputId": "2f023736-b91a-4b99-bf87-c75f57824b17"
      },
      "execution_count": 141,
      "outputs": [
        {
          "output_type": "stream",
          "name": "stdout",
          "text": [
            "tensor([[1, 2, 3, 4, 5, 6, 7, 8, 9]]) torch.Size([1, 9])\n"
          ]
        }
      ]
    },
    {
      "cell_type": "markdown",
      "source": [
        "# permute - rearrange the dimensions"
      ],
      "metadata": {
        "id": "xirhH-gUKHEo"
      }
    },
    {
      "cell_type": "code",
      "source": [
        "z=torch.arange(1,25).reshape(3,4,2)\n",
        "z\n",
        "\n",
        "\n"
      ],
      "metadata": {
        "colab": {
          "base_uri": "https://localhost:8080/"
        },
        "id": "mspq-DpJLnfd",
        "outputId": "b477d1b6-4ce0-40bc-d46b-39dcdae52049"
      },
      "execution_count": 144,
      "outputs": [
        {
          "output_type": "execute_result",
          "data": {
            "text/plain": [
              "tensor([[[ 1,  2],\n",
              "         [ 3,  4],\n",
              "         [ 5,  6],\n",
              "         [ 7,  8]],\n",
              "\n",
              "        [[ 9, 10],\n",
              "         [11, 12],\n",
              "         [13, 14],\n",
              "         [15, 16]],\n",
              "\n",
              "        [[17, 18],\n",
              "         [19, 20],\n",
              "         [21, 22],\n",
              "         [23, 24]]])"
            ]
          },
          "metadata": {},
          "execution_count": 144
        }
      ]
    },
    {
      "cell_type": "markdown",
      "source": [
        "innermost[] has 2 elements. middle[] has 4 elelments , outtermost[] has 3 chunks"
      ],
      "metadata": {
        "id": "xEM3-LkPL4FM"
      }
    },
    {
      "cell_type": "code",
      "source": [
        "print(\"first=\" ,z.shape , \"\\n\\npermuted=\",z.permute(2,1,0),\"\\n\\nnew shape=\",z.permute(2,1,0).shape)\n",
        "#(here the 2,1,0 represent the indices of the shape(dimensions))\n"
      ],
      "metadata": {
        "colab": {
          "base_uri": "https://localhost:8080/"
        },
        "id": "q14R1Q5jMdA9",
        "outputId": "247828d6-1d96-4238-8605-1aa1c41705e9"
      },
      "execution_count": 150,
      "outputs": [
        {
          "output_type": "stream",
          "name": "stdout",
          "text": [
            "first= torch.Size([3, 4, 2]) \n",
            "\n",
            "permuted= tensor([[[ 1,  9, 17],\n",
            "         [ 3, 11, 19],\n",
            "         [ 5, 13, 21],\n",
            "         [ 7, 15, 23]],\n",
            "\n",
            "        [[ 2, 10, 18],\n",
            "         [ 4, 12, 20],\n",
            "         [ 6, 14, 22],\n",
            "         [ 8, 16, 24]]]) \n",
            "\n",
            "new shape= torch.Size([2, 4, 3])\n"
          ]
        }
      ]
    },
    {
      "cell_type": "code",
      "source": [],
      "metadata": {
        "id": "3SxcM7EjNu2Z"
      },
      "execution_count": null,
      "outputs": []
    },
    {
      "cell_type": "markdown",
      "source": [
        "Remember, permute is a view and hence will share the same mem"
      ],
      "metadata": {
        "id": "0ysPEw6gMnyR"
      }
    },
    {
      "cell_type": "code",
      "source": [
        "#indenxing and selecting\n",
        "\n",
        "z"
      ],
      "metadata": {
        "colab": {
          "base_uri": "https://localhost:8080/"
        },
        "id": "9tBal8wDNwDc",
        "outputId": "32e1ceb0-c6dc-4e6e-efba-0537e725b687"
      },
      "execution_count": 151,
      "outputs": [
        {
          "output_type": "execute_result",
          "data": {
            "text/plain": [
              "tensor([[[ 1,  2],\n",
              "         [ 3,  4],\n",
              "         [ 5,  6],\n",
              "         [ 7,  8]],\n",
              "\n",
              "        [[ 9, 10],\n",
              "         [11, 12],\n",
              "         [13, 14],\n",
              "         [15, 16]],\n",
              "\n",
              "        [[17, 18],\n",
              "         [19, 20],\n",
              "         [21, 22],\n",
              "         [23, 24]]])"
            ]
          },
          "metadata": {},
          "execution_count": 151
        }
      ]
    },
    {
      "cell_type": "code",
      "source": [
        "z.shape"
      ],
      "metadata": {
        "colab": {
          "base_uri": "https://localhost:8080/"
        },
        "id": "ItO7qs9DOfzP",
        "outputId": "8559764b-f364-4376-cf8c-eab641871c05"
      },
      "execution_count": 155,
      "outputs": [
        {
          "output_type": "execute_result",
          "data": {
            "text/plain": [
              "torch.Size([3, 4, 2])"
            ]
          },
          "metadata": {},
          "execution_count": 155
        }
      ]
    },
    {
      "cell_type": "code",
      "source": [
        "\n",
        "#we need to work with 3 , 4 and 2 dimensions\n",
        "\n",
        "#all rows and 1st column\n",
        "z[:,1]"
      ],
      "metadata": {
        "colab": {
          "base_uri": "https://localhost:8080/"
        },
        "id": "g2FWeytXNy7-",
        "outputId": "440702a8-6fdd-4027-99dd-f6049547bae3"
      },
      "execution_count": 154,
      "outputs": [
        {
          "output_type": "execute_result",
          "data": {
            "text/plain": [
              "tensor([[ 3,  4],\n",
              "        [11, 12],\n",
              "        [19, 20]])"
            ]
          },
          "metadata": {},
          "execution_count": 154
        }
      ]
    },
    {
      "cell_type": "code",
      "source": [
        "#we need to work with 3 , 4 and 2 dimensions\n",
        "z[1,0:2,0]\n",
        "\n"
      ],
      "metadata": {
        "colab": {
          "base_uri": "https://localhost:8080/"
        },
        "id": "7Io8KzZSOoRq",
        "outputId": "9b21d081-01ad-4c6f-8a7e-7a6deedbda43"
      },
      "execution_count": 156,
      "outputs": [
        {
          "output_type": "execute_result",
          "data": {
            "text/plain": [
              "tensor([ 9, 11])"
            ]
          },
          "metadata": {},
          "execution_count": 156
        }
      ]
    },
    {
      "cell_type": "code",
      "source": [
        "z[1][0:2][0]"
      ],
      "metadata": {
        "colab": {
          "base_uri": "https://localhost:8080/"
        },
        "id": "nxfEIcMmPCE-",
        "outputId": "6f3bc974-bca9-4a32-bd8e-ca781d58a8f5"
      },
      "execution_count": 157,
      "outputs": [
        {
          "output_type": "execute_result",
          "data": {
            "text/plain": [
              "tensor([ 9, 10])"
            ]
          },
          "metadata": {},
          "execution_count": 157
        }
      ]
    },
    {
      "cell_type": "markdown",
      "source": [
        "#Pytorch and Numpy"
      ],
      "metadata": {
        "id": "KDFaBltvOGQt"
      }
    },
    {
      "cell_type": "markdown",
      "source": [
        "array to torch"
      ],
      "metadata": {
        "id": "JHBTIsy_PVrI"
      }
    },
    {
      "cell_type": "code",
      "source": [
        "import numpy as np\n",
        "x=np.arange(1,10)"
      ],
      "metadata": {
        "id": "MQyhuJHXPjnw"
      },
      "execution_count": 158,
      "outputs": []
    },
    {
      "cell_type": "code",
      "source": [
        "x.dtype"
      ],
      "metadata": {
        "colab": {
          "base_uri": "https://localhost:8080/"
        },
        "id": "jfHwoD2PPnUu",
        "outputId": "dbc86647-8ad4-481f-be6e-b36185ccca7b"
      },
      "execution_count": 159,
      "outputs": [
        {
          "output_type": "execute_result",
          "data": {
            "text/plain": [
              "dtype('int64')"
            ]
          },
          "metadata": {},
          "execution_count": 159
        }
      ]
    },
    {
      "cell_type": "code",
      "source": [
        "tensor= torch.from_numpy(x)\n",
        "\n",
        "tensor.dtype"
      ],
      "metadata": {
        "colab": {
          "base_uri": "https://localhost:8080/"
        },
        "id": "lK67sqNBPodm",
        "outputId": "469265d2-3545-45ae-ee3e-608e70756fdb"
      },
      "execution_count": 160,
      "outputs": [
        {
          "output_type": "execute_result",
          "data": {
            "text/plain": [
              "torch.int64"
            ]
          },
          "metadata": {},
          "execution_count": 160
        }
      ]
    },
    {
      "cell_type": "markdown",
      "source": [
        "So torch uses the same datatype as numpy that it is converting."
      ],
      "metadata": {
        "id": "DB4spVYKPy8M"
      }
    },
    {
      "cell_type": "code",
      "source": [
        "tensor =tensor.type(torch.float32)"
      ],
      "metadata": {
        "id": "M-gpwHbSP8Lp"
      },
      "execution_count": 163,
      "outputs": []
    },
    {
      "cell_type": "code",
      "source": [
        "#tensor to numpy\n",
        "\n",
        "print(\"tensors dtype=\",tensor.dtype)\n",
        "\n",
        "y=tensor.numpy()\n",
        "\n",
        "print(\"numpys dtype=\",y.dtype)"
      ],
      "metadata": {
        "colab": {
          "base_uri": "https://localhost:8080/"
        },
        "id": "InmU9ciRQDBm",
        "outputId": "4579b067-c2d0-4b84-8d51-521fba9dee9b"
      },
      "execution_count": 165,
      "outputs": [
        {
          "output_type": "stream",
          "name": "stdout",
          "text": [
            "tensors dtype= torch.float32\n",
            "numpys dtype= float32\n"
          ]
        }
      ]
    },
    {
      "cell_type": "markdown",
      "source": [
        "numpy also mimics the tensors dtype after conversion"
      ],
      "metadata": {
        "id": "uQNTPUeFQn-2"
      }
    },
    {
      "cell_type": "markdown",
      "source": [
        "#Seed value"
      ],
      "metadata": {
        "id": "CPHZz_nNRCCO"
      }
    },
    {
      "cell_type": "code",
      "source": [
        "seed=42\n",
        "\n",
        "torch.manual_seed(seed=seed)"
      ],
      "metadata": {
        "colab": {
          "base_uri": "https://localhost:8080/"
        },
        "id": "CFYJQvVTSQ7v",
        "outputId": "1ad1b464-3501-4c51-b3e5-05e4fcf42ef6"
      },
      "execution_count": 167,
      "outputs": [
        {
          "output_type": "execute_result",
          "data": {
            "text/plain": [
              "<torch._C.Generator at 0x7a9e05bd7890>"
            ]
          },
          "metadata": {},
          "execution_count": 167
        }
      ]
    },
    {
      "cell_type": "code",
      "source": [
        "torch.manual_seed(seed=seed)\n",
        "A= torch.rand(3,3)\n",
        "A"
      ],
      "metadata": {
        "colab": {
          "base_uri": "https://localhost:8080/"
        },
        "id": "Sd5yX8m9REbN",
        "outputId": "bdcc18a0-4647-4ef2-c276-74296be514f5"
      },
      "execution_count": 172,
      "outputs": [
        {
          "output_type": "execute_result",
          "data": {
            "text/plain": [
              "tensor([[0.8823, 0.9150, 0.3829],\n",
              "        [0.9593, 0.3904, 0.6009],\n",
              "        [0.2566, 0.7936, 0.9408]])"
            ]
          },
          "metadata": {},
          "execution_count": 172
        }
      ]
    },
    {
      "cell_type": "code",
      "source": [
        "torch.manual_seed(seed=seed)\n",
        "B= torch.rand(3,3)\n",
        "B"
      ],
      "metadata": {
        "colab": {
          "base_uri": "https://localhost:8080/"
        },
        "id": "FMVgnWVURHzm",
        "outputId": "57c6e117-0a55-436a-c1fa-84f339cef86c"
      },
      "execution_count": 173,
      "outputs": [
        {
          "output_type": "execute_result",
          "data": {
            "text/plain": [
              "tensor([[0.8823, 0.9150, 0.3829],\n",
              "        [0.9593, 0.3904, 0.6009],\n",
              "        [0.2566, 0.7936, 0.9408]])"
            ]
          },
          "metadata": {},
          "execution_count": 173
        }
      ]
    },
    {
      "cell_type": "code",
      "source": [
        "# both are the same: limiting the randomness for reproducible code/results on different systems"
      ],
      "metadata": {
        "id": "YD21ZvLqSa8J"
      },
      "execution_count": 174,
      "outputs": []
    },
    {
      "cell_type": "markdown",
      "source": [
        "# GPU"
      ],
      "metadata": {
        "id": "nfOy89WOS81h"
      }
    },
    {
      "cell_type": "markdown",
      "source": [
        "GPU's help with faster computation. (Rent or buy etc)'.\n",
        "Cloud computing -- > GCP , AWZ etc\n",
        "We will use google colab for free now.\n",
        "\n",
        "https://pytorch.org/get-started/locally/"
      ],
      "metadata": {
        "id": "TKSNhZuiS_Gl"
      }
    },
    {
      "cell_type": "code",
      "source": [
        "!nvidia-smi"
      ],
      "metadata": {
        "colab": {
          "base_uri": "https://localhost:8080/"
        },
        "id": "iQ8xEQy4Tzjt",
        "outputId": "e252edc0-ff1c-4578-b17c-0aa8a34051b1"
      },
      "execution_count": 1,
      "outputs": [
        {
          "output_type": "stream",
          "name": "stdout",
          "text": [
            "Sun Aug 27 23:23:34 2023       \n",
            "+-----------------------------------------------------------------------------+\n",
            "| NVIDIA-SMI 525.105.17   Driver Version: 525.105.17   CUDA Version: 12.0     |\n",
            "|-------------------------------+----------------------+----------------------+\n",
            "| GPU  Name        Persistence-M| Bus-Id        Disp.A | Volatile Uncorr. ECC |\n",
            "| Fan  Temp  Perf  Pwr:Usage/Cap|         Memory-Usage | GPU-Util  Compute M. |\n",
            "|                               |                      |               MIG M. |\n",
            "|===============================+======================+======================|\n",
            "|   0  Tesla T4            Off  | 00000000:00:04.0 Off |                    0 |\n",
            "| N/A   36C    P8     9W /  70W |      0MiB / 15360MiB |      0%      Default |\n",
            "|                               |                      |                  N/A |\n",
            "+-------------------------------+----------------------+----------------------+\n",
            "                                                                               \n",
            "+-----------------------------------------------------------------------------+\n",
            "| Processes:                                                                  |\n",
            "|  GPU   GI   CI        PID   Type   Process name                  GPU Memory |\n",
            "|        ID   ID                                                   Usage      |\n",
            "|=============================================================================|\n",
            "|  No running processes found                                                 |\n",
            "+-----------------------------------------------------------------------------+\n"
          ]
        }
      ]
    },
    {
      "cell_type": "code",
      "source": [
        "#checking gpu with pytorch\n",
        "#changed runtime herevso import again\n",
        "import torch\n",
        "torch.cuda.is_available()"
      ],
      "metadata": {
        "colab": {
          "base_uri": "https://localhost:8080/"
        },
        "id": "tWliojoUT1BS",
        "outputId": "612b58f1-81ba-46e1-dc61-97b747cae509"
      },
      "execution_count": 5,
      "outputs": [
        {
          "output_type": "execute_result",
          "data": {
            "text/plain": [
              "True"
            ]
          },
          "metadata": {},
          "execution_count": 5
        }
      ]
    },
    {
      "cell_type": "code",
      "source": [
        "## setting up device agnostic code\n",
        "\n",
        "device = \"cuda\" if torch.cuda.is_available() else \"cpu\""
      ],
      "metadata": {
        "id": "Es515v41UTnE"
      },
      "execution_count": 8,
      "outputs": []
    },
    {
      "cell_type": "code",
      "source": [
        "device"
      ],
      "metadata": {
        "colab": {
          "base_uri": "https://localhost:8080/",
          "height": 35
        },
        "id": "dmgLBejiUpw8",
        "outputId": "15c8f000-a067-4f68-8260-f412c211dbb4"
      },
      "execution_count": 9,
      "outputs": [
        {
          "output_type": "execute_result",
          "data": {
            "text/plain": [
              "'cuda'"
            ],
            "application/vnd.google.colaboratory.intrinsic+json": {
              "type": "string"
            }
          },
          "metadata": {},
          "execution_count": 9
        }
      ]
    },
    {
      "cell_type": "markdown",
      "source": [
        "https://pytorch.org/docs/stable/notes/cuda.html#best-practices"
      ],
      "metadata": {
        "id": "kfnXH2CfUqrO"
      }
    },
    {
      "cell_type": "code",
      "source": [
        "# putting models/tensors on the gpu --. better"
      ],
      "metadata": {
        "id": "rdI7O8bGViGx"
      },
      "execution_count": null,
      "outputs": []
    },
    {
      "cell_type": "code",
      "source": [
        "tensor = torch.arange(1,11)"
      ],
      "metadata": {
        "id": "vVRMTbsiVsLF"
      },
      "execution_count": 10,
      "outputs": []
    },
    {
      "cell_type": "code",
      "source": [
        "tensor.device\n",
        "#default cpu"
      ],
      "metadata": {
        "colab": {
          "base_uri": "https://localhost:8080/"
        },
        "id": "MmUlH85kVu5j",
        "outputId": "cbfe5fd9-a8f1-4def-9c30-90f6c54ab936"
      },
      "execution_count": 11,
      "outputs": [
        {
          "output_type": "execute_result",
          "data": {
            "text/plain": [
              "device(type='cpu')"
            ]
          },
          "metadata": {},
          "execution_count": 11
        }
      ]
    },
    {
      "cell_type": "code",
      "source": [
        "tensor_gpu = tensor.to(device)"
      ],
      "metadata": {
        "id": "RJbFZwBRVwil"
      },
      "execution_count": 12,
      "outputs": []
    },
    {
      "cell_type": "code",
      "source": [
        "tensor_gpu.device"
      ],
      "metadata": {
        "colab": {
          "base_uri": "https://localhost:8080/"
        },
        "id": "8Ke8-xxMV8fj",
        "outputId": "81e6c603-db51-4f9b-a234-2fe5ba4d0560"
      },
      "execution_count": 13,
      "outputs": [
        {
          "output_type": "execute_result",
          "data": {
            "text/plain": [
              "device(type='cuda', index=0)"
            ]
          },
          "metadata": {},
          "execution_count": 13
        }
      ]
    },
    {
      "cell_type": "code",
      "source": [
        "#to method to send to GPU is frequently used."
      ],
      "metadata": {
        "id": "PVbtJJEVV_rR"
      },
      "execution_count": 15,
      "outputs": []
    },
    {
      "cell_type": "markdown",
      "source": [
        "Remember : numpy cannot run on gpus. so is a tensor is on GPU, you cannot convert it to numpy. you will have to transfer it back to cpu and then\n",
        "convert it to numpy."
      ],
      "metadata": {
        "id": "aQ9hWAVnWGF9"
      }
    },
    {
      "cell_type": "code",
      "source": [
        "back_to_cpu = tensor_gpu.cpu().numpy()\n",
        "\n",
        "#.cpu is used here"
      ],
      "metadata": {
        "id": "DQh0X-YtXcxr"
      },
      "execution_count": 18,
      "outputs": []
    },
    {
      "cell_type": "code",
      "source": [],
      "metadata": {
        "id": "PdvYWXJ4YMzh"
      },
      "execution_count": 18,
      "outputs": []
    }
  ]
}