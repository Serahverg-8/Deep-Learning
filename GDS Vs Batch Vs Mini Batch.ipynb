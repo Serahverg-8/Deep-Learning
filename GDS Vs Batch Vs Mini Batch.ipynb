{
 "cells": [
  {
   "cell_type": "code",
   "execution_count": 1,
   "id": "3b90996d",
   "metadata": {},
   "outputs": [],
   "source": [
    "import pandas as pd\n",
    "import numpy as np\n",
    "import matplotlib.pyplot as plt\n",
    "%matplotlib inline"
   ]
  },
  {
   "cell_type": "code",
   "execution_count": 2,
   "id": "4499c75f",
   "metadata": {},
   "outputs": [],
   "source": [
    "df=pd.read_csv(\"homeprices_banglore.csv\")"
   ]
  },
  {
   "cell_type": "code",
   "execution_count": 3,
   "id": "31f7dd1c",
   "metadata": {},
   "outputs": [
    {
     "data": {
      "text/html": [
       "<div>\n",
       "<style scoped>\n",
       "    .dataframe tbody tr th:only-of-type {\n",
       "        vertical-align: middle;\n",
       "    }\n",
       "\n",
       "    .dataframe tbody tr th {\n",
       "        vertical-align: top;\n",
       "    }\n",
       "\n",
       "    .dataframe thead th {\n",
       "        text-align: right;\n",
       "    }\n",
       "</style>\n",
       "<table border=\"1\" class=\"dataframe\">\n",
       "  <thead>\n",
       "    <tr style=\"text-align: right;\">\n",
       "      <th></th>\n",
       "      <th>area</th>\n",
       "      <th>bedrooms</th>\n",
       "      <th>price</th>\n",
       "    </tr>\n",
       "  </thead>\n",
       "  <tbody>\n",
       "    <tr>\n",
       "      <th>0</th>\n",
       "      <td>1056</td>\n",
       "      <td>2</td>\n",
       "      <td>39.07</td>\n",
       "    </tr>\n",
       "    <tr>\n",
       "      <th>1</th>\n",
       "      <td>2600</td>\n",
       "      <td>4</td>\n",
       "      <td>120.00</td>\n",
       "    </tr>\n",
       "    <tr>\n",
       "      <th>2</th>\n",
       "      <td>1440</td>\n",
       "      <td>3</td>\n",
       "      <td>62.00</td>\n",
       "    </tr>\n",
       "    <tr>\n",
       "      <th>3</th>\n",
       "      <td>1521</td>\n",
       "      <td>3</td>\n",
       "      <td>75.00</td>\n",
       "    </tr>\n",
       "    <tr>\n",
       "      <th>4</th>\n",
       "      <td>1200</td>\n",
       "      <td>2</td>\n",
       "      <td>51.00</td>\n",
       "    </tr>\n",
       "  </tbody>\n",
       "</table>\n",
       "</div>"
      ],
      "text/plain": [
       "   area  bedrooms   price\n",
       "0  1056         2   39.07\n",
       "1  2600         4  120.00\n",
       "2  1440         3   62.00\n",
       "3  1521         3   75.00\n",
       "4  1200         2   51.00"
      ]
     },
     "execution_count": 3,
     "metadata": {},
     "output_type": "execute_result"
    }
   ],
   "source": [
    "df.head()"
   ]
  },
  {
   "cell_type": "code",
   "execution_count": 10,
   "id": "b31fc600",
   "metadata": {},
   "outputs": [
    {
     "data": {
      "text/plain": [
       "20"
      ]
     },
     "execution_count": 10,
     "metadata": {},
     "output_type": "execute_result"
    }
   ],
   "source": [
    "#scaling the data\n",
    "len(df)"
   ]
  },
  {
   "cell_type": "code",
   "execution_count": 11,
   "id": "468f7e4e",
   "metadata": {},
   "outputs": [
    {
     "data": {
      "text/plain": [
       "array([[0.08827586, 0.25      ],\n",
       "       [0.62068966, 0.75      ],\n",
       "       [0.22068966, 0.5       ],\n",
       "       [0.24862069, 0.5       ],\n",
       "       [0.13793103, 0.25      ],\n",
       "       [0.12758621, 0.25      ],\n",
       "       [0.6662069 , 0.75      ],\n",
       "       [0.86206897, 0.75      ],\n",
       "       [0.17586207, 0.5       ],\n",
       "       [1.        , 1.        ],\n",
       "       [0.34482759, 0.5       ],\n",
       "       [0.68448276, 0.75      ],\n",
       "       [0.06896552, 0.25      ],\n",
       "       [0.10344828, 0.25      ],\n",
       "       [0.5       , 0.5       ],\n",
       "       [0.12931034, 0.25      ],\n",
       "       [0.13103448, 0.5       ],\n",
       "       [0.25517241, 0.5       ],\n",
       "       [0.67931034, 0.5       ],\n",
       "       [0.        , 0.        ]])"
      ]
     },
     "execution_count": 11,
     "metadata": {},
     "output_type": "execute_result"
    }
   ],
   "source": [
    "from sklearn import preprocessing\n",
    "x = preprocessing.MinMaxScaler()\n",
    "y = preprocessing.MinMaxScaler()\n",
    "\n",
    "scaled_X = x.fit_transform(df.drop('price',axis='columns'))\n",
    "scaled_y = y.fit_transform(df['price'].values.reshape(len(df),1))\n",
    "\n",
    "scaled_X"
   ]
  },
  {
   "cell_type": "code",
   "execution_count": 35,
   "id": "3ecbd3ea",
   "metadata": {},
   "outputs": [
    {
     "data": {
      "text/plain": [
       "(20, 1)"
      ]
     },
     "execution_count": 35,
     "metadata": {},
     "output_type": "execute_result"
    }
   ],
   "source": [
    "scaled_y.shape"
   ]
  },
  {
   "cell_type": "code",
   "execution_count": 36,
   "id": "b0c9a2dc",
   "metadata": {},
   "outputs": [
    {
     "data": {
      "text/plain": [
       "array([0.05237037, 0.65185185, 0.22222222, 0.31851852, 0.14074074,\n",
       "       0.04444444, 0.76296296, 0.91111111, 0.13333333, 1.        ,\n",
       "       0.37037037, 0.8       , 0.04444444, 0.05925926, 0.51111111,\n",
       "       0.07407407, 0.11851852, 0.20740741, 0.51851852, 0.        ])"
      ]
     },
     "execution_count": 36,
     "metadata": {},
     "output_type": "execute_result"
    }
   ],
   "source": [
    "scaled_y.reshape(20,)\n",
    "\n"
   ]
  },
  {
   "cell_type": "code",
   "execution_count": 18,
   "id": "eb192d57",
   "metadata": {},
   "outputs": [
    {
     "data": {
      "text/plain": [
       "(20, 1)"
      ]
     },
     "execution_count": 18,
     "metadata": {},
     "output_type": "execute_result"
    }
   ],
   "source": [
    "scaled_y.shape"
   ]
  },
  {
   "cell_type": "code",
   "execution_count": null,
   "id": "db84159f",
   "metadata": {},
   "outputs": [],
   "source": []
  },
  {
   "cell_type": "code",
   "execution_count": 42,
   "id": "380770b3",
   "metadata": {},
   "outputs": [],
   "source": [
    "c=np.zeros(5)"
   ]
  },
  {
   "cell_type": "code",
   "execution_count": 43,
   "id": "d3769100",
   "metadata": {},
   "outputs": [
    {
     "data": {
      "text/plain": [
       "(5,)"
      ]
     },
     "execution_count": 43,
     "metadata": {},
     "output_type": "execute_result"
    }
   ],
   "source": [
    "c.shape\n"
   ]
  },
  {
   "cell_type": "code",
   "execution_count": 54,
   "id": "1cc9edef",
   "metadata": {},
   "outputs": [
    {
     "data": {
      "text/plain": [
       "(array([0.58398868, 0.37911886]), -1.2863927012147247, 0.008499762277934983)"
      ]
     },
     "execution_count": 54,
     "metadata": {},
     "output_type": "execute_result"
    }
   ],
   "source": [
    "#Batch gradient descent\n",
    "\n",
    "\n",
    "def batch_GDS(X,y_true,epochs,alpha=0.001):\n",
    "    \n",
    "    features=X.shape[1] \n",
    "    #initializing initil weights with ones\n",
    "    \n",
    "    w=np.ones(features)\n",
    "    b=0\n",
    "    total=len(X)\n",
    "    cost_list=[]\n",
    "    epoch_list=[]\n",
    "    \n",
    "    for i in range(epochs):\n",
    "        \n",
    "#         y_pred= w[0]*X[0] + w[1]*x[1] + b\n",
    "        y_pred=np.dot(w,X.T)\n",
    "       \n",
    "        #derivatives\n",
    "        w_grad = -(2/total)*(X.T.dot(y_true-y_pred))\n",
    "        b_grad = -(2/total)*np.sum(y_true-y_pred)\n",
    "        \n",
    "        w = w - alpha * w_grad\n",
    "        b = b - alpha * b_grad\n",
    "        \n",
    "        cost = np.mean(np.square(y_true-y_pred)) # MSE (Mean Squared Error)\n",
    "        \n",
    "        if i%10==0:\n",
    "            cost_list.append(cost)\n",
    "            epoch_list.append(i)\n",
    "        \n",
    "    return w, b, cost, cost_list, epoch_list\n",
    "\n",
    "w, b, cost, cost_list, epoch_list = batch_GDS(scaled_X,scaled_y.reshape(scaled_y.shape[0],),5000)\n",
    "w, b, cost\n",
    "    "
   ]
  },
  {
   "cell_type": "code",
   "execution_count": 55,
   "id": "48f466bd",
   "metadata": {},
   "outputs": [
    {
     "data": {
      "text/plain": [
       "array([0.58398868, 0.37911886])"
      ]
     },
     "execution_count": 55,
     "metadata": {},
     "output_type": "execute_result"
    }
   ],
   "source": [
    "w"
   ]
  },
  {
   "cell_type": "code",
   "execution_count": 56,
   "id": "e19341f2",
   "metadata": {},
   "outputs": [
    {
     "data": {
      "text/plain": [
       "[<matplotlib.lines.Line2D at 0x12118f580>]"
      ]
     },
     "execution_count": 56,
     "metadata": {},
     "output_type": "execute_result"
    },
    {
     "data": {
      "image/png": "[encoded data removed]",
      "text/plain": [
       "<Figure size 432x288 with 1 Axes>"
      ]
     },
     "metadata": {
      "needs_background": "light"
     },
     "output_type": "display_data"
    }
   ],
   "source": [
    "plt.xlabel(\"epoch\")\n",
    "plt.ylabel(\"cost\")\n",
    "plt.plot(epoch_list,cost_list)"
   ]
  },
  {
   "cell_type": "code",
   "execution_count": 57,
   "id": "b45ec2c7",
   "metadata": {},
   "outputs": [
    {
     "data": {
      "text/plain": [
       "-1.2863927012147247"
      ]
     },
     "execution_count": 57,
     "metadata": {},
     "output_type": "execute_result"
    }
   ],
   "source": [
    "b"
   ]
  },
  {
   "cell_type": "code",
   "execution_count": 58,
   "id": "699d0279",
   "metadata": {},
   "outputs": [
    {
     "data": {
      "text/plain": [
       "[0.2768777174681,\n",
       " 0.2718372937665704,\n",
       " 0.2668919323348584,\n",
       " 0.26203983914970697,\n",
       " 0.25727925404544794,\n",
       " 0.25260845007502664,\n",
       " 0.24802573288308555,\n",
       " 0.2435294400908797,\n",
       " 0.23911794069279887,\n",
       " 0.23478963446428064,\n",
       " 0.23054295138089603,\n",
       " 0.2263763510483995,\n",
       " 0.22228832214353517,\n",
       " 0.2182773818653952,\n",
       " 0.21434207539713435,\n",
       " 0.2104809753778417,\n",
       " 0.20669268138438035,\n",
       " 0.202975819423005,\n",
       " 0.19932904143057553,\n",
       " 0.19575102478518272,\n",
       " 0.19224047182600995,\n",
       " 0.18879610938225636,\n",
       " 0.1854166883109502,\n",
       " 0.1821009830434855,\n",
       " 0.178847791140715,\n",
       " 0.17565593285644204,\n",
       " 0.17252425070914795,\n",
       " 0.16945160906180382,\n",
       " 0.1664368937096113,\n",
       " 0.16347901147552377,\n",
       " 0.16057688981340185,\n",
       " 0.15772947641865698,\n",
       " 0.1549357388462443,\n",
       " 0.1521946641358643,\n",
       " 0.14950525844423815,\n",
       " 0.1468665466843228,\n",
       " 0.1442775721713345,\n",
       " 0.14173739627545381,\n",
       " 0.1392450980810837,\n",
       " 0.13679977405253924,\n",
       " 0.13440053770604582,\n",
       " 0.13204651928792815,\n",
       " 0.1297368654588723,\n",
       " 0.1274707389841465,\n",
       " 0.1252473184296684,\n",
       " 0.12306579786380785,\n",
       " 0.12092538656481817,\n",
       " 0.11882530873378816,\n",
       " 0.1167648032130117,\n",
       " 0.11474312320967257,\n",
       " 0.11275953602474353,\n",
       " 0.11081332278700247,\n",
       " 0.1089037781920675,\n",
       " 0.1070302102463578,\n",
       " 0.10519194001588605,\n",
       " 0.10338830137979212,\n",
       " 0.10161864078852798,\n",
       " 0.09988231702660622,\n",
       " 0.09817870097982603,\n",
       " 0.09650717540689276,\n",
       " 0.09486713471534669,\n",
       " 0.09325798474172133,\n",
       " 0.09167914253585009,\n",
       " 0.09013003614924421,\n",
       " 0.08861010442746393,\n",
       " 0.08711879680640847,\n",
       " 0.08565557311245067,\n",
       " 0.084219903366343,\n",
       " 0.08281126759082473,\n",
       " 0.08142915562186001,\n",
       " 0.08007306692343849,\n",
       " 0.07874251040587076,\n",
       " 0.07743700424751335,\n",
       " 0.07615607571985779,\n",
       " 0.07489926101592098,\n",
       " 0.07366610508187439,\n",
       " 0.07245616145185044,\n",
       " 0.07126899208586673,\n",
       " 0.07010416721080899,\n",
       " 0.06896126516441486,\n",
       " 0.06783987224220275,\n",
       " 0.06673958254728865,\n",
       " 0.06565999784303772,\n",
       " 0.0646007274084969,\n",
       " 0.06356138789655538,\n",
       " 0.0625416031947822,\n",
       " 0.061541004288890214,\n",
       " 0.060559229128776745,\n",
       " 0.05959592249709249,\n",
       " 0.05865073588029048,\n",
       " 0.057723327342109165,\n",
       " 0.05681336139944297,\n",
       " 0.055920508900555374,\n",
       " 0.05504444690559053,\n",
       " 0.05418485856933984,\n",
       " 0.05334143302622117,\n",
       " 0.05251386527742856,\n",
       " 0.05170185608021187,\n",
       " 0.050905111839245995,\n",
       " 0.05012334450004996,\n",
       " 0.04935627144441784,\n",
       " 0.04860361538782294,\n",
       " 0.04786510427875802,\n",
       " 0.047140471199975754,\n",
       " 0.04642945427159241,\n",
       " 0.04573179655602067,\n",
       " 0.04504724596469624,\n",
       " 0.04437555516656515,\n",
       " 0.043716481498297696,\n",
       " 0.04306978687619725,\n",
       " 0.04243523770977124,\n",
       " 0.0418126048169335,\n",
       " 0.041201663340806785,\n",
       " 0.040602192668095574,\n",
       " 0.04001397634899942,\n",
       " 0.0394368020186373,\n",
       " 0.038870461319955495,\n",
       " 0.03831474982808998,\n",
       " 0.037769466976156484,\n",
       " 0.0372344159824408,\n",
       " 0.03670940377896354,\n",
       " 0.03619424094139278,\n",
       " 0.03568874162027963,\n",
       " 0.03519272347359137,\n",
       " 0.03470600760051805,\n",
       " 0.034228418476527966,\n",
       " 0.03375978388964926,\n",
       " 0.03329993487795378,\n",
       " 0.0328487056682208,\n",
       " 0.032405933615758234,\n",
       " 0.031971459145359815,\n",
       " 0.03154512569337632,\n",
       " 0.03112677965088,\n",
       " 0.03071627030790201,\n",
       " 0.03031344979872185,\n",
       " 0.029918173048189334,\n",
       " 0.029530297719060024,\n",
       " 0.029149684160323874,\n",
       " 0.028776195356509715,\n",
       " 0.028409696877946027,\n",
       " 0.02805005683196074,\n",
       " 0.02769714581500171,\n",
       " 0.027350836865661067,\n",
       " 0.027011005418585865,\n",
       " 0.02667752925925875,\n",
       " 0.026350288479631955,\n",
       " 0.02602916543459848,\n",
       " 0.025714044699285166,\n",
       " 0.02540481302715101,\n",
       " 0.025101359308877098,\n",
       " 0.024803574532031872,\n",
       " 0.024511351741497645,\n",
       " 0.024224586000644296,\n",
       " 0.02394317435323525,\n",
       " 0.023667015786052688,\n",
       " 0.02339601119222812,\n",
       " 0.02313006333526485,\n",
       " 0.022869076813739533,\n",
       " 0.022612958026669752,\n",
       " 0.022361615139535423,\n",
       " 0.022114958050941384,\n",
       " 0.021872898359908848,\n",
       " 0.021635349333784686,\n",
       " 0.02140222587675584,\n",
       " 0.021173444498958256,\n",
       " 0.020948923286168795,\n",
       " 0.020728581870068784,\n",
       " 0.02051234139906925,\n",
       " 0.02030012450968647,\n",
       " 0.02009185529845773,\n",
       " 0.019887459294387243,\n",
       " 0.019686863431912022,\n",
       " 0.019489996024377818,\n",
       " 0.019296786738015916,\n",
       " 0.019107166566410656,\n",
       " 0.018921067805449304,\n",
       " 0.01873842402874419,\n",
       " 0.018559170063519044,\n",
       " 0.0183832419669503,\n",
       " 0.018210577002954857,\n",
       " 0.018041113619415915,\n",
       " 0.017874791425838678,\n",
       " 0.017711551171427697,\n",
       " 0.01755133472357796,\n",
       " 0.017394085046771972,\n",
       " 0.017239746181874956,\n",
       " 0.017088263225820948,\n",
       " 0.016939582311682185,\n",
       " 0.016793650589114584,\n",
       " 0.016650416205172512,\n",
       " 0.016509828285485174,\n",
       " 0.016371836915788796,\n",
       " 0.016236393123806873,\n",
       " 0.016103448861472705,\n",
       " 0.015972956987487175,\n",
       " 0.01584487125020594,\n",
       " 0.01571914627084949,\n",
       " 0.01559573752702995,\n",
       " 0.015474601336588992,\n",
       " 0.01535569484174057,\n",
       " 0.015238975993513102,\n",
       " 0.015124403536485087,\n",
       " 0.015011936993808936,\n",
       " 0.014901536652517358,\n",
       " 0.014793163549107136,\n",
       " 0.014686779455394797,\n",
       " 0.01458234686463945,\n",
       " 0.014479828977927373,\n",
       " 0.014379189690813579,\n",
       " 0.014280393580215512,\n",
       " 0.014183405891554068,\n",
       " 0.014088192526137355,\n",
       " 0.013994720028782433,\n",
       " 0.013902955575670789,\n",
       " 0.013812866962432942,\n",
       " 0.013724422592457926,\n",
       " 0.013637591465423385,\n",
       " 0.013552343166042233,\n",
       " 0.013468647853021529,\n",
       " 0.013386476248229875,\n",
       " 0.013305799626069157,\n",
       " 0.013226589803046898,\n",
       " 0.013148819127545428,\n",
       " 0.013072460469784095,\n",
       " 0.012997487211970962,\n",
       " 0.012923873238640296,\n",
       " 0.012851592927172464,\n",
       " 0.012780621138492775,\n",
       " 0.012710933207945743,\n",
       " 0.012642504936341689,\n",
       " 0.012575312581172263,\n",
       " 0.012509332847991744,\n",
       " 0.012444542881961066,\n",
       " 0.012380920259551276,\n",
       " 0.012318442980403747,\n",
       " 0.012257089459343909,\n",
       " 0.012196838518545725,\n",
       " 0.012137669379844002,\n",
       " 0.012079561657191843,\n",
       " 0.012022495349260462,\n",
       " 0.011966450832178527,\n",
       " 0.011911408852408729,\n",
       " 0.011857350519758617,\n",
       " 0.011804257300523428,\n",
       " 0.011752111010758284,\n",
       " 0.011700893809677386,\n",
       " 0.01165058819317776,\n",
       " 0.011601176987485267,\n",
       " 0.011552643342920457,\n",
       " 0.011504970727782168,\n",
       " 0.011458142922346443,\n",
       " 0.011412144012978834,\n",
       " 0.011366958386357689,\n",
       " 0.011322570723806583,\n",
       " 0.011278965995733614,\n",
       " 0.011236129456175673,\n",
       " 0.011194046637445736,\n",
       " 0.011152703344881042,\n",
       " 0.011112085651690546,\n",
       " 0.011072179893899482,\n",
       " 0.011032972665389398,\n",
       " 0.010994450813031794,\n",
       " 0.010956601431913586,\n",
       " 0.010919411860652678,\n",
       " 0.010882869676801955,\n",
       " 0.010846962692339996,\n",
       " 0.0108116789492469,\n",
       " 0.010777006715163615,\n",
       " 0.010742934479133145,\n",
       " 0.010709450947422195,\n",
       " 0.0106765450394216,\n",
       " 0.010644205883624209,\n",
       " 0.010612422813678569,\n",
       " 0.010581185364517196,\n",
       " 0.010550483268557825,\n",
       " 0.010520306451976416,\n",
       " 0.010490645031050462,\n",
       " 0.010461489308571312,\n",
       " 0.010432829770324193,\n",
       " 0.010404657081634742,\n",
       " 0.010376962083980543,\n",
       " 0.01034973579166681,\n",
       " 0.01032296938856467,\n",
       " 0.01029665422491106,\n",
       " 0.010270781814169001,\n",
       " 0.010245343829947145,\n",
       " 0.01022033210297743,\n",
       " 0.010195738618149774,\n",
       " 0.010171555511602788,\n",
       " 0.010147775067869316,\n",
       " 0.010124389717075886,\n",
       " 0.01010139203219503,\n",
       " 0.010078774726349424,\n",
       " 0.01005653065016691,\n",
       " 0.010034652789185469,\n",
       " 0.010013134261307127,\n",
       " 0.00999196831429996,\n",
       " 0.00997114832334716,\n",
       " 0.009950667788642452,\n",
       " 0.00993052033303084,\n",
       " 0.00991069969969387,\n",
       " 0.009891199749878619,\n",
       " 0.009872014460669503,\n",
       " 0.009853137922802142,\n",
       " 0.009834564338518512,\n",
       " 0.009816288019462549,\n",
       " 0.009798303384615481,\n",
       " 0.009780604958270083,\n",
       " 0.009763187368043262,\n",
       " 0.009746045342926026,\n",
       " 0.00972917371137036,\n",
       " 0.009712567399412144,\n",
       " 0.009696221428829505,\n",
       " 0.009680130915335967,\n",
       " 0.00966429106680762,\n",
       " 0.009648697181543837,\n",
       " 0.009633344646560765,\n",
       " 0.009618228935917024,\n",
       " 0.00960334560907101,\n",
       " 0.009588690309269204,\n",
       " 0.009574258761964905,\n",
       " 0.009560046773266773,\n",
       " 0.009546050228416694,\n",
       " 0.00953226509029634,\n",
       " 0.009518687397961915,\n",
       " 0.009505313265206608,\n",
       " 0.009492138879150076,\n",
       " 0.009479160498854623,\n",
       " 0.009466374453967499,\n",
       " 0.009453777143388766,\n",
       " 0.00944136503396435,\n",
       " 0.009429134659203739,\n",
       " 0.009417082618021898,\n",
       " 0.009405205573504914,\n",
       " 0.009393500251698921,\n",
       " 0.00938196344042192,\n",
       " 0.009370591988097993,\n",
       " 0.009359382802613529,\n",
       " 0.009348332850195018,\n",
       " 0.009337439154308071,\n",
       " 0.009326698794577142,\n",
       " 0.009316108905725732,\n",
       " 0.009305666676536515,\n",
       " 0.009295369348831104,\n",
       " 0.00928521421646912,\n",
       " 0.00927519862436609,\n",
       " 0.009265319967529922,\n",
       " 0.009255575690115519,\n",
       " 0.009245963284497307,\n",
       " 0.0092364802903592,\n",
       " 0.009227124293801745,\n",
       " 0.00921789292646617,\n",
       " 0.009208783864674894,\n",
       " 0.009199794828588324,\n",
       " 0.009190923581377523,\n",
       " 0.009182167928412487,\n",
       " 0.009173525716465772,\n",
       " 0.009164994832931126,\n",
       " 0.009156573205056891,\n",
       " 0.009148258799193823,\n",
       " 0.009140049620057203,\n",
       " 0.00913194371000275,\n",
       " 0.009123939148316293,\n",
       " 0.009116034050516825,\n",
       " 0.009108226567672677,\n",
       " 0.009100514885730646,\n",
       " 0.009092897224857757,\n",
       " 0.00908537183879544,\n",
       " 0.009077937014225917,\n",
       " 0.009070591070150546,\n",
       " 0.009063332357279866,\n",
       " 0.00905615925743519,\n",
       " 0.009049070182961484,\n",
       " 0.009042063576151298,\n",
       " 0.009035137908679608,\n",
       " 0.009028291681049305,\n",
       " 0.009021523422047128,\n",
       " 0.009014831688209931,\n",
       " 0.009008215063300925,\n",
       " 0.009001672157795912,\n",
       " 0.00899520160837911,\n",
       " 0.008988802077448595,\n",
       " 0.00898247225263097,\n",
       " 0.0089762108463053,\n",
       " 0.008970016595135962,\n",
       " 0.008963888259614318,\n",
       " 0.008957824623609074,\n",
       " 0.008951824493925068,\n",
       " 0.00894588669987045,\n",
       " 0.00894001009283198,\n",
       " 0.00893419354585837,\n",
       " 0.008928435953251466,\n",
       " 0.008922736230165155,\n",
       " 0.008917093312211861,\n",
       " 0.008911506155076446,\n",
       " 0.008905973734137393,\n",
       " 0.008900495044095152,\n",
       " 0.008895069098607496,\n",
       " 0.008889694929931757,\n",
       " 0.008884371588573825,\n",
       " 0.008879098142943742,\n",
       " 0.008873873679017836,\n",
       " 0.008868697300007191,\n",
       " 0.008863568126032405,\n",
       " 0.00885848529380448,\n",
       " 0.00885344795631171,\n",
       " 0.008848455282512517,\n",
       " 0.008843506457034044,\n",
       " 0.008838600679876478,\n",
       " 0.008833737166122905,\n",
       " 0.008828915145654703,\n",
       " 0.008824133862872226,\n",
       " 0.00881939257642085,\n",
       " 0.008814690558922096,\n",
       " 0.008810027096709914,\n",
       " 0.008805401489571884,\n",
       " 0.00880081305049532,\n",
       " 0.008796261105418176,\n",
       " 0.008791744992984645,\n",
       " 0.008787264064305352,\n",
       " 0.008782817682722112,\n",
       " 0.008778405223577097,\n",
       " 0.008774026073986366,\n",
       " 0.008769679632617659,\n",
       " 0.008765365309472428,\n",
       " 0.008761082525671928,\n",
       " 0.008756830713247359,\n",
       " 0.008752609314934006,\n",
       " 0.008748417783969203,\n",
       " 0.008744255583894172,\n",
       " 0.008740122188359544,\n",
       " 0.0087360170809346,\n",
       " 0.008731939754920067,\n",
       " 0.008727889713164499,\n",
       " 0.008723866467884067,\n",
       " 0.008719869540485797,\n",
       " 0.008715898461394103,\n",
       " 0.008711952769880646,\n",
       " 0.008708032013897336,\n",
       " 0.00870413574991255,\n",
       " 0.00870026354275041,\n",
       " 0.008696414965433084,\n",
       " 0.008692589599026083,\n",
       " 0.008688787032486487,\n",
       " 0.008685006862513996,\n",
       " 0.008681248693404827,\n",
       " 0.008677512136908361,\n",
       " 0.008673796812086484,\n",
       " 0.008670102345175599,\n",
       " 0.008666428369451216,\n",
       " 0.00866277452509514,\n",
       " 0.008659140459065117,\n",
       " 0.008655525824966984,\n",
       " 0.008651930282929193,\n",
       " 0.008648353499479724,\n",
       " 0.008644795147425343,\n",
       " 0.008641254905733075,\n",
       " 0.00863773245941398,\n",
       " 0.008634227499409088,\n",
       " 0.008630739722477493,\n",
       " 0.008627268831086558,\n",
       " 0.008623814533304198,\n",
       " 0.008620376542693193,\n",
       " 0.008616954578207483,\n",
       " 0.008613548364090456,\n",
       " 0.008610157629775097,\n",
       " 0.008606782109786094,\n",
       " 0.008603421543643708,\n",
       " 0.008600075675769548,\n",
       " 0.008596744255394053,\n",
       " 0.008593427036465746,\n",
       " 0.00859012377756221,\n",
       " 0.008586834241802722,\n",
       " 0.008583558196762564,\n",
       " 0.008580295414388922,\n",
       " 0.008577045670918378,\n",
       " 0.008573808746796004,\n",
       " 0.008570584426595897,\n",
       " 0.00856737249894329,\n",
       " 0.008564172756438105,\n",
       " 0.00856098499557994,\n",
       " 0.008557809016694484,\n",
       " 0.008554644623861319,\n",
       " 0.008551491624843078,\n",
       " 0.008548349831015947,\n",
       " 0.008545219057301488,\n",
       " 0.008542099122099705,\n",
       " 0.008538989847223444,\n",
       " 0.008535891057833967,\n",
       " 0.00853280258237778,\n",
       " 0.008529724252524627,\n",
       " 0.008526655903106679,\n",
       " 0.008523597372058855,\n",
       " 0.008520548500360273,\n",
       " 0.008517509131976806,\n",
       " 0.008514479113804724,\n",
       " 0.008511458295615403,\n",
       " 0.008508446530001055,\n",
       " 0.008505443672321526,\n",
       " 0.008502449580652048]"
      ]
     },
     "execution_count": 58,
     "metadata": {},
     "output_type": "execute_result"
    }
   ],
   "source": [
    "cost_list"
   ]
  },
  {
   "cell_type": "code",
   "execution_count": 61,
   "id": "1a45c3ce",
   "metadata": {},
   "outputs": [
    {
     "name": "stdout",
     "output_type": "stream",
     "text": [
      "0.5839886806487791 0.3791188558605229 0.0 -1.2863927012147247\n",
      "-0.9239169683982412\n"
     ]
    },
    {
     "name": "stderr",
     "output_type": "stream",
     "text": [
      "/Users/serahverg/opt/miniconda3/lib/python3.9/site-packages/sklearn/base.py:450: UserWarning: X does not have valid feature names, but MinMaxScaler was fitted with feature names\n",
      "  warnings.warn(\n"
     ]
    },
    {
     "data": {
      "text/plain": [
       "array([[-92.72879073]])"
      ]
     },
     "execution_count": 61,
     "metadata": {},
     "output_type": "execute_result"
    }
   ],
   "source": [
    "#prediction function:\n",
    "\n",
    "\n",
    "def predict(area,bedrooms,w,b):\n",
    "    scaled_X = x.transform([[area, bedrooms]])[0]\n",
    "    print(w[0],w[1],scaled_X[1],b)\n",
    "    price = w[0] * scaled_X[0] + w[1] * scaled_X[1] + b\n",
    "    print(price)\n",
    "    return y.inverse_transform([[price]])\n",
    "\n",
    "predict(2600,1,w,b)"
   ]
  },
  {
   "cell_type": "code",
   "execution_count": 64,
   "id": "4b95853d",
   "metadata": {},
   "outputs": [],
   "source": [
    "import random"
   ]
  },
  {
   "cell_type": "code",
   "execution_count": 65,
   "id": "8fef7177",
   "metadata": {},
   "outputs": [
    {
     "data": {
      "text/plain": [
       "(array([0.70861204, 0.67721615]), -0.2335105942885086, 0.002180905280600755)"
      ]
     },
     "execution_count": 65,
     "metadata": {},
     "output_type": "execute_result"
    }
   ],
   "source": [
    "def SGD(X, y_true, epochs, learning_rate = 0.01):\n",
    " \n",
    "    number_of_features = X.shape[1]\n",
    "    # numpy array with 1 row and columns equal to number of features. In \n",
    "    # our case number_of_features = 3 (area, bedroom and age)\n",
    "    w = np.ones(shape=(number_of_features)) \n",
    "    b = 0\n",
    "    total_samples = X.shape[0]\n",
    "    \n",
    "    cost_list = []\n",
    "    epoch_list = []\n",
    "    \n",
    "    for i in range(epochs):    \n",
    "        random_index = random.randint(0,total_samples-1) # random index from total samples\n",
    "        sample_x = X[random_index]\n",
    "        sample_y = y_true[random_index]\n",
    "        \n",
    "        y_predicted = np.dot(w, sample_x.T) + b\n",
    "    \n",
    "        w_grad = -(2/total_samples)*(sample_x.T.dot(sample_y-y_predicted))\n",
    "        b_grad = -(2/total_samples)*(sample_y-y_predicted)\n",
    "        \n",
    "        w = w - learning_rate * w_grad\n",
    "        b = b - learning_rate * b_grad\n",
    "        \n",
    "        cost = np.square(sample_y-y_predicted)\n",
    "        \n",
    "        if i%100==0: # at every 100th iteration record the cost and epoch value\n",
    "            cost_list.append(cost)\n",
    "            epoch_list.append(i)\n",
    "        \n",
    "    return w, b, cost, cost_list, epoch_list\n",
    "\n",
    "w_sgd, b_sgd, cost_sgd, cost_list_sgd, epoch_list_sgd = SGD(scaled_X,scaled_y.reshape(scaled_y.shape[0],),10000)\n",
    "w_sgd, b_sgd, cost_sgd"
   ]
  },
  {
   "cell_type": "code",
   "execution_count": 66,
   "id": "28483623",
   "metadata": {},
   "outputs": [
    {
     "data": {
      "text/plain": [
       "[<matplotlib.lines.Line2D at 0x12150e880>]"
      ]
     },
     "execution_count": 66,
     "metadata": {},
     "output_type": "execute_result"
    },
    {
     "data": {
      "image/png": "[encoded data removed]",
      "text/plain": [
       "<Figure size 432x288 with 1 Axes>"
      ]
     },
     "metadata": {
      "needs_background": "light"
     },
     "output_type": "display_data"
    }
   ],
   "source": [
    "plt.xlabel(\"epoch\")\n",
    "plt.ylabel(\"cost\")\n",
    "plt.plot(epoch_list_sgd,cost_list_sgd)"
   ]
  },
  {
   "cell_type": "code",
   "execution_count": 77,
   "id": "de05f454",
   "metadata": {},
   "outputs": [
    {
     "data": {
      "text/plain": [
       "(array([0.70997053, 0.67813156]), -0.23327158195920047, 0.015278810850522257)"
      ]
     },
     "execution_count": 77,
     "metadata": {},
     "output_type": "execute_result"
    }
   ],
   "source": [
    "def mini_batch_gradient_descent(X, y_true, epochs = 100, batch_size = 5, learning_rate = 0.01):\n",
    "    \n",
    "    number_of_features = X.shape[1]\n",
    "    # numpy array with 1 row and columns equal to number of features. In \n",
    "    # our case number_of_features = 3 (area, bedroom and age)\n",
    "    w = np.ones(shape=(number_of_features)) \n",
    "    b = 0\n",
    "    total_samples = X.shape[0] # number of rows in X\n",
    "    \n",
    "    if batch_size > total_samples: # In this case mini batch becomes same as batch gradient descent\n",
    "        batch_size = total_samples\n",
    "        \n",
    "    cost_list = []\n",
    "    epoch_list = []\n",
    "    \n",
    "    num_batches = int(total_samples/batch_size)\n",
    "    \n",
    "    for i in range(epochs):    \n",
    "        random_indices = np.random.permutation(total_samples)\n",
    "        X_tmp = X[random_indices]\n",
    "        y_tmp = y_true[random_indices]\n",
    "        \n",
    "        for j in range(0,total_samples,batch_size):\n",
    "            Xj = X_tmp[j:j+batch_size]\n",
    "            yj = y_tmp[j:j+batch_size]\n",
    "            y_predicted = np.dot(w, Xj.T) + b\n",
    "            \n",
    "            w_grad = -(2/len(Xj))*(Xj.T.dot(yj-y_predicted))\n",
    "            b_grad = -(2/len(Xj))*np.sum(yj-y_predicted)\n",
    "            \n",
    "            w = w - learning_rate * w_grad\n",
    "            b = b - learning_rate * b_grad\n",
    "                \n",
    "            cost = np.mean(np.square(yj-y_predicted)) # MSE (Mean Squared Error)\n",
    "        \n",
    "        if i%10==0:\n",
    "            cost_list.append(cost)\n",
    "            epoch_list.append(i)\n",
    "        \n",
    "    return w, b, cost, cost_list, epoch_list\n",
    "\n",
    "w, b, cost, cost_list, epoch_list = mini_batch_gradient_descent(\n",
    "    scaled_X,\n",
    "    scaled_y.reshape(scaled_y.shape[0],),\n",
    "    epochs = 120,\n",
    "    batch_size = 5\n",
    ")\n",
    "w, b, cost\n"
   ]
  },
  {
   "cell_type": "code",
   "execution_count": 80,
   "id": "c7e56b41",
   "metadata": {},
   "outputs": [
    {
     "data": {
      "text/plain": [
       "[<matplotlib.lines.Line2D at 0x1216b6a90>]"
      ]
     },
     "execution_count": 80,
     "metadata": {},
     "output_type": "execute_result"
    },
    {
     "data": {
      "image/png": "[encoded data removed]",
      "text/plain": [
       "<Figure size 432x288 with 1 Axes>"
      ]
     },
     "metadata": {
      "needs_background": "light"
     },
     "output_type": "display_data"
    }
   ],
   "source": [
    "plt.xlabel(\"epoch\")\n",
    "plt.ylabel(\"cost\")\n",
    "plt.plot(epoch_list,cost_list)"
   ]
  },
  {
   "cell_type": "code",
   "execution_count": null,
   "id": "acf299a1",
   "metadata": {},
   "outputs": [],
   "source": []
  }
 ],
 "metadata": {
  "kernelspec": {
   "display_name": "Python 3 (ipykernel)",
   "language": "python",
   "name": "python3"
  },
  "language_info": {
   "codemirror_mode": {
    "name": "ipython",
    "version": 3
   },
   "file_extension": ".py",
   "mimetype": "text/x-python",
   "name": "python",
   "nbconvert_exporter": "python",
   "pygments_lexer": "ipython3",
   "version": "3.9.13"
  }
 },
 "nbformat": 4,
 "nbformat_minor": 5
}
