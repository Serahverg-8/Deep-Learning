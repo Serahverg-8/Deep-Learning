{
  "nbformat": 4,
  "nbformat_minor": 0,
  "metadata": {
    "colab": {
      "provenance": [],
      "gpuType": "T4",
      "authorship_tag": "ABX9TyNh6/6ijzFxTL1Q7VDem7Mn",
      "include_colab_link": true
    },
    "kernelspec": {
      "name": "python3",
      "display_name": "Python 3"
    },
    "language_info": {
      "name": "python"
    },
    "accelerator": "GPU"
  },
  "cells": [
    {
      "cell_type": "markdown",
      "metadata": {
        "id": "view-in-github",
        "colab_type": "text"
      },
      "source": [
        "<a href=\"https://colab.research.google.com/github/Serahverg-8/Deep-Learning-pytorch/blob/main/Pytorch_model_building_example_pytorch02.ipynb\" target=\"_parent\"><img src=\"https://colab.research.google.com/assets/colab-badge.svg\" alt=\"Open In Colab\"/></a>"
      ]
    },
    {
      "cell_type": "code",
      "execution_count": 2,
      "metadata": {
        "colab": {
          "base_uri": "https://localhost:8080/"
        },
        "id": "fn6hlNvMq64x",
        "outputId": "5354332e-0a7c-4fd9-e4cd-76271dfdcedc"
      },
      "outputs": [
        {
          "output_type": "execute_result",
          "data": {
            "text/plain": [
              "True"
            ]
          },
          "metadata": {},
          "execution_count": 2
        }
      ],
      "source": [
        "#device agnostic code\n",
        "import torch\n",
        "torch.cuda.is_available()\n"
      ]
    },
    {
      "cell_type": "code",
      "source": [
        "import matplotlib.pyplot as plt\n",
        "from torch import nn"
      ],
      "metadata": {
        "id": "5Mn1crrus_D1"
      },
      "execution_count": 3,
      "outputs": []
    },
    {
      "cell_type": "code",
      "source": [
        "device = \"cuda\" if torch.cuda.is_available() else \"cpu\""
      ],
      "metadata": {
        "id": "KCPDnCr2rI9V"
      },
      "execution_count": 4,
      "outputs": []
    },
    {
      "cell_type": "code",
      "source": [
        "\n",
        "device"
      ],
      "metadata": {
        "colab": {
          "base_uri": "https://localhost:8080/",
          "height": 35
        },
        "id": "GXptZEGvrJth",
        "outputId": "c3598238-7796-4462-a1ca-802d26014aef"
      },
      "execution_count": 5,
      "outputs": [
        {
          "output_type": "execute_result",
          "data": {
            "text/plain": [
              "'cuda'"
            ],
            "application/vnd.google.colaboratory.intrinsic+json": {
              "type": "string"
            }
          },
          "metadata": {},
          "execution_count": 5
        }
      ]
    },
    {
      "cell_type": "code",
      "source": [
        "\n",
        "\n",
        "#Getting the DATA\n",
        "\n",
        "\n",
        "#creating data - linear regression. (known parameters set by us)\n",
        "#only one feature\n",
        "weight = 0.7\n",
        "bias = 0.3\n",
        "\n",
        "\n",
        "#create\n",
        "start = 0\n",
        "end = 1\n",
        "step = 0.02\n",
        "\n",
        "X = torch.arange(start,end,step).unsqueeze(dim=1)\n",
        "#usually we work with 2d so each row is one input 50 X 1 . so add 1 to dim 1\n",
        "\n",
        "X.shape"
      ],
      "metadata": {
        "colab": {
          "base_uri": "https://localhost:8080/"
        },
        "id": "zpBpAZotrL2A",
        "outputId": "f91ac32e-81e8-4198-8561-b9f6c0617096"
      },
      "execution_count": 6,
      "outputs": [
        {
          "output_type": "execute_result",
          "data": {
            "text/plain": [
              "torch.Size([50, 1])"
            ]
          },
          "metadata": {},
          "execution_count": 6
        }
      ]
    },
    {
      "cell_type": "code",
      "source": [
        "#Linear regression. Y\n",
        "\n",
        "y = X.mul(weight) + bias"
      ],
      "metadata": {
        "id": "tTjTApWxsukZ"
      },
      "execution_count": 7,
      "outputs": []
    },
    {
      "cell_type": "code",
      "source": [
        "train_split = int(0.8 * len(X))\n",
        "\n",
        "X_train = X[:train_split]\n",
        "y_train = y[:train_split]\n",
        "\n",
        "X_test = X[train_split:]\n",
        "y_test = y[train_split:]"
      ],
      "metadata": {
        "id": "PUE_Emb_s3vk"
      },
      "execution_count": 8,
      "outputs": []
    },
    {
      "cell_type": "code",
      "source": [
        "print(X_train.shape,y_train.shape,X_test.shape,y_test.shape)"
      ],
      "metadata": {
        "colab": {
          "base_uri": "https://localhost:8080/"
        },
        "id": "jeJDrgx1s4S3",
        "outputId": "8a5782c9-d193-410a-97ce-117b18e1981f"
      },
      "execution_count": 9,
      "outputs": [
        {
          "output_type": "stream",
          "name": "stdout",
          "text": [
            "torch.Size([40, 1]) torch.Size([40, 1]) torch.Size([10, 1]) torch.Size([10, 1])\n"
          ]
        }
      ]
    },
    {
      "cell_type": "code",
      "source": [
        "def visualize(X_train,y_train,X_test,y_test,predictions=None):\n",
        "  plt.figure(figsize=(10,5))\n",
        "  plt.scatter(X_train,y_train,c=\"blue\",s=4,label=\"Training Data\")\n",
        "  plt.scatter(X_test,y_test,c=\"red\",s=4,label=\"Test Data\")\n",
        "  if predictions is not  None:\n",
        "      plt.scatter(X_test,predictions,c=\"black\",s=3,label=\"Predicted\")\n",
        "  plt.legend()\n",
        "  plt.plot()"
      ],
      "metadata": {
        "id": "4JQojuFVs6NO"
      },
      "execution_count": 10,
      "outputs": []
    },
    {
      "cell_type": "code",
      "source": [
        "visualize(X_train,y_train,X_test,y_test)"
      ],
      "metadata": {
        "colab": {
          "base_uri": "https://localhost:8080/",
          "height": 445
        },
        "id": "2jeiC6imtCkt",
        "outputId": "3c36a0b0-cce6-41a1-f4fa-5599a879992d"
      },
      "execution_count": 11,
      "outputs": [
        {
          "output_type": "display_data",
          "data": {
            "text/plain": [
              "<Figure size 1000x500 with 1 Axes>"
            ],
            "image/png": "[encoded data removed]"
          },
          "metadata": {}
        }
      ]
    },
    {
      "cell_type": "markdown",
      "source": [
        "#Manual way"
      ],
      "metadata": {
        "id": "pFBqOWiavsBR"
      }
    },
    {
      "cell_type": "code",
      "source": [
        "#building a Linear pytorch model\n",
        "\n",
        "class Linear_Reg(nn.Module):\n",
        "  def __init__(self):\n",
        "    super().__init__()\n",
        "\n",
        "    #weight and bias are objects of the nn class' parameter\n",
        "    #initializing the parameters\n",
        "    self.weight=nn.Parameter(torch.rand(1),requires_grad=True)\n",
        "    self.bias=nn.Parameter(torch.rand(1),requires_grad=True)\n",
        "\n",
        "\n",
        "\n",
        "  #create the forward pass\n",
        "  def forward(self,X):\n",
        "    return X.mul(self.weight) + self.bias\n",
        "\n",
        "\n"
      ],
      "metadata": {
        "id": "UrSbqQThtG3a"
      },
      "execution_count": 12,
      "outputs": []
    },
    {
      "cell_type": "code",
      "source": [
        "#initialize an instance of this model.\n",
        "#this will assign the parameters to a random number"
      ],
      "metadata": {
        "id": "Jt8CjyNhuBSo"
      },
      "execution_count": 13,
      "outputs": []
    },
    {
      "cell_type": "markdown",
      "source": [
        "#Using nn to create parameters"
      ],
      "metadata": {
        "id": "6EXQSlT7vvTH"
      }
    },
    {
      "cell_type": "code",
      "source": [
        "#building a Linear pytorch model --> nn.Linear Applies a linear transformation to the incoming data:y=xA.T +b\n",
        "\n",
        "class Linear_Reg(nn.Module):\n",
        "  def __init__(self):\n",
        "    super().__init__()\n",
        "\n",
        "    #Using nn.Linear to create parameter --- > cuz linear regression\n",
        "    self.linear_layer = nn.Linear(in_features=1,out_features=1,bias=True)\n",
        "    #Here we have one feature weight, and one output column only and here we are only using one layer.\n",
        "    #also called linear transform, dense layer etc etc\n",
        "\n",
        "  #create the forward pass by overridding the forward method of Module\n",
        "  def forward(self, X):\n",
        "    return self.linear_layer(X)"
      ],
      "metadata": {
        "id": "qYuBuAbHv2J9"
      },
      "execution_count": 14,
      "outputs": []
    },
    {
      "cell_type": "code",
      "source": [
        "torch.manual_seed(42)\n",
        "\n",
        "model_1= Linear_Reg()\n"
      ],
      "metadata": {
        "id": "JYhf3uogyM_h"
      },
      "execution_count": 15,
      "outputs": []
    },
    {
      "cell_type": "code",
      "source": [
        "model_1.state_dict()"
      ],
      "metadata": {
        "colab": {
          "base_uri": "https://localhost:8080/"
        },
        "id": "GfcFfWbvyPYF",
        "outputId": "53e291f0-f154-42cf-8d73-02e571eccb89"
      },
      "execution_count": 16,
      "outputs": [
        {
          "output_type": "execute_result",
          "data": {
            "text/plain": [
              "OrderedDict([('linear_layer.weight', tensor([[0.7645]])),\n",
              "             ('linear_layer.bias', tensor([0.8300]))])"
            ]
          },
          "metadata": {},
          "execution_count": 16
        }
      ]
    },
    {
      "cell_type": "code",
      "source": [
        "#reach torch.nn to see all the other functions we can use"
      ],
      "metadata": {
        "id": "hT5hoZUfyd-R"
      },
      "execution_count": 17,
      "outputs": []
    },
    {
      "cell_type": "markdown",
      "source": [
        "# Training the model"
      ],
      "metadata": {
        "id": "aiQtRBlNzX-6"
      }
    },
    {
      "cell_type": "code",
      "source": [
        "#where is the model currently?\n",
        "next(model_1.parameters()).device"
      ],
      "metadata": {
        "colab": {
          "base_uri": "https://localhost:8080/"
        },
        "id": "DUoZwN1pzikq",
        "outputId": "09756dd9-198c-4406-e355-efb3ef48107a"
      },
      "execution_count": 18,
      "outputs": [
        {
          "output_type": "execute_result",
          "data": {
            "text/plain": [
              "device(type='cpu')"
            ]
          },
          "metadata": {},
          "execution_count": 18
        }
      ]
    },
    {
      "cell_type": "code",
      "source": [
        "#sending the model to gpu\n",
        "model_1.to(device)"
      ],
      "metadata": {
        "colab": {
          "base_uri": "https://localhost:8080/"
        },
        "id": "68EKBq9jzrIa",
        "outputId": "5b27b185-483e-4e38-b7a8-9e8323c61376"
      },
      "execution_count": 19,
      "outputs": [
        {
          "output_type": "execute_result",
          "data": {
            "text/plain": [
              "Linear_Reg(\n",
              "  (linear_layer): Linear(in_features=1, out_features=1, bias=True)\n",
              ")"
            ]
          },
          "metadata": {},
          "execution_count": 19
        }
      ]
    },
    {
      "cell_type": "code",
      "source": [
        "next(model_1.parameters()).device"
      ],
      "metadata": {
        "colab": {
          "base_uri": "https://localhost:8080/"
        },
        "id": "eTInQz-mzv5p",
        "outputId": "bd95fd68-9f69-4c4e-97db-4e5dde62d2c6"
      },
      "execution_count": 20,
      "outputs": [
        {
          "output_type": "execute_result",
          "data": {
            "text/plain": [
              "device(type='cuda', index=0)"
            ]
          },
          "metadata": {},
          "execution_count": 20
        }
      ]
    },
    {
      "cell_type": "markdown",
      "source": [
        "1.loss.\n",
        "\n",
        "2.optimizer.\n",
        "\n",
        "3.training.\n",
        "\n",
        "4.testing.\n",
        "\n",
        "\n"
      ],
      "metadata": {
        "id": "k1UY-854z2fX"
      }
    },
    {
      "cell_type": "markdown",
      "source": [
        "Remember, if our model is on the GPU but our data is not on the GPU, it will throw an error. Similarly matplotlib uses numpy"
      ],
      "metadata": {
        "id": "PqMksfsz1VUN"
      }
    },
    {
      "cell_type": "code",
      "source": [
        "X_train=X_train.to(device)\n",
        "y_train=y_train.to(device)\n",
        "X_test=X_test.to(device)\n",
        "y_test=y_test.to(device)"
      ],
      "metadata": {
        "id": "zUu7IhxX51CI"
      },
      "execution_count": 22,
      "outputs": []
    },
    {
      "cell_type": "code",
      "source": [
        "loss_function = nn.L1Loss()\n",
        "optimizer = torch.optim.SGD(params=model_1.parameters(),lr=0.01)\n",
        "\n",
        "\n",
        "torch.manual_seed(42)\n",
        "epochs=200\n",
        "epoch_count=[]\n",
        "train_loss_values =[]\n",
        "test_loss_values =[]\n",
        "\n",
        "for epoch in range(epochs):\n",
        "    ### Training\n",
        "\n",
        "    # Put model in training mode (this is the default state of a model)\n",
        "    model_1.train()\n",
        "\n",
        "    # 1. Forward pass on train data using the forward() method inside\n",
        "    y_pred = model_1(X_train)\n",
        "    # print(y_pred)\n",
        "\n",
        "    # 2. Calculate the loss (how different are our models predictions to the ground truth)\n",
        "    loss = loss_function(y_pred, y_train)\n",
        "    # print(\"loss at\", epoch, loss)\n",
        "\n",
        "    # 3. Zero grad of the optimizer\n",
        "    optimizer.zero_grad()\n",
        "\n",
        "    # 4. Loss backwards\n",
        "    loss.backward()\n",
        "\n",
        "    # 5. Progress the optimizer\n",
        "    optimizer.step()\n",
        "\n",
        "    ### Testing\n",
        "\n",
        "    # Put the model in evaluation mode\n",
        "    model_1.eval()\n",
        "    with torch.inference_mode():\n",
        "      # 1. Forward pass on test data\n",
        "      test_pred = model_1(X_test)\n",
        "\n",
        "      # 2. Caculate loss on test data\n",
        "      test_loss = loss_function(test_pred, y_test.type(torch.float)) # predictions come in torch.float datatype, so comparisons need to be done with tensors of the same type\n",
        "      print(loss,test_loss)\n",
        "      # Print out what's happening\n",
        "    if epoch % 10 == 0:\n",
        "          epoch_count.append(epoch)\n",
        "          train_loss_values.append(loss)\n",
        "          test_loss_values.append(test_loss)\n",
        "          print(f\"Epoch: {epoch} | MAE Train Loss: {loss} | MAE Test Loss: {test_loss} \")\n",
        "\n",
        "\n",
        "\n"
      ],
      "metadata": {
        "colab": {
          "base_uri": "https://localhost:8080/"
        },
        "id": "93KQ25Fb0EJq",
        "outputId": "d1db6be7-d071-4af4-8caf-5b52879fdcd4"
      },
      "execution_count": 24,
      "outputs": [
        {
          "output_type": "stream",
          "name": "stdout",
          "text": [
            "tensor(0.5437, device='cuda:0', grad_fn=<MeanBackward0>) tensor(0.5605, device='cuda:0')\n",
            "Epoch: 0 | MAE Train Loss: 0.5436570048332214 | MAE Test Loss: 0.560505211353302 \n",
            "tensor(0.5321, device='cuda:0', grad_fn=<MeanBackward0>) tensor(0.5470, device='cuda:0')\n",
            "tensor(0.5206, device='cuda:0', grad_fn=<MeanBackward0>) tensor(0.5336, device='cuda:0')\n",
            "tensor(0.5091, device='cuda:0', grad_fn=<MeanBackward0>) tensor(0.5201, device='cuda:0')\n",
            "tensor(0.4976, device='cuda:0', grad_fn=<MeanBackward0>) tensor(0.5066, device='cuda:0')\n",
            "tensor(0.4861, device='cuda:0', grad_fn=<MeanBackward0>) tensor(0.4932, device='cuda:0')\n",
            "tensor(0.4745, device='cuda:0', grad_fn=<MeanBackward0>) tensor(0.4797, device='cuda:0')\n",
            "tensor(0.4630, device='cuda:0', grad_fn=<MeanBackward0>) tensor(0.4662, device='cuda:0')\n",
            "tensor(0.4515, device='cuda:0', grad_fn=<MeanBackward0>) tensor(0.4527, device='cuda:0')\n",
            "tensor(0.4400, device='cuda:0', grad_fn=<MeanBackward0>) tensor(0.4393, device='cuda:0')\n",
            "tensor(0.4284, device='cuda:0', grad_fn=<MeanBackward0>) tensor(0.4258, device='cuda:0')\n",
            "Epoch: 10 | MAE Train Loss: 0.42844706773757935 | MAE Test Loss: 0.42579540610313416 \n",
            "tensor(0.4169, device='cuda:0', grad_fn=<MeanBackward0>) tensor(0.4123, device='cuda:0')\n",
            "tensor(0.4054, device='cuda:0', grad_fn=<MeanBackward0>) tensor(0.3989, device='cuda:0')\n",
            "tensor(0.3939, device='cuda:0', grad_fn=<MeanBackward0>) tensor(0.3854, device='cuda:0')\n",
            "tensor(0.3824, device='cuda:0', grad_fn=<MeanBackward0>) tensor(0.3719, device='cuda:0')\n",
            "tensor(0.3708, device='cuda:0', grad_fn=<MeanBackward0>) tensor(0.3584, device='cuda:0')\n",
            "tensor(0.3593, device='cuda:0', grad_fn=<MeanBackward0>) tensor(0.3450, device='cuda:0')\n",
            "tensor(0.3478, device='cuda:0', grad_fn=<MeanBackward0>) tensor(0.3315, device='cuda:0')\n",
            "tensor(0.3363, device='cuda:0', grad_fn=<MeanBackward0>) tensor(0.3180, device='cuda:0')\n",
            "tensor(0.3248, device='cuda:0', grad_fn=<MeanBackward0>) tensor(0.3046, device='cuda:0')\n",
            "tensor(0.3132, device='cuda:0', grad_fn=<MeanBackward0>) tensor(0.2911, device='cuda:0')\n",
            "Epoch: 20 | MAE Train Loss: 0.31323719024658203 | MAE Test Loss: 0.2910855710506439 \n",
            "tensor(0.3017, device='cuda:0', grad_fn=<MeanBackward0>) tensor(0.2776, device='cuda:0')\n",
            "tensor(0.2902, device='cuda:0', grad_fn=<MeanBackward0>) tensor(0.2641, device='cuda:0')\n",
            "tensor(0.2787, device='cuda:0', grad_fn=<MeanBackward0>) tensor(0.2507, device='cuda:0')\n",
            "tensor(0.2672, device='cuda:0', grad_fn=<MeanBackward0>) tensor(0.2372, device='cuda:0')\n",
            "tensor(0.2556, device='cuda:0', grad_fn=<MeanBackward0>) tensor(0.2237, device='cuda:0')\n",
            "tensor(0.2441, device='cuda:0', grad_fn=<MeanBackward0>) tensor(0.2103, device='cuda:0')\n",
            "tensor(0.2326, device='cuda:0', grad_fn=<MeanBackward0>) tensor(0.1968, device='cuda:0')\n",
            "tensor(0.2211, device='cuda:0', grad_fn=<MeanBackward0>) tensor(0.1833, device='cuda:0')\n",
            "tensor(0.2095, device='cuda:0', grad_fn=<MeanBackward0>) tensor(0.1698, device='cuda:0')\n",
            "tensor(0.1980, device='cuda:0', grad_fn=<MeanBackward0>) tensor(0.1564, device='cuda:0')\n",
            "Epoch: 30 | MAE Train Loss: 0.1980273425579071 | MAE Test Loss: 0.15637575089931488 \n",
            "tensor(0.1865, device='cuda:0', grad_fn=<MeanBackward0>) tensor(0.1429, device='cuda:0')\n",
            "tensor(0.1750, device='cuda:0', grad_fn=<MeanBackward0>) tensor(0.1294, device='cuda:0')\n",
            "tensor(0.1635, device='cuda:0', grad_fn=<MeanBackward0>) tensor(0.1160, device='cuda:0')\n",
            "tensor(0.1519, device='cuda:0', grad_fn=<MeanBackward0>) tensor(0.1025, device='cuda:0')\n",
            "tensor(0.1404, device='cuda:0', grad_fn=<MeanBackward0>) tensor(0.0890, device='cuda:0')\n",
            "tensor(0.1289, device='cuda:0', grad_fn=<MeanBackward0>) tensor(0.0755, device='cuda:0')\n",
            "tensor(0.1174, device='cuda:0', grad_fn=<MeanBackward0>) tensor(0.0621, device='cuda:0')\n",
            "tensor(0.1059, device='cuda:0', grad_fn=<MeanBackward0>) tensor(0.0486, device='cuda:0')\n",
            "tensor(0.0943, device='cuda:0', grad_fn=<MeanBackward0>) tensor(0.0351, device='cuda:0')\n",
            "tensor(0.0828, device='cuda:0', grad_fn=<MeanBackward0>) tensor(0.0217, device='cuda:0')\n",
            "Epoch: 40 | MAE Train Loss: 0.0828174576163292 | MAE Test Loss: 0.021665919572114944 \n",
            "tensor(0.0713, device='cuda:0', grad_fn=<MeanBackward0>) tensor(0.0084, device='cuda:0')\n",
            "tensor(0.0598, device='cuda:0', grad_fn=<MeanBackward0>) tensor(0.0066, device='cuda:0')\n",
            "tensor(0.0483, device='cuda:0', grad_fn=<MeanBackward0>) tensor(0.0187, device='cuda:0')\n",
            "tensor(0.0374, device='cuda:0', grad_fn=<MeanBackward0>) tensor(0.0297, device='cuda:0')\n",
            "tensor(0.0309, device='cuda:0', grad_fn=<MeanBackward0>) tensor(0.0366, device='cuda:0')\n",
            "tensor(0.0276, device='cuda:0', grad_fn=<MeanBackward0>) tensor(0.0413, device='cuda:0')\n",
            "tensor(0.0258, device='cuda:0', grad_fn=<MeanBackward0>) tensor(0.0444, device='cuda:0')\n",
            "tensor(0.0247, device='cuda:0', grad_fn=<MeanBackward0>) tensor(0.0469, device='cuda:0')\n",
            "tensor(0.0239, device='cuda:0', grad_fn=<MeanBackward0>) tensor(0.0478, device='cuda:0')\n",
            "tensor(0.0234, device='cuda:0', grad_fn=<MeanBackward0>) tensor(0.0488, device='cuda:0')\n",
            "Epoch: 50 | MAE Train Loss: 0.023356428369879723 | MAE Test Loss: 0.04883447289466858 \n",
            "tensor(0.0229, device='cuda:0', grad_fn=<MeanBackward0>) tensor(0.0491, device='cuda:0')\n",
            "tensor(0.0225, device='cuda:0', grad_fn=<MeanBackward0>) tensor(0.0494, device='cuda:0')\n",
            "tensor(0.0221, device='cuda:0', grad_fn=<MeanBackward0>) tensor(0.0490, device='cuda:0')\n",
            "tensor(0.0217, device='cuda:0', grad_fn=<MeanBackward0>) tensor(0.0486, device='cuda:0')\n",
            "tensor(0.0214, device='cuda:0', grad_fn=<MeanBackward0>) tensor(0.0482, device='cuda:0')\n",
            "tensor(0.0210, device='cuda:0', grad_fn=<MeanBackward0>) tensor(0.0477, device='cuda:0')\n",
            "tensor(0.0207, device='cuda:0', grad_fn=<MeanBackward0>) tensor(0.0473, device='cuda:0')\n",
            "tensor(0.0203, device='cuda:0', grad_fn=<MeanBackward0>) tensor(0.0469, device='cuda:0')\n",
            "tensor(0.0200, device='cuda:0', grad_fn=<MeanBackward0>) tensor(0.0458, device='cuda:0')\n",
            "tensor(0.0196, device='cuda:0', grad_fn=<MeanBackward0>) tensor(0.0454, device='cuda:0')\n",
            "Epoch: 60 | MAE Train Loss: 0.019609849900007248 | MAE Test Loss: 0.04538799077272415 \n",
            "tensor(0.0193, device='cuda:0', grad_fn=<MeanBackward0>) tensor(0.0443, device='cuda:0')\n",
            "tensor(0.0189, device='cuda:0', grad_fn=<MeanBackward0>) tensor(0.0432, device='cuda:0')\n",
            "tensor(0.0186, device='cuda:0', grad_fn=<MeanBackward0>) tensor(0.0428, device='cuda:0')\n",
            "tensor(0.0182, device='cuda:0', grad_fn=<MeanBackward0>) tensor(0.0417, device='cuda:0')\n",
            "tensor(0.0179, device='cuda:0', grad_fn=<MeanBackward0>) tensor(0.0413, device='cuda:0')\n",
            "tensor(0.0176, device='cuda:0', grad_fn=<MeanBackward0>) tensor(0.0401, device='cuda:0')\n",
            "tensor(0.0172, device='cuda:0', grad_fn=<MeanBackward0>) tensor(0.0397, device='cuda:0')\n",
            "tensor(0.0169, device='cuda:0', grad_fn=<MeanBackward0>) tensor(0.0386, device='cuda:0')\n",
            "tensor(0.0165, device='cuda:0', grad_fn=<MeanBackward0>) tensor(0.0375, device='cuda:0')\n",
            "tensor(0.0162, device='cuda:0', grad_fn=<MeanBackward0>) tensor(0.0371, device='cuda:0')\n",
            "Epoch: 70 | MAE Train Loss: 0.01618141122162342 | MAE Test Loss: 0.03711546212434769 \n",
            "tensor(0.0158, device='cuda:0', grad_fn=<MeanBackward0>) tensor(0.0360, device='cuda:0')\n",
            "tensor(0.0155, device='cuda:0', grad_fn=<MeanBackward0>) tensor(0.0356, device='cuda:0')\n",
            "tensor(0.0151, device='cuda:0', grad_fn=<MeanBackward0>) tensor(0.0345, device='cuda:0')\n",
            "tensor(0.0148, device='cuda:0', grad_fn=<MeanBackward0>) tensor(0.0341, device='cuda:0')\n",
            "tensor(0.0145, device='cuda:0', grad_fn=<MeanBackward0>) tensor(0.0330, device='cuda:0')\n",
            "tensor(0.0141, device='cuda:0', grad_fn=<MeanBackward0>) tensor(0.0326, device='cuda:0')\n",
            "tensor(0.0138, device='cuda:0', grad_fn=<MeanBackward0>) tensor(0.0315, device='cuda:0')\n",
            "tensor(0.0134, device='cuda:0', grad_fn=<MeanBackward0>) tensor(0.0304, device='cuda:0')\n",
            "tensor(0.0131, device='cuda:0', grad_fn=<MeanBackward0>) tensor(0.0299, device='cuda:0')\n",
            "tensor(0.0127, device='cuda:0', grad_fn=<MeanBackward0>) tensor(0.0288, device='cuda:0')\n",
            "Epoch: 80 | MAE Train Loss: 0.012742983177304268 | MAE Test Loss: 0.028842901811003685 \n",
            "tensor(0.0124, device='cuda:0', grad_fn=<MeanBackward0>) tensor(0.0284, device='cuda:0')\n",
            "tensor(0.0121, device='cuda:0', grad_fn=<MeanBackward0>) tensor(0.0273, device='cuda:0')\n",
            "tensor(0.0117, device='cuda:0', grad_fn=<MeanBackward0>) tensor(0.0269, device='cuda:0')\n",
            "tensor(0.0114, device='cuda:0', grad_fn=<MeanBackward0>) tensor(0.0258, device='cuda:0')\n",
            "tensor(0.0110, device='cuda:0', grad_fn=<MeanBackward0>) tensor(0.0247, device='cuda:0')\n",
            "tensor(0.0107, device='cuda:0', grad_fn=<MeanBackward0>) tensor(0.0243, device='cuda:0')\n",
            "tensor(0.0103, device='cuda:0', grad_fn=<MeanBackward0>) tensor(0.0232, device='cuda:0')\n",
            "tensor(0.0100, device='cuda:0', grad_fn=<MeanBackward0>) tensor(0.0228, device='cuda:0')\n",
            "tensor(0.0097, device='cuda:0', grad_fn=<MeanBackward0>) tensor(0.0217, device='cuda:0')\n",
            "tensor(0.0093, device='cuda:0', grad_fn=<MeanBackward0>) tensor(0.0213, device='cuda:0')\n",
            "Epoch: 90 | MAE Train Loss: 0.00930792186409235 | MAE Test Loss: 0.02125724032521248 \n",
            "tensor(0.0090, device='cuda:0', grad_fn=<MeanBackward0>) tensor(0.0202, device='cuda:0')\n",
            "tensor(0.0086, device='cuda:0', grad_fn=<MeanBackward0>) tensor(0.0191, device='cuda:0')\n",
            "tensor(0.0083, device='cuda:0', grad_fn=<MeanBackward0>) tensor(0.0186, device='cuda:0')\n",
            "tensor(0.0079, device='cuda:0', grad_fn=<MeanBackward0>) tensor(0.0175, device='cuda:0')\n",
            "tensor(0.0076, device='cuda:0', grad_fn=<MeanBackward0>) tensor(0.0171, device='cuda:0')\n",
            "tensor(0.0072, device='cuda:0', grad_fn=<MeanBackward0>) tensor(0.0160, device='cuda:0')\n",
            "tensor(0.0069, device='cuda:0', grad_fn=<MeanBackward0>) tensor(0.0156, device='cuda:0')\n",
            "tensor(0.0066, device='cuda:0', grad_fn=<MeanBackward0>) tensor(0.0145, device='cuda:0')\n",
            "tensor(0.0062, device='cuda:0', grad_fn=<MeanBackward0>) tensor(0.0141, device='cuda:0')\n",
            "tensor(0.0059, device='cuda:0', grad_fn=<MeanBackward0>) tensor(0.0130, device='cuda:0')\n",
            "Epoch: 100 | MAE Train Loss: 0.005878167692571878 | MAE Test Loss: 0.012984705157577991 \n",
            "tensor(0.0055, device='cuda:0', grad_fn=<MeanBackward0>) tensor(0.0119, device='cuda:0')\n",
            "tensor(0.0052, device='cuda:0', grad_fn=<MeanBackward0>) tensor(0.0115, device='cuda:0')\n",
            "tensor(0.0048, device='cuda:0', grad_fn=<MeanBackward0>) tensor(0.0104, device='cuda:0')\n",
            "tensor(0.0045, device='cuda:0', grad_fn=<MeanBackward0>) tensor(0.0100, device='cuda:0')\n",
            "tensor(0.0042, device='cuda:0', grad_fn=<MeanBackward0>) tensor(0.0088, device='cuda:0')\n",
            "tensor(0.0038, device='cuda:0', grad_fn=<MeanBackward0>) tensor(0.0084, device='cuda:0')\n",
            "tensor(0.0035, device='cuda:0', grad_fn=<MeanBackward0>) tensor(0.0073, device='cuda:0')\n",
            "tensor(0.0031, device='cuda:0', grad_fn=<MeanBackward0>) tensor(0.0062, device='cuda:0')\n",
            "tensor(0.0028, device='cuda:0', grad_fn=<MeanBackward0>) tensor(0.0058, device='cuda:0')\n",
            "tensor(0.0024, device='cuda:0', grad_fn=<MeanBackward0>) tensor(0.0047, device='cuda:0')\n",
            "Epoch: 110 | MAE Train Loss: 0.0024393596686422825 | MAE Test Loss: 0.004712170455604792 \n",
            "tensor(0.0021, device='cuda:0', grad_fn=<MeanBackward0>) tensor(0.0043, device='cuda:0')\n",
            "tensor(0.0018, device='cuda:0', grad_fn=<MeanBackward0>) tensor(0.0032, device='cuda:0')\n",
            "tensor(0.0014, device='cuda:0', grad_fn=<MeanBackward0>) tensor(0.0028, device='cuda:0')\n",
            "tensor(0.0011, device='cuda:0', grad_fn=<MeanBackward0>) tensor(0.0003, device='cuda:0')\n",
            "tensor(0.0013, device='cuda:0', grad_fn=<MeanBackward0>) tensor(0.0138, device='cuda:0')\n",
            "tensor(0.0103, device='cuda:0', grad_fn=<MeanBackward0>) tensor(0.0003, device='cuda:0')\n",
            "tensor(0.0013, device='cuda:0', grad_fn=<MeanBackward0>) tensor(0.0138, device='cuda:0')\n",
            "tensor(0.0103, device='cuda:0', grad_fn=<MeanBackward0>) tensor(0.0003, device='cuda:0')\n",
            "tensor(0.0013, device='cuda:0', grad_fn=<MeanBackward0>) tensor(0.0138, device='cuda:0')\n",
            "tensor(0.0103, device='cuda:0', grad_fn=<MeanBackward0>) tensor(0.0003, device='cuda:0')\n",
            "Epoch: 120 | MAE Train Loss: 0.010256479494273663 | MAE Test Loss: 0.00033081771107390523 \n",
            "tensor(0.0013, device='cuda:0', grad_fn=<MeanBackward0>) tensor(0.0138, device='cuda:0')\n",
            "tensor(0.0103, device='cuda:0', grad_fn=<MeanBackward0>) tensor(0.0003, device='cuda:0')\n",
            "tensor(0.0013, device='cuda:0', grad_fn=<MeanBackward0>) tensor(0.0138, device='cuda:0')\n",
            "tensor(0.0103, device='cuda:0', grad_fn=<MeanBackward0>) tensor(0.0003, device='cuda:0')\n",
            "tensor(0.0013, device='cuda:0', grad_fn=<MeanBackward0>) tensor(0.0138, device='cuda:0')\n",
            "tensor(0.0103, device='cuda:0', grad_fn=<MeanBackward0>) tensor(0.0003, device='cuda:0')\n",
            "tensor(0.0013, device='cuda:0', grad_fn=<MeanBackward0>) tensor(0.0138, device='cuda:0')\n",
            "tensor(0.0103, device='cuda:0', grad_fn=<MeanBackward0>) tensor(0.0003, device='cuda:0')\n",
            "tensor(0.0013, device='cuda:0', grad_fn=<MeanBackward0>) tensor(0.0138, device='cuda:0')\n",
            "tensor(0.0103, device='cuda:0', grad_fn=<MeanBackward0>) tensor(0.0003, device='cuda:0')\n",
            "Epoch: 130 | MAE Train Loss: 0.010256479494273663 | MAE Test Loss: 0.00033081771107390523 \n",
            "tensor(0.0013, device='cuda:0', grad_fn=<MeanBackward0>) tensor(0.0138, device='cuda:0')\n",
            "tensor(0.0103, device='cuda:0', grad_fn=<MeanBackward0>) tensor(0.0003, device='cuda:0')\n",
            "tensor(0.0013, device='cuda:0', grad_fn=<MeanBackward0>) tensor(0.0138, device='cuda:0')\n",
            "tensor(0.0103, device='cuda:0', grad_fn=<MeanBackward0>) tensor(0.0003, device='cuda:0')\n",
            "tensor(0.0013, device='cuda:0', grad_fn=<MeanBackward0>) tensor(0.0138, device='cuda:0')\n",
            "tensor(0.0103, device='cuda:0', grad_fn=<MeanBackward0>) tensor(0.0003, device='cuda:0')\n",
            "tensor(0.0013, device='cuda:0', grad_fn=<MeanBackward0>) tensor(0.0138, device='cuda:0')\n",
            "tensor(0.0103, device='cuda:0', grad_fn=<MeanBackward0>) tensor(0.0003, device='cuda:0')\n",
            "tensor(0.0013, device='cuda:0', grad_fn=<MeanBackward0>) tensor(0.0138, device='cuda:0')\n",
            "tensor(0.0103, device='cuda:0', grad_fn=<MeanBackward0>) tensor(0.0003, device='cuda:0')\n",
            "Epoch: 140 | MAE Train Loss: 0.010256479494273663 | MAE Test Loss: 0.00033081771107390523 \n",
            "tensor(0.0013, device='cuda:0', grad_fn=<MeanBackward0>) tensor(0.0138, device='cuda:0')\n",
            "tensor(0.0103, device='cuda:0', grad_fn=<MeanBackward0>) tensor(0.0003, device='cuda:0')\n",
            "tensor(0.0013, device='cuda:0', grad_fn=<MeanBackward0>) tensor(0.0138, device='cuda:0')\n",
            "tensor(0.0103, device='cuda:0', grad_fn=<MeanBackward0>) tensor(0.0003, device='cuda:0')\n",
            "tensor(0.0013, device='cuda:0', grad_fn=<MeanBackward0>) tensor(0.0138, device='cuda:0')\n",
            "tensor(0.0103, device='cuda:0', grad_fn=<MeanBackward0>) tensor(0.0003, device='cuda:0')\n",
            "tensor(0.0013, device='cuda:0', grad_fn=<MeanBackward0>) tensor(0.0138, device='cuda:0')\n",
            "tensor(0.0103, device='cuda:0', grad_fn=<MeanBackward0>) tensor(0.0003, device='cuda:0')\n",
            "tensor(0.0013, device='cuda:0', grad_fn=<MeanBackward0>) tensor(0.0138, device='cuda:0')\n",
            "tensor(0.0103, device='cuda:0', grad_fn=<MeanBackward0>) tensor(0.0003, device='cuda:0')\n",
            "Epoch: 150 | MAE Train Loss: 0.010256479494273663 | MAE Test Loss: 0.00033081771107390523 \n",
            "tensor(0.0013, device='cuda:0', grad_fn=<MeanBackward0>) tensor(0.0138, device='cuda:0')\n",
            "tensor(0.0103, device='cuda:0', grad_fn=<MeanBackward0>) tensor(0.0003, device='cuda:0')\n",
            "tensor(0.0013, device='cuda:0', grad_fn=<MeanBackward0>) tensor(0.0138, device='cuda:0')\n",
            "tensor(0.0103, device='cuda:0', grad_fn=<MeanBackward0>) tensor(0.0003, device='cuda:0')\n",
            "tensor(0.0013, device='cuda:0', grad_fn=<MeanBackward0>) tensor(0.0138, device='cuda:0')\n",
            "tensor(0.0103, device='cuda:0', grad_fn=<MeanBackward0>) tensor(0.0003, device='cuda:0')\n",
            "tensor(0.0013, device='cuda:0', grad_fn=<MeanBackward0>) tensor(0.0138, device='cuda:0')\n",
            "tensor(0.0103, device='cuda:0', grad_fn=<MeanBackward0>) tensor(0.0003, device='cuda:0')\n",
            "tensor(0.0013, device='cuda:0', grad_fn=<MeanBackward0>) tensor(0.0138, device='cuda:0')\n",
            "tensor(0.0103, device='cuda:0', grad_fn=<MeanBackward0>) tensor(0.0003, device='cuda:0')\n",
            "Epoch: 160 | MAE Train Loss: 0.010256479494273663 | MAE Test Loss: 0.00033081771107390523 \n",
            "tensor(0.0013, device='cuda:0', grad_fn=<MeanBackward0>) tensor(0.0138, device='cuda:0')\n",
            "tensor(0.0103, device='cuda:0', grad_fn=<MeanBackward0>) tensor(0.0003, device='cuda:0')\n",
            "tensor(0.0013, device='cuda:0', grad_fn=<MeanBackward0>) tensor(0.0138, device='cuda:0')\n",
            "tensor(0.0103, device='cuda:0', grad_fn=<MeanBackward0>) tensor(0.0003, device='cuda:0')\n",
            "tensor(0.0013, device='cuda:0', grad_fn=<MeanBackward0>) tensor(0.0138, device='cuda:0')\n",
            "tensor(0.0103, device='cuda:0', grad_fn=<MeanBackward0>) tensor(0.0003, device='cuda:0')\n",
            "tensor(0.0013, device='cuda:0', grad_fn=<MeanBackward0>) tensor(0.0138, device='cuda:0')\n",
            "tensor(0.0103, device='cuda:0', grad_fn=<MeanBackward0>) tensor(0.0003, device='cuda:0')\n",
            "tensor(0.0013, device='cuda:0', grad_fn=<MeanBackward0>) tensor(0.0138, device='cuda:0')\n",
            "tensor(0.0103, device='cuda:0', grad_fn=<MeanBackward0>) tensor(0.0003, device='cuda:0')\n",
            "Epoch: 170 | MAE Train Loss: 0.010256479494273663 | MAE Test Loss: 0.00033081771107390523 \n",
            "tensor(0.0013, device='cuda:0', grad_fn=<MeanBackward0>) tensor(0.0138, device='cuda:0')\n",
            "tensor(0.0103, device='cuda:0', grad_fn=<MeanBackward0>) tensor(0.0003, device='cuda:0')\n",
            "tensor(0.0013, device='cuda:0', grad_fn=<MeanBackward0>) tensor(0.0138, device='cuda:0')\n",
            "tensor(0.0103, device='cuda:0', grad_fn=<MeanBackward0>) tensor(0.0003, device='cuda:0')\n",
            "tensor(0.0013, device='cuda:0', grad_fn=<MeanBackward0>) tensor(0.0138, device='cuda:0')\n",
            "tensor(0.0103, device='cuda:0', grad_fn=<MeanBackward0>) tensor(0.0003, device='cuda:0')\n",
            "tensor(0.0013, device='cuda:0', grad_fn=<MeanBackward0>) tensor(0.0138, device='cuda:0')\n",
            "tensor(0.0103, device='cuda:0', grad_fn=<MeanBackward0>) tensor(0.0003, device='cuda:0')\n",
            "tensor(0.0013, device='cuda:0', grad_fn=<MeanBackward0>) tensor(0.0138, device='cuda:0')\n",
            "tensor(0.0103, device='cuda:0', grad_fn=<MeanBackward0>) tensor(0.0003, device='cuda:0')\n",
            "Epoch: 180 | MAE Train Loss: 0.010256479494273663 | MAE Test Loss: 0.00033081771107390523 \n",
            "tensor(0.0013, device='cuda:0', grad_fn=<MeanBackward0>) tensor(0.0138, device='cuda:0')\n",
            "tensor(0.0103, device='cuda:0', grad_fn=<MeanBackward0>) tensor(0.0003, device='cuda:0')\n",
            "tensor(0.0013, device='cuda:0', grad_fn=<MeanBackward0>) tensor(0.0138, device='cuda:0')\n",
            "tensor(0.0103, device='cuda:0', grad_fn=<MeanBackward0>) tensor(0.0003, device='cuda:0')\n",
            "tensor(0.0013, device='cuda:0', grad_fn=<MeanBackward0>) tensor(0.0138, device='cuda:0')\n",
            "tensor(0.0103, device='cuda:0', grad_fn=<MeanBackward0>) tensor(0.0003, device='cuda:0')\n",
            "tensor(0.0013, device='cuda:0', grad_fn=<MeanBackward0>) tensor(0.0138, device='cuda:0')\n",
            "tensor(0.0103, device='cuda:0', grad_fn=<MeanBackward0>) tensor(0.0003, device='cuda:0')\n",
            "tensor(0.0013, device='cuda:0', grad_fn=<MeanBackward0>) tensor(0.0138, device='cuda:0')\n",
            "tensor(0.0103, device='cuda:0', grad_fn=<MeanBackward0>) tensor(0.0003, device='cuda:0')\n",
            "Epoch: 190 | MAE Train Loss: 0.010256479494273663 | MAE Test Loss: 0.00033081771107390523 \n",
            "tensor(0.0013, device='cuda:0', grad_fn=<MeanBackward0>) tensor(0.0138, device='cuda:0')\n",
            "tensor(0.0103, device='cuda:0', grad_fn=<MeanBackward0>) tensor(0.0003, device='cuda:0')\n",
            "tensor(0.0013, device='cuda:0', grad_fn=<MeanBackward0>) tensor(0.0138, device='cuda:0')\n",
            "tensor(0.0103, device='cuda:0', grad_fn=<MeanBackward0>) tensor(0.0003, device='cuda:0')\n",
            "tensor(0.0013, device='cuda:0', grad_fn=<MeanBackward0>) tensor(0.0138, device='cuda:0')\n",
            "tensor(0.0103, device='cuda:0', grad_fn=<MeanBackward0>) tensor(0.0003, device='cuda:0')\n",
            "tensor(0.0013, device='cuda:0', grad_fn=<MeanBackward0>) tensor(0.0138, device='cuda:0')\n",
            "tensor(0.0103, device='cuda:0', grad_fn=<MeanBackward0>) tensor(0.0003, device='cuda:0')\n",
            "tensor(0.0013, device='cuda:0', grad_fn=<MeanBackward0>) tensor(0.0138, device='cuda:0')\n"
          ]
        }
      ]
    },
    {
      "cell_type": "code",
      "source": [
        "visualize(X_train.cpu(),y_train.cpu(),X_test.cpu(), y_test.cpu(), predictions=test_pred.cpu())"
      ],
      "metadata": {
        "colab": {
          "base_uri": "https://localhost:8080/",
          "height": 445
        },
        "id": "2y-jlcJb7OBG",
        "outputId": "d4204e03-9b30-4b15-f04c-82aa77bf178d"
      },
      "execution_count": 27,
      "outputs": [
        {
          "output_type": "display_data",
          "data": {
            "text/plain": [
              "<Figure size 1000x500 with 1 Axes>"
            ],
            "image/png": "[encoded data removed]"
          },
          "metadata": {}
        }
      ]
    },
    {
      "cell_type": "markdown",
      "source": [
        "#Saving and loading the model"
      ],
      "metadata": {
        "id": "gBr34_kA7Xnv"
      }
    },
    {
      "cell_type": "code",
      "source": [
        "from pathlib import Path"
      ],
      "metadata": {
        "id": "QbfqVBTK71Xv"
      },
      "execution_count": 29,
      "outputs": []
    },
    {
      "cell_type": "code",
      "source": [
        "# 1. Create models directory\n",
        "MODEL_PATH = Path(\"models\")\n",
        "MODEL_PATH.mkdir(parents=True, exist_ok=True)\n",
        "\n",
        "# 2. Create model save path\n",
        "MODEL_NAME = \"pytorch_2_model_1.pth\"\n",
        "MODEL_SAVE_PATH = MODEL_PATH / MODEL_NAME\n",
        "\n",
        "# 3. Save the model state dict\n",
        "print(f\"Saving model to: {MODEL_SAVE_PATH}\")\n",
        "torch.save(obj=model_1.state_dict(), # only saving the state_dict() only saves the models learned parameters\n",
        "           f=MODEL_SAVE_PATH)"
      ],
      "metadata": {
        "colab": {
          "base_uri": "https://localhost:8080/"
        },
        "id": "1e20RWhZ794T",
        "outputId": "42f1b4a7-8438-46cc-be3b-5655e89e2108"
      },
      "execution_count": 30,
      "outputs": [
        {
          "output_type": "stream",
          "name": "stdout",
          "text": [
            "Saving model to: models/pytorch_2_model_1.pth\n"
          ]
        }
      ]
    },
    {
      "cell_type": "code",
      "source": [
        "# Check the saved file path\n",
        "!ls -l models/pytorch_2_model_1.pth"
      ],
      "metadata": {
        "colab": {
          "base_uri": "https://localhost:8080/"
        },
        "id": "SQIm5Udx8vTI",
        "outputId": "cf86b1d6-089b-4706-8f5d-5abc01123cb4"
      },
      "execution_count": 31,
      "outputs": [
        {
          "output_type": "stream",
          "name": "stdout",
          "text": [
            "-rw-r--r-- 1 root root 1167 Aug 30 00:58 models/pytorch_2_model_1.pth\n"
          ]
        }
      ]
    },
    {
      "cell_type": "code",
      "source": [
        "#loading\n",
        "\n",
        "# Instantiate a fresh instance of LinearRegressionModelV2\n",
        "loaded_model_1 = Linear_Reg()\n",
        "\n",
        "# Load model state dict\n",
        "loaded_model_1.load_state_dict(torch.load(MODEL_SAVE_PATH))\n",
        "\n",
        "# Put model to target device (if your data is on GPU, model will have to be on GPU to make predictions)\n",
        "loaded_model_1.to(device)\n",
        "\n",
        "print(f\"Loaded model:\\n{loaded_model_1}\")\n",
        "print(f\"Model on device:\\n{next(loaded_model_1.parameters()).device}\")"
      ],
      "metadata": {
        "colab": {
          "base_uri": "https://localhost:8080/"
        },
        "id": "GE11D8sE80WC",
        "outputId": "1b2357f4-5084-42db-a52c-7b702c39b6e7"
      },
      "execution_count": 32,
      "outputs": [
        {
          "output_type": "stream",
          "name": "stdout",
          "text": [
            "Loaded model:\n",
            "Linear_Reg(\n",
            "  (linear_layer): Linear(in_features=1, out_features=1, bias=True)\n",
            ")\n",
            "Model on device:\n",
            "cuda:0\n"
          ]
        }
      ]
    },
    {
      "cell_type": "code",
      "source": [
        "test_pred.shape"
      ],
      "metadata": {
        "colab": {
          "base_uri": "https://localhost:8080/"
        },
        "id": "tvn-cU3d-XVD",
        "outputId": "46fcfe88-fcb0-4e4b-9efd-9f19f567bfca"
      },
      "execution_count": 35,
      "outputs": [
        {
          "output_type": "execute_result",
          "data": {
            "text/plain": [
              "torch.Size([10, 1])"
            ]
          },
          "metadata": {},
          "execution_count": 35
        }
      ]
    },
    {
      "cell_type": "code",
      "source": [
        "\n",
        "# we have already loaded the best bias and weight\n",
        "\n",
        "# Evaluate loaded model\n",
        "loaded_model_1.eval()\n",
        "with torch.inference_mode():\n",
        "    loaded_model_1_preds = loaded_model_1(X_test)\n",
        "test_pred == loaded_model_1_preds"
      ],
      "metadata": {
        "colab": {
          "base_uri": "https://localhost:8080/"
        },
        "id": "0l5bLxda-Brj",
        "outputId": "21b188ad-e9fd-4cc6-9df0-467973974958"
      },
      "execution_count": 37,
      "outputs": [
        {
          "output_type": "execute_result",
          "data": {
            "text/plain": [
              "tensor([[True],\n",
              "        [True],\n",
              "        [True],\n",
              "        [True],\n",
              "        [True],\n",
              "        [True],\n",
              "        [True],\n",
              "        [True],\n",
              "        [True],\n",
              "        [True]], device='cuda:0')"
            ]
          },
          "metadata": {},
          "execution_count": 37
        }
      ]
    },
    {
      "cell_type": "code",
      "source": [],
      "metadata": {
        "id": "VhvZEmNa-KFt"
      },
      "execution_count": null,
      "outputs": []
    }
  ]
}