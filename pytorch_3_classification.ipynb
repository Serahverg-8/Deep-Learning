{
  "nbformat": 4,
  "nbformat_minor": 0,
  "metadata": {
    "colab": {
      "provenance": [],
      "gpuType": "T4",
      "authorship_tag": "ABX9TyP4KMfdvLu6KbNcl4LXVNdB",
      "include_colab_link": true
    },
    "kernelspec": {
      "name": "python3",
      "display_name": "Python 3"
    },
    "language_info": {
      "name": "python"
    },
    "accelerator": "GPU"
  },
  "cells": [
    {
      "cell_type": "markdown",
      "metadata": {
        "id": "view-in-github",
        "colab_type": "text"
      },
      "source": [
        "<a href=\"https://colab.research.google.com/github/Serahverg-8/Deep-Learning-pytorch/blob/main/pytorch_3_classification.ipynb\" target=\"_parent\"><img src=\"https://colab.research.google.com/assets/colab-badge.svg\" alt=\"Open In Colab\"/></a>"
      ]
    },
    {
      "cell_type": "code",
      "execution_count": 47,
      "metadata": {
        "id": "8MiDF27nOZRI"
      },
      "outputs": [],
      "source": [
        "\n",
        "#device agnostic code\n",
        "import torch\n",
        "torch.cuda.is_available()\n",
        "import matplotlib.pyplot as plt\n",
        "from torch import nn"
      ]
    },
    {
      "cell_type": "code",
      "source": [
        "\n",
        "device = \"cuda\" if torch.cuda.is_available() else \"cpu\""
      ],
      "metadata": {
        "id": "BePx-vSROqy9"
      },
      "execution_count": 48,
      "outputs": []
    },
    {
      "cell_type": "markdown",
      "source": [
        "image shapes are usually [ batch, color, width , height]"
      ],
      "metadata": {
        "id": "hEHi3m44OriJ"
      }
    },
    {
      "cell_type": "markdown",
      "source": [
        "#Architecture\n"
      ],
      "metadata": {
        "id": "BPLbTaUaTrqo"
      }
    },
    {
      "cell_type": "markdown",
      "source": [
        "Input layer - number of features.\n",
        "Hidden Layer -  as many as we want.\n",
        "Output layer - number of classes or value. etc.\n",
        "\n",
        "\n",
        "\n",
        "Hidden layers activation : has the sigma portion and the activaton portion (Relu).\n",
        "\n",
        "Output layers activation  : sigmoid to spit out a probability   \n",
        "\n",
        "\n",
        "Loss function :  binary cross entropy , multiclass - just Cross entropy.\n",
        "\n",
        "Optimizer : SDG , adam etc.\n"
      ],
      "metadata": {
        "id": "ubLeN1eBTvK7"
      }
    },
    {
      "cell_type": "markdown",
      "source": [
        "# Getting the data"
      ],
      "metadata": {
        "id": "oPDaXIyHVGv4"
      }
    },
    {
      "cell_type": "code",
      "source": [
        "import sklearn"
      ],
      "metadata": {
        "id": "dnv7XvbXVJso"
      },
      "execution_count": 49,
      "outputs": []
    },
    {
      "cell_type": "code",
      "source": [
        "from sklearn.datasets import make_circles"
      ],
      "metadata": {
        "id": "AGkByw9zVKwR"
      },
      "execution_count": 50,
      "outputs": []
    },
    {
      "cell_type": "code",
      "source": [
        "n_samples= 1000"
      ],
      "metadata": {
        "id": "51j8MbyQVP6o"
      },
      "execution_count": 51,
      "outputs": []
    },
    {
      "cell_type": "code",
      "source": [
        "X, y = make_circles(n_samples, noise = 0.03, random_state=42)"
      ],
      "metadata": {
        "id": "5rN_fay1VUtk"
      },
      "execution_count": 52,
      "outputs": []
    },
    {
      "cell_type": "code",
      "source": [
        "len(X)"
      ],
      "metadata": {
        "colab": {
          "base_uri": "https://localhost:8080/"
        },
        "id": "hi_pnrhdVg9a",
        "outputId": "0c0f04c7-54db-4427-adc1-0b97c136a95a"
      },
      "execution_count": 53,
      "outputs": [
        {
          "output_type": "execute_result",
          "data": {
            "text/plain": [
              "1000"
            ]
          },
          "metadata": {},
          "execution_count": 53
        }
      ]
    },
    {
      "cell_type": "code",
      "source": [
        "print(X[0:5])"
      ],
      "metadata": {
        "colab": {
          "base_uri": "https://localhost:8080/"
        },
        "id": "pvdvX30_VigZ",
        "outputId": "8de4f2e0-716b-404f-b5d9-6123ff596317"
      },
      "execution_count": 54,
      "outputs": [
        {
          "output_type": "stream",
          "name": "stdout",
          "text": [
            "[[ 0.75424625  0.23148074]\n",
            " [-0.75615888  0.15325888]\n",
            " [-0.81539193  0.17328203]\n",
            " [-0.39373073  0.69288277]\n",
            " [ 0.44220765 -0.89672343]]\n"
          ]
        }
      ]
    },
    {
      "cell_type": "code",
      "source": [
        "print(y[0:5])"
      ],
      "metadata": {
        "colab": {
          "base_uri": "https://localhost:8080/"
        },
        "id": "xX__QPpxVnC5",
        "outputId": "2f28f2fd-4496-40ce-9f70-b0072f503cb2"
      },
      "execution_count": 55,
      "outputs": [
        {
          "output_type": "stream",
          "name": "stdout",
          "text": [
            "[1 1 1 1 0]\n"
          ]
        }
      ]
    },
    {
      "cell_type": "markdown",
      "source": [
        "2 input features and a binary classification"
      ],
      "metadata": {
        "id": "l1lAnVBfVvYe"
      }
    },
    {
      "cell_type": "code",
      "source": [
        "import pandas as pd\n",
        "circles= pd.DataFrame({ \"X1\" : X[:,0],\"X2\": X[:,1],\"label\" :y})"
      ],
      "metadata": {
        "id": "gkUP_uhLWlE-"
      },
      "execution_count": 56,
      "outputs": []
    },
    {
      "cell_type": "code",
      "source": [
        "circles.head()"
      ],
      "metadata": {
        "colab": {
          "base_uri": "https://localhost:8080/",
          "height": 206
        },
        "id": "eXcOFSmOW4Kd",
        "outputId": "b83160bb-ec8f-40cb-d48e-26de055202f5"
      },
      "execution_count": 57,
      "outputs": [
        {
          "output_type": "execute_result",
          "data": {
            "text/plain": [
              "         X1        X2  label\n",
              "0  0.754246  0.231481      1\n",
              "1 -0.756159  0.153259      1\n",
              "2 -0.815392  0.173282      1\n",
              "3 -0.393731  0.692883      1\n",
              "4  0.442208 -0.896723      0"
            ],
            "text/html": [
              "\n",
              "  <div id=\"df-967ede58-eb33-415b-9b19-8fcd7f4c3b40\" class=\"colab-df-container\">\n",
              "    <div>\n",
              "<style scoped>\n",
              "    .dataframe tbody tr th:only-of-type {\n",
              "        vertical-align: middle;\n",
              "    }\n",
              "\n",
              "    .dataframe tbody tr th {\n",
              "        vertical-align: top;\n",
              "    }\n",
              "\n",
              "    .dataframe thead th {\n",
              "        text-align: right;\n",
              "    }\n",
              "</style>\n",
              "<table border=\"1\" class=\"dataframe\">\n",
              "  <thead>\n",
              "    <tr style=\"text-align: right;\">\n",
              "      <th></th>\n",
              "      <th>X1</th>\n",
              "      <th>X2</th>\n",
              "      <th>label</th>\n",
              "    </tr>\n",
              "  </thead>\n",
              "  <tbody>\n",
              "    <tr>\n",
              "      <th>0</th>\n",
              "      <td>0.754246</td>\n",
              "      <td>0.231481</td>\n",
              "      <td>1</td>\n",
              "    </tr>\n",
              "    <tr>\n",
              "      <th>1</th>\n",
              "      <td>-0.756159</td>\n",
              "      <td>0.153259</td>\n",
              "      <td>1</td>\n",
              "    </tr>\n",
              "    <tr>\n",
              "      <th>2</th>\n",
              "      <td>-0.815392</td>\n",
              "      <td>0.173282</td>\n",
              "      <td>1</td>\n",
              "    </tr>\n",
              "    <tr>\n",
              "      <th>3</th>\n",
              "      <td>-0.393731</td>\n",
              "      <td>0.692883</td>\n",
              "      <td>1</td>\n",
              "    </tr>\n",
              "    <tr>\n",
              "      <th>4</th>\n",
              "      <td>0.442208</td>\n",
              "      <td>-0.896723</td>\n",
              "      <td>0</td>\n",
              "    </tr>\n",
              "  </tbody>\n",
              "</table>\n",
              "</div>\n",
              "    <div class=\"colab-df-buttons\">\n",
              "\n",
              "  <div class=\"colab-df-container\">\n",
              "    <button class=\"colab-df-convert\" onclick=\"convertToInteractive('df-967ede58-eb33-415b-9b19-8fcd7f4c3b40')\"\n",
              "            title=\"Convert this dataframe to an interactive table.\"\n",
              "            style=\"display:none;\">\n",
              "\n",
              "  <svg xmlns=\"http://www.w3.org/2000/svg\" height=\"24px\" viewBox=\"0 -960 960 960\">\n",
              "    <path d=\"M120-120v-720h720v720H120Zm60-500h600v-160H180v160Zm220 220h160v-160H400v160Zm0 220h160v-160H400v160ZM180-400h160v-160H180v160Zm440 0h160v-160H620v160ZM180-180h160v-160H180v160Zm440 0h160v-160H620v160Z\"/>\n",
              "  </svg>\n",
              "    </button>\n",
              "\n",
              "  <style>\n",
              "    .colab-df-container {\n",
              "      display:flex;\n",
              "      gap: 12px;\n",
              "    }\n",
              "\n",
              "    .colab-df-convert {\n",
              "      background-color: #E8F0FE;\n",
              "      border: none;\n",
              "      border-radius: 50%;\n",
              "      cursor: pointer;\n",
              "      display: none;\n",
              "      fill: #1967D2;\n",
              "      height: 32px;\n",
              "      padding: 0 0 0 0;\n",
              "      width: 32px;\n",
              "    }\n",
              "\n",
              "    .colab-df-convert:hover {\n",
              "      background-color: #E2EBFA;\n",
              "      box-shadow: 0px 1px 2px rgba(60, 64, 67, 0.3), 0px 1px 3px 1px rgba(60, 64, 67, 0.15);\n",
              "      fill: #174EA6;\n",
              "    }\n",
              "\n",
              "    .colab-df-buttons div {\n",
              "      margin-bottom: 4px;\n",
              "    }\n",
              "\n",
              "    [theme=dark] .colab-df-convert {\n",
              "      background-color: #3B4455;\n",
              "      fill: #D2E3FC;\n",
              "    }\n",
              "\n",
              "    [theme=dark] .colab-df-convert:hover {\n",
              "      background-color: #434B5C;\n",
              "      box-shadow: 0px 1px 3px 1px rgba(0, 0, 0, 0.15);\n",
              "      filter: drop-shadow(0px 1px 2px rgba(0, 0, 0, 0.3));\n",
              "      fill: #FFFFFF;\n",
              "    }\n",
              "  </style>\n",
              "\n",
              "    <script>\n",
              "      const buttonEl =\n",
              "        document.querySelector('#df-967ede58-eb33-415b-9b19-8fcd7f4c3b40 button.colab-df-convert');\n",
              "      buttonEl.style.display =\n",
              "        google.colab.kernel.accessAllowed ? 'block' : 'none';\n",
              "\n",
              "      async function convertToInteractive(key) {\n",
              "        const element = document.querySelector('#df-967ede58-eb33-415b-9b19-8fcd7f4c3b40');\n",
              "        const dataTable =\n",
              "          await google.colab.kernel.invokeFunction('convertToInteractive',\n",
              "                                                    [key], {});\n",
              "        if (!dataTable) return;\n",
              "\n",
              "        const docLinkHtml = 'Like what you see? Visit the ' +\n",
              "          '<a target=\"_blank\" href=https://colab.research.google.com/notebooks/data_table.ipynb>data table notebook</a>'\n",
              "          + ' to learn more about interactive tables.';\n",
              "        element.innerHTML = '';\n",
              "        dataTable['output_type'] = 'display_data';\n",
              "        await google.colab.output.renderOutput(dataTable, element);\n",
              "        const docLink = document.createElement('div');\n",
              "        docLink.innerHTML = docLinkHtml;\n",
              "        element.appendChild(docLink);\n",
              "      }\n",
              "    </script>\n",
              "  </div>\n",
              "\n",
              "\n",
              "<div id=\"df-0ac6de39-6cc2-4be8-9e0f-717b6e054758\">\n",
              "  <button class=\"colab-df-quickchart\" onclick=\"quickchart('df-0ac6de39-6cc2-4be8-9e0f-717b6e054758')\"\n",
              "            title=\"Suggest charts.\"\n",
              "            style=\"display:none;\">\n",
              "\n",
              "<svg xmlns=\"http://www.w3.org/2000/svg\" height=\"24px\"viewBox=\"0 0 24 24\"\n",
              "     width=\"24px\">\n",
              "    <g>\n",
              "        <path d=\"M19 3H5c-1.1 0-2 .9-2 2v14c0 1.1.9 2 2 2h14c1.1 0 2-.9 2-2V5c0-1.1-.9-2-2-2zM9 17H7v-7h2v7zm4 0h-2V7h2v10zm4 0h-2v-4h2v4z\"/>\n",
              "    </g>\n",
              "</svg>\n",
              "  </button>\n",
              "\n",
              "<style>\n",
              "  .colab-df-quickchart {\n",
              "    background-color: #E8F0FE;\n",
              "    border: none;\n",
              "    border-radius: 50%;\n",
              "    cursor: pointer;\n",
              "    display: none;\n",
              "    fill: #1967D2;\n",
              "    height: 32px;\n",
              "    padding: 0 0 0 0;\n",
              "    width: 32px;\n",
              "  }\n",
              "\n",
              "  .colab-df-quickchart:hover {\n",
              "    background-color: #E2EBFA;\n",
              "    box-shadow: 0px 1px 2px rgba(60, 64, 67, 0.3), 0px 1px 3px 1px rgba(60, 64, 67, 0.15);\n",
              "    fill: #174EA6;\n",
              "  }\n",
              "\n",
              "  [theme=dark] .colab-df-quickchart {\n",
              "    background-color: #3B4455;\n",
              "    fill: #D2E3FC;\n",
              "  }\n",
              "\n",
              "  [theme=dark] .colab-df-quickchart:hover {\n",
              "    background-color: #434B5C;\n",
              "    box-shadow: 0px 1px 3px 1px rgba(0, 0, 0, 0.15);\n",
              "    filter: drop-shadow(0px 1px 2px rgba(0, 0, 0, 0.3));\n",
              "    fill: #FFFFFF;\n",
              "  }\n",
              "</style>\n",
              "\n",
              "  <script>\n",
              "    async function quickchart(key) {\n",
              "      const charts = await google.colab.kernel.invokeFunction(\n",
              "          'suggestCharts', [key], {});\n",
              "    }\n",
              "    (() => {\n",
              "      let quickchartButtonEl =\n",
              "        document.querySelector('#df-0ac6de39-6cc2-4be8-9e0f-717b6e054758 button');\n",
              "      quickchartButtonEl.style.display =\n",
              "        google.colab.kernel.accessAllowed ? 'block' : 'none';\n",
              "    })();\n",
              "  </script>\n",
              "</div>\n",
              "    </div>\n",
              "  </div>\n"
            ]
          },
          "metadata": {},
          "execution_count": 57
        }
      ]
    },
    {
      "cell_type": "code",
      "source": [
        "#Visualizing the data\n",
        "import matplotlib.pyplot as plt"
      ],
      "metadata": {
        "id": "CN280Tl9XJoI"
      },
      "execution_count": 58,
      "outputs": []
    },
    {
      "cell_type": "code",
      "source": [
        "# plt.scatter(circles['X1'],circles['X2'],c=circles['X1'], cmap = plt.cm.RdYlBu)\n",
        "plt.scatter(circles['X1'],circles['X2'],c=y, cmap = plt.cm.RdYlBu)\n",
        "#c=y is the gradient of the output. If it has 0 or 1"
      ],
      "metadata": {
        "colab": {
          "base_uri": "https://localhost:8080/",
          "height": 448
        },
        "id": "L8rKSPbBXaxd",
        "outputId": "620207af-d53e-42a0-da2d-5b30614f1444"
      },
      "execution_count": 59,
      "outputs": [
        {
          "output_type": "execute_result",
          "data": {
            "text/plain": [
              "<matplotlib.collections.PathCollection at 0x7ddc46b55a20>"
            ]
          },
          "metadata": {},
          "execution_count": 59
        },
        {
          "output_type": "display_data",
          "data": {
            "text/plain": [
              "<Figure size 640x480 with 1 Axes>"
            ],
            "image/png": "[encoded data removed]"
          },
          "metadata": {}
        }
      ]
    },
    {
      "cell_type": "code",
      "source": [
        "#given 2 numbers: is it an inner circle or an outter circle\n",
        "\n",
        "\n"
      ],
      "metadata": {
        "id": "00xnhZ9HYE1z"
      },
      "execution_count": 60,
      "outputs": []
    },
    {
      "cell_type": "markdown",
      "source": [
        "# Input and Output shapes"
      ],
      "metadata": {
        "id": "saqRFbhhbPRf"
      }
    },
    {
      "cell_type": "code",
      "source": [
        "X.shape"
      ],
      "metadata": {
        "colab": {
          "base_uri": "https://localhost:8080/"
        },
        "id": "PAVjBY2AbS9T",
        "outputId": "c7cba113-4b60-4f22-9515-846a8f1a7a78"
      },
      "execution_count": 61,
      "outputs": [
        {
          "output_type": "execute_result",
          "data": {
            "text/plain": [
              "(1000, 2)"
            ]
          },
          "metadata": {},
          "execution_count": 61
        }
      ]
    },
    {
      "cell_type": "code",
      "source": [
        "y.shape"
      ],
      "metadata": {
        "colab": {
          "base_uri": "https://localhost:8080/"
        },
        "id": "pJiYpRQ1bUup",
        "outputId": "dde59420-fd41-4331-a335-2f78443d12fa"
      },
      "execution_count": 62,
      "outputs": [
        {
          "output_type": "execute_result",
          "data": {
            "text/plain": [
              "(1000,)"
            ]
          },
          "metadata": {},
          "execution_count": 62
        }
      ]
    },
    {
      "cell_type": "code",
      "source": [
        "#turning into tensors\n"
      ],
      "metadata": {
        "id": "yvZ6TrLgbXD5"
      },
      "execution_count": 63,
      "outputs": []
    },
    {
      "cell_type": "code",
      "source": [
        "X= torch.from_numpy(X).type(torch.float)"
      ],
      "metadata": {
        "id": "_k3v8e3Tbftj"
      },
      "execution_count": 64,
      "outputs": []
    },
    {
      "cell_type": "code",
      "source": [
        "y = torch.from_numpy(y).type(torch.float)"
      ],
      "metadata": {
        "id": "i2ZX4EoOb1jR"
      },
      "execution_count": 65,
      "outputs": []
    },
    {
      "cell_type": "code",
      "source": [
        "type(X)"
      ],
      "metadata": {
        "colab": {
          "base_uri": "https://localhost:8080/"
        },
        "id": "NtitZ1Fsb5Qt",
        "outputId": "0c10f34f-0105-4fc2-f3f1-c54bcdf7e9a3"
      },
      "execution_count": 66,
      "outputs": [
        {
          "output_type": "execute_result",
          "data": {
            "text/plain": [
              "torch.Tensor"
            ]
          },
          "metadata": {},
          "execution_count": 66
        }
      ]
    },
    {
      "cell_type": "code",
      "source": [
        "X.dtype"
      ],
      "metadata": {
        "colab": {
          "base_uri": "https://localhost:8080/"
        },
        "id": "vGrrGCAcb_xG",
        "outputId": "592a2a33-6ae1-489c-bf41-524fe3650797"
      },
      "execution_count": 67,
      "outputs": [
        {
          "output_type": "execute_result",
          "data": {
            "text/plain": [
              "torch.float32"
            ]
          },
          "metadata": {},
          "execution_count": 67
        }
      ]
    },
    {
      "cell_type": "code",
      "source": [
        "#split into train and test using sklearn\n",
        "from sklearn.model_selection import train_test_split"
      ],
      "metadata": {
        "id": "AQC7ngZ-cQxA"
      },
      "execution_count": 68,
      "outputs": []
    },
    {
      "cell_type": "code",
      "source": [
        "X_train,X_test,y_train,y_test=train_test_split(X,y,test_size=0.2,random_state=42)"
      ],
      "metadata": {
        "id": "PjLUJicQcd3D"
      },
      "execution_count": 69,
      "outputs": []
    },
    {
      "cell_type": "code",
      "source": [
        "X_train.shape,X_test.shape,y_train.shape,y_test.shape"
      ],
      "metadata": {
        "colab": {
          "base_uri": "https://localhost:8080/"
        },
        "id": "TJcNImP0c8ji",
        "outputId": "0ecbe27a-1646-4d25-8c8f-3dd7e82de76f"
      },
      "execution_count": 70,
      "outputs": [
        {
          "output_type": "execute_result",
          "data": {
            "text/plain": [
              "(torch.Size([800, 2]),\n",
              " torch.Size([200, 2]),\n",
              " torch.Size([800]),\n",
              " torch.Size([200]))"
            ]
          },
          "metadata": {},
          "execution_count": 70
        }
      ]
    },
    {
      "cell_type": "markdown",
      "source": [
        "#Building the model"
      ],
      "metadata": {
        "id": "Dv2BfW8ZdEfd"
      }
    },
    {
      "cell_type": "code",
      "source": [
        "from torch import nn"
      ],
      "metadata": {
        "id": "1IBM4XOrdQ98"
      },
      "execution_count": 71,
      "outputs": []
    },
    {
      "cell_type": "code",
      "source": [
        "X_train"
      ],
      "metadata": {
        "colab": {
          "base_uri": "https://localhost:8080/"
        },
        "id": "eUT3kP1PdUaj",
        "outputId": "95db434a-b308-4c18-e68f-93068e5abb5f"
      },
      "execution_count": 72,
      "outputs": [
        {
          "output_type": "execute_result",
          "data": {
            "text/plain": [
              "tensor([[ 0.6579, -0.4651],\n",
              "        [ 0.6319, -0.7347],\n",
              "        [-1.0086, -0.1240],\n",
              "        ...,\n",
              "        [ 0.0157, -1.0300],\n",
              "        [ 1.0110,  0.1680],\n",
              "        [ 0.5578, -0.5709]])"
            ]
          },
          "metadata": {},
          "execution_count": 72
        }
      ]
    },
    {
      "cell_type": "code",
      "source": [
        "\n",
        "#build the model\n",
        "\n",
        "class circle_classification(nn.Module):\n",
        "  def __init__(self):\n",
        "    super().__init__()\n",
        "\n",
        "    self.linear_layer_1 = nn.Linear(in_features=2,out_features=5) #5-hidden layers\n",
        "    self.linear_layer_2 = nn.Linear(in_features=5,out_features=1) #1 - output layer\n",
        "\n",
        "  def forward(self,x):\n",
        "    return self.linear_layer_2(self.linear_layer_1(x))\n",
        "    #x-->layer1 --> layer 2"
      ],
      "metadata": {
        "id": "uhtF86ERdY_b"
      },
      "execution_count": 73,
      "outputs": []
    },
    {
      "cell_type": "code",
      "source": [
        "model_0 = circle_classification().to(device)"
      ],
      "metadata": {
        "id": "ng_RTQwne8dq"
      },
      "execution_count": 74,
      "outputs": []
    },
    {
      "cell_type": "code",
      "source": [
        "next(model_0.parameters()).device"
      ],
      "metadata": {
        "colab": {
          "base_uri": "https://localhost:8080/"
        },
        "id": "6NXK03eYfFg8",
        "outputId": "479b143e-6fda-4b27-d8c6-20193b7e958b"
      },
      "execution_count": 75,
      "outputs": [
        {
          "output_type": "execute_result",
          "data": {
            "text/plain": [
              "device(type='cpu')"
            ]
          },
          "metadata": {},
          "execution_count": 75
        }
      ]
    },
    {
      "cell_type": "code",
      "source": [
        "model_0.state_dict()"
      ],
      "metadata": {
        "colab": {
          "base_uri": "https://localhost:8080/"
        },
        "id": "PwRGy5cYi33c",
        "outputId": "3b0ca948-0154-45ea-829f-e59c5cb1a5ba"
      },
      "execution_count": 76,
      "outputs": [
        {
          "output_type": "execute_result",
          "data": {
            "text/plain": [
              "OrderedDict([('linear_layer_1.weight',\n",
              "              tensor([[-0.0829, -0.2872],\n",
              "                      [ 0.4691, -0.5582],\n",
              "                      [-0.3260, -0.1997],\n",
              "                      [-0.4252,  0.0667],\n",
              "                      [-0.6984,  0.6386]])),\n",
              "             ('linear_layer_1.bias',\n",
              "              tensor([-0.6007,  0.5459,  0.1177, -0.2296,  0.4370])),\n",
              "             ('linear_layer_2.weight',\n",
              "              tensor([[ 0.0697,  0.3613,  0.0489, -0.1410,  0.1202]])),\n",
              "             ('linear_layer_2.bias', tensor([-0.1213]))])"
            ]
          },
          "metadata": {},
          "execution_count": 76
        }
      ]
    },
    {
      "cell_type": "markdown",
      "source": [
        "#Building the model using nn.sequential instead of nn.moduule"
      ],
      "metadata": {
        "id": "3-2eFJ94xhFR"
      }
    },
    {
      "cell_type": "code",
      "source": [
        "from pandas.core.generic import RandomState\n",
        "\n",
        "model_1 = nn.Sequential(\n",
        "      nn.Linear(in_features=2,out_features=5),\n",
        "      nn.Linear(in_features=5,out_features=1)\n",
        ").to(device)"
      ],
      "metadata": {
        "id": "fuQ-RrfHxpCt"
      },
      "execution_count": 77,
      "outputs": []
    },
    {
      "cell_type": "code",
      "source": [
        "model_1.state_dict()"
      ],
      "metadata": {
        "colab": {
          "base_uri": "https://localhost:8080/"
        },
        "id": "H-SpqXAVyDHr",
        "outputId": "586154a2-ea8f-4a2b-bcef-2af29edd2e62"
      },
      "execution_count": 78,
      "outputs": [
        {
          "output_type": "execute_result",
          "data": {
            "text/plain": [
              "OrderedDict([('0.weight',\n",
              "              tensor([[ 0.2976,  0.6313],\n",
              "                      [ 0.4087, -0.3091],\n",
              "                      [ 0.4082,  0.1265],\n",
              "                      [ 0.3591, -0.4310],\n",
              "                      [-0.7000, -0.2732]])),\n",
              "             ('0.bias', tensor([-0.5424,  0.5802,  0.2037,  0.2929,  0.2236])),\n",
              "             ('1.weight',\n",
              "              tensor([[-0.0078,  0.3500, -0.3178,  0.0282, -0.3052]])),\n",
              "             ('1.bias', tensor([0.1379]))])"
            ]
          },
          "metadata": {},
          "execution_count": 78
        }
      ]
    },
    {
      "cell_type": "markdown",
      "source": [
        "\n",
        "# Loss and optimizer:\n"
      ],
      "metadata": {
        "id": "g3GuLisui5yP"
      }
    },
    {
      "cell_type": "code",
      "source": [
        "# Binary or categorical cross entropy is a usual loss functions."
      ],
      "metadata": {
        "id": "gLxIDtQY-gfY"
      },
      "execution_count": 79,
      "outputs": []
    },
    {
      "cell_type": "code",
      "source": [
        "loss_function = torch.nn.BCEWithLogitsLoss()\n",
        "#more numerically stable"
      ],
      "metadata": {
        "id": "1XWOfLAZ-rlj"
      },
      "execution_count": 80,
      "outputs": []
    },
    {
      "cell_type": "markdown",
      "source": [
        "WE can also use BCEloss() but this requires the input to have already passed through the sigmoid activation function."
      ],
      "metadata": {
        "id": "ajGTfqPu_RhM"
      }
    },
    {
      "cell_type": "code",
      "source": [
        "optimizer = torch.optim.SGD(params=model_1.parameters(),lr =0.1)"
      ],
      "metadata": {
        "id": "bP8XDzw6_9JA"
      },
      "execution_count": 81,
      "outputs": []
    },
    {
      "cell_type": "code",
      "source": [
        "\n",
        "# accuracy function\n",
        "def accuracy_fn(y_true, y_pred):\n",
        "    correct = torch.eq(y_true, y_pred).sum().item() # torch.eq() calculates where two tensors are equal\n",
        "    acc = (correct / len(y_pred)) * 100\n",
        "    return acc"
      ],
      "metadata": {
        "id": "f0dU71eiAMRW"
      },
      "execution_count": 82,
      "outputs": []
    },
    {
      "cell_type": "code",
      "source": [
        "#Train:\n",
        "\n",
        "\n",
        "#forward pass\n",
        "#loss\n",
        "#optimizer-zero-grad\n",
        "#loss backward\n",
        "#optimizer step\n"
      ],
      "metadata": {
        "id": "-iSXFVN5B423"
      },
      "execution_count": 83,
      "outputs": []
    },
    {
      "cell_type": "code",
      "source": [
        "#raw output from our model -->logits --> prediction prob---> prediction labels\n",
        "\n",
        "# logits ----> sidmoid(Binary) ---> prediction probabilities\n",
        "              #softmax(multiclass)\n",
        "\n",
        "#Then you can do argmax or roundit"
      ],
      "metadata": {
        "id": "eVQT3UWaCZPV"
      },
      "execution_count": 84,
      "outputs": []
    },
    {
      "cell_type": "markdown",
      "source": [
        "Remember: turn model into train mode when we want to train and turn it into eval mode when we want to test it. This will stop tracking the gradient descent"
      ],
      "metadata": {
        "id": "uII6eKKpDGQC"
      }
    },
    {
      "cell_type": "code",
      "source": [
        "torch.manual_seed(42)\n",
        "torch.cuda.manual_seed(42)"
      ],
      "metadata": {
        "id": "UxCYI55xfWuc"
      },
      "execution_count": 85,
      "outputs": []
    },
    {
      "cell_type": "code",
      "source": [
        "epoch =100\n",
        "\n",
        "X_train, y_train = X_train.to(device), y_train.to(device)\n",
        "X_test, y_test = X_test.to(device), y_test.to(device)\n"
      ],
      "metadata": {
        "id": "7CCgaXuFfhad"
      },
      "execution_count": 86,
      "outputs": []
    },
    {
      "cell_type": "code",
      "source": [],
      "metadata": {
        "id": "8HjPbWCriMzi"
      },
      "execution_count": 86,
      "outputs": []
    },
    {
      "cell_type": "code",
      "source": [
        "for epoch in range(epoch):\n",
        "  model_1.train()\n",
        "\n",
        "  y_logits = model_1(X_train).squeeze()\n",
        "\n",
        "  #pass logits through sigmoid and then round -- > o.5 cutoff\n",
        "\n",
        "  y_pred=torch.round(torch.sigmoid(y_logits))\n",
        "\n",
        "  #accuracy\n",
        "  acc = accuracy_fn(y_true=y_train,y_pred=y_pred)\n",
        "\n",
        "\n",
        "  #loss:\n",
        "\n",
        "  #here we pass y_logits because of the kind of loss function we use. We use BCEwithlogitloss which takes in the logits and automatically applies the sigmoid to i\n",
        "  loss =loss_function(y_logits,y_train)\n",
        "\n",
        "   #IF WE WERE USE BCE LOSS\n",
        "   #loss=loss(torch.sigmoid(y_logits),y_train). -> cuz we need to pass the predicted probabilities\n",
        "\n",
        "   #optimize zero grad\n",
        "  optimizer.zero_grad()\n",
        "\n",
        "  #backpropagation\n",
        "  loss.backward()\n",
        "\n",
        "  #optimizer step\n",
        "  optimizer.step()\n",
        "\n",
        "  #Test eval\n",
        "  model_1.eval()\n",
        "\n",
        "  with torch.inference_mode():\n",
        "        # 1. Forward pass\n",
        "        test_logits = model_1(X_test).squeeze()\n",
        "        test_pred = torch.round(torch.sigmoid(test_logits))\n",
        "        # 2. Caculate loss/accuracy\n",
        "        test_loss = loss_function(test_logits,\n",
        "                            y_test)\n",
        "        test_acc = accuracy_fn(y_true=y_test,\n",
        "                               y_pred=test_pred)\n",
        "\n",
        "\n",
        "  if epoch % 10 == 0:\n",
        "        print(f\"Epoch: {epoch} | Loss: {loss:.5f}, Accuracy: {acc:.2f}% | Test loss: {test_loss:.5f}, Test acc: {test_acc:.2f}%\")\n",
        "\n",
        "\n"
      ],
      "metadata": {
        "colab": {
          "base_uri": "https://localhost:8080/"
        },
        "id": "2LnR4no9fnqU",
        "outputId": "c1c9e11e-3453-4bd4-f04e-292e3faad27a"
      },
      "execution_count": 87,
      "outputs": [
        {
          "output_type": "stream",
          "name": "stdout",
          "text": [
            "Epoch: 0 | Loss: 0.70234, Accuracy: 57.38% | Test loss: 0.70194, Test acc: 57.00%\n",
            "Epoch: 10 | Loss: 0.69697, Accuracy: 52.75% | Test loss: 0.69803, Test acc: 54.00%\n",
            "Epoch: 20 | Loss: 0.69505, Accuracy: 51.62% | Test loss: 0.69667, Test acc: 51.00%\n",
            "Epoch: 30 | Loss: 0.69427, Accuracy: 51.12% | Test loss: 0.69607, Test acc: 51.00%\n",
            "Epoch: 40 | Loss: 0.69390, Accuracy: 50.38% | Test loss: 0.69572, Test acc: 49.50%\n",
            "Epoch: 50 | Loss: 0.69367, Accuracy: 50.50% | Test loss: 0.69547, Test acc: 49.00%\n",
            "Epoch: 60 | Loss: 0.69352, Accuracy: 50.38% | Test loss: 0.69526, Test acc: 49.00%\n",
            "Epoch: 70 | Loss: 0.69341, Accuracy: 50.50% | Test loss: 0.69509, Test acc: 49.00%\n",
            "Epoch: 80 | Loss: 0.69333, Accuracy: 50.38% | Test loss: 0.69495, Test acc: 49.00%\n",
            "Epoch: 90 | Loss: 0.69326, Accuracy: 50.25% | Test loss: 0.69483, Test acc: 48.50%\n"
          ]
        }
      ]
    },
    {
      "cell_type": "code",
      "source": [
        "#ITS NOT TRAINING VERY WELL.\n",
        "\n",
        "circles.label.value_counts()"
      ],
      "metadata": {
        "colab": {
          "base_uri": "https://localhost:8080/"
        },
        "id": "kIYjqu3uh63z",
        "outputId": "3870c157-b0f6-4dcc-a5fc-6b111e7d8ebf"
      },
      "execution_count": 89,
      "outputs": [
        {
          "output_type": "execute_result",
          "data": {
            "text/plain": [
              "1    500\n",
              "0    500\n",
              "Name: label, dtype: int64"
            ]
          },
          "metadata": {},
          "execution_count": 89
        }
      ]
    },
    {
      "cell_type": "code",
      "source": [
        "#visualize predictions\n",
        "\n",
        "import requests\n",
        "from pathlib import Path\n",
        "\n",
        "# Download helper functions from Learn PyTorch repo (if not already downloaded)\n",
        "if Path(\"helper_functions.py\").is_file():\n",
        "  print(\"helper_functions.py already exists, skipping download\")\n",
        "else:\n",
        "  print(\"Downloading helper_functions.py\")\n",
        "  request = requests.get(\"https://raw.githubusercontent.com/mrdbourke/pytorch-deep-learning/main/helper_functions.py\")\n",
        "  with open(\"helper_functions.py\", \"wb\") as f:\n",
        "    f.write(request.content)\n",
        "\n"
      ],
      "metadata": {
        "colab": {
          "base_uri": "https://localhost:8080/"
        },
        "id": "Y9mNiJ7qjFfi",
        "outputId": "a7d3971f-45ce-43a4-cb54-dc55103b3ffd"
      },
      "execution_count": 90,
      "outputs": [
        {
          "output_type": "stream",
          "name": "stdout",
          "text": [
            "Downloading helper_functions.py\n"
          ]
        }
      ]
    },
    {
      "cell_type": "code",
      "source": [
        "from helper_functions import plot_predictions, plot_decision_boundary"
      ],
      "metadata": {
        "id": "Ki-4QX0Aj4Tm"
      },
      "execution_count": 91,
      "outputs": []
    },
    {
      "cell_type": "code",
      "source": [
        "# Plot decision boundaries for training and test sets\n",
        "plt.figure(figsize=(12, 6))\n",
        "plt.subplot(1, 2, 1)\n",
        "plt.title(\"Train\")\n",
        "plot_decision_boundary(model_1, X_train, y_train)\n",
        "plt.subplot(1, 2, 2)\n",
        "plt.title(\"Test\")\n",
        "plot_decision_boundary(model_1, X_test, y_test)"
      ],
      "metadata": {
        "colab": {
          "base_uri": "https://localhost:8080/",
          "height": 545
        },
        "id": "8Zxeef0NkAn2",
        "outputId": "b015e3fe-0b83-4967-b7d9-7f821241d81d"
      },
      "execution_count": 92,
      "outputs": [
        {
          "output_type": "display_data",
          "data": {
            "text/plain": [
              "<Figure size 1200x600 with 2 Axes>"
            ],
            "image/png": "[encoded data removed]"
          },
          "metadata": {}
        }
      ]
    },
    {
      "cell_type": "code",
      "source": [
        "#our model is building a straight line as a decision boundary rather than a circle as the boundary."
      ],
      "metadata": {
        "id": "hTHUNGqxkM7D"
      },
      "execution_count": null,
      "outputs": []
    },
    {
      "cell_type": "markdown",
      "source": [
        "WE have created a linear model. lol"
      ],
      "metadata": {
        "id": "3u4_lauylgyb"
      }
    },
    {
      "cell_type": "code",
      "source": [
        "#So lets modify using the RElu activation fucntion:\n",
        "\n",
        "# Build model with non-linear activation function\n",
        "from torch import nn\n",
        "class Circle_classificationV2(nn.Module):\n",
        "    def __init__(self):\n",
        "        super().__init__()\n",
        "        self.layer_1 = nn.Linear(in_features=2, out_features=10)\n",
        "        self.layer_2 = nn.Linear(in_features=10, out_features=10)\n",
        "        self.layer_3 = nn.Linear(in_features=10, out_features=1)\n",
        "        self.relu = nn.ReLU() # <- add in ReLU activation function\n",
        "        # Can also put sigmoid in the model\n",
        "        # This would mean you don't need to use it on the predictions\n",
        "        # self.sigmoid = nn.Sigmoid()\n",
        "\n",
        "    def forward(self, x):\n",
        "      # Intersperse the ReLU activation function between layers\n",
        "\n",
        "      #between each layer is a RElu activation function.\n",
        "       return self.layer_3(self.relu(self.layer_2(self.relu(self.layer_1(x)))))\n",
        "\n",
        "model_2 = Circle_classificationV2().to(device)\n",
        "print(model_2)"
      ],
      "metadata": {
        "colab": {
          "base_uri": "https://localhost:8080/"
        },
        "id": "rqUJKuYJlkhd",
        "outputId": "4e7fde77-4c21-460b-a034-c6d564c9a748"
      },
      "execution_count": 93,
      "outputs": [
        {
          "output_type": "stream",
          "name": "stdout",
          "text": [
            "Circle_classificationV2(\n",
            "  (layer_1): Linear(in_features=2, out_features=10, bias=True)\n",
            "  (layer_2): Linear(in_features=10, out_features=10, bias=True)\n",
            "  (layer_3): Linear(in_features=10, out_features=1, bias=True)\n",
            "  (relu): ReLU()\n",
            ")\n"
          ]
        }
      ]
    },
    {
      "cell_type": "code",
      "source": [
        "#or use nn.sequential()"
      ],
      "metadata": {
        "id": "AXamQ6qIptmC"
      },
      "execution_count": null,
      "outputs": []
    },
    {
      "cell_type": "code",
      "source": [
        "model_3 = nn.Sequential(\n",
        "    nn.Linear(in_features=2,out_features=10),\n",
        "    nn.ReLU(),\n",
        "    nn.Linear(in_features=10,out_features=10),\n",
        "    nn.ReLU(),\n",
        "    nn.Linear(in_features=10,out_features=1),\n",
        "\n",
        ").to(device)"
      ],
      "metadata": {
        "id": "z23HRQbGpJex"
      },
      "execution_count": 96,
      "outputs": []
    },
    {
      "cell_type": "code",
      "source": [
        "model_3.state_dict()"
      ],
      "metadata": {
        "colab": {
          "base_uri": "https://localhost:8080/"
        },
        "id": "mo3NtLCepl7a",
        "outputId": "902d8fbe-3904-4f46-fc66-bab412dfa619"
      },
      "execution_count": 97,
      "outputs": [
        {
          "output_type": "execute_result",
          "data": {
            "text/plain": [
              "OrderedDict([('0.weight',\n",
              "              tensor([[-0.3041, -0.0775],\n",
              "                      [-0.5293,  0.6441],\n",
              "                      [-0.5190,  0.3779],\n",
              "                      [ 0.2485,  0.2298],\n",
              "                      [-0.3823,  0.6427],\n",
              "                      [ 0.1554,  0.0910],\n",
              "                      [-0.6231,  0.2968],\n",
              "                      [-0.1061, -0.3239],\n",
              "                      [ 0.6074,  0.1576],\n",
              "                      [-0.3912, -0.3579]])),\n",
              "             ('0.bias',\n",
              "              tensor([-0.0338,  0.3948, -0.1807, -0.4035, -0.2421, -0.5283,  0.2522,  0.5473,\n",
              "                      -0.6657,  0.1642])),\n",
              "             ('2.weight',\n",
              "              tensor([[ 0.1634,  0.0573, -0.1126,  0.1651,  0.1662,  0.1182, -0.0556, -0.0837,\n",
              "                        0.0338, -0.0559],\n",
              "                      [-0.0942,  0.2021,  0.2718, -0.0313, -0.0708,  0.0046, -0.0189,  0.0760,\n",
              "                        0.0886, -0.2872],\n",
              "                      [-0.1167,  0.2663,  0.1232, -0.0157, -0.1907, -0.1935, -0.2833, -0.1031,\n",
              "                        0.1068,  0.2016],\n",
              "                      [ 0.1460, -0.2795, -0.1902, -0.0499,  0.3059,  0.0457, -0.0819,  0.1308,\n",
              "                       -0.1204, -0.2047],\n",
              "                      [ 0.2308, -0.1438, -0.0634, -0.3146,  0.2116,  0.2396,  0.1152, -0.2205,\n",
              "                       -0.3121, -0.2568],\n",
              "                      [ 0.2358,  0.1518,  0.2661,  0.1657,  0.0800, -0.0031, -0.2405, -0.2709,\n",
              "                       -0.2958,  0.1295],\n",
              "                      [-0.1553, -0.0636, -0.1820, -0.0576, -0.2226, -0.2066,  0.1049, -0.0940,\n",
              "                        0.1952, -0.1014],\n",
              "                      [-0.2320, -0.0558, -0.1533, -0.0967, -0.3010,  0.1769, -0.2202,  0.1589,\n",
              "                        0.1435,  0.2259],\n",
              "                      [-0.2426,  0.2274, -0.1495,  0.1173,  0.2970, -0.0446, -0.0024, -0.0728,\n",
              "                       -0.2640,  0.1518],\n",
              "                      [-0.3139,  0.1963,  0.2366,  0.2991, -0.0746, -0.2598,  0.0711,  0.1747,\n",
              "                       -0.3147, -0.0718]])),\n",
              "             ('2.bias',\n",
              "              tensor([-0.1896, -0.0277, -0.1557, -0.1293, -0.1004, -0.3005,  0.2595,  0.2651,\n",
              "                      -0.0496, -0.0360])),\n",
              "             ('4.weight',\n",
              "              tensor([[-0.1291, -0.2856, -0.3077,  0.1175, -0.1736, -0.2033, -0.0247, -0.1053,\n",
              "                       -0.1023,  0.0102]])),\n",
              "             ('4.bias', tensor([-0.0671]))])"
            ]
          },
          "metadata": {},
          "execution_count": 97
        }
      ]
    },
    {
      "cell_type": "code",
      "source": [
        "#continuing with model 2"
      ],
      "metadata": {
        "id": "UpfwusRNpxyO"
      },
      "execution_count": 98,
      "outputs": []
    },
    {
      "cell_type": "code",
      "source": [
        "# Setup loss and optimizer\n",
        "loss_fn = nn.BCEWithLogitsLoss()\n",
        "optimizer = torch.optim.SGD(model_2.parameters(), lr=0.1)"
      ],
      "metadata": {
        "id": "z2a56ExspEC6"
      },
      "execution_count": 99,
      "outputs": []
    },
    {
      "cell_type": "code",
      "source": [
        "# Fit the model\n",
        "torch.manual_seed(42)\n",
        "epochs = 1000\n",
        "\n",
        "# Put all data on target device\n",
        "X_train, y_train = X_train.to(device), y_train.to(device)\n",
        "X_test, y_test = X_test.to(device), y_test.to(device)\n",
        "\n",
        "for epoch in range(epochs):\n",
        "    # 1. Forward pass\n",
        "    y_logits = model_2(X_train).squeeze()\n",
        "    y_pred = torch.round(torch.sigmoid(y_logits)) # logits -> prediction probabilities -> prediction labels\n",
        "\n",
        "    # 2. Calculate loss and accuracy\n",
        "    loss = loss_fn(y_logits, y_train) # BCEWithLogitsLoss calculates loss using logits\n",
        "    acc = accuracy_fn(y_true=y_train,\n",
        "                      y_pred=y_pred)\n",
        "\n",
        "    # 3. Optimizer zero grad\n",
        "    optimizer.zero_grad()\n",
        "\n",
        "    # 4. Loss backward\n",
        "    loss.backward()\n",
        "\n",
        "    # 5. Optimizer step\n",
        "    optimizer.step()\n",
        "\n",
        "    ### Testing\n",
        "    model_2.eval()\n",
        "    with torch.inference_mode():\n",
        "      # 1. Forward pass\n",
        "      test_logits = model_2(X_test).squeeze()\n",
        "      test_pred = torch.round(torch.sigmoid(test_logits)) # logits -> prediction probabilities -> prediction labels\n",
        "      # 2. Calcuate loss and accuracy\n",
        "      test_loss = loss_fn(test_logits, y_test)\n",
        "      test_acc = accuracy_fn(y_true=y_test,\n",
        "                             y_pred=test_pred)\n",
        "\n",
        "    # Print out what's happening\n",
        "    if epoch % 100 == 0:\n",
        "        print(f\"Epoch: {epoch} | Loss: {loss:.5f}, Accuracy: {acc:.2f}% | Test Loss: {test_loss:.5f}, Test Accuracy: {test_acc:.2f}%\")\n"
      ],
      "metadata": {
        "colab": {
          "base_uri": "https://localhost:8080/"
        },
        "id": "nkUbOC1_pFvQ",
        "outputId": "cd0329df-22a8-4f64-ba91-2684dbf16c7b"
      },
      "execution_count": 100,
      "outputs": [
        {
          "output_type": "stream",
          "name": "stdout",
          "text": [
            "Epoch: 0 | Loss: 0.69295, Accuracy: 50.00% | Test Loss: 0.69319, Test Accuracy: 50.00%\n",
            "Epoch: 100 | Loss: 0.69115, Accuracy: 52.88% | Test Loss: 0.69102, Test Accuracy: 52.50%\n",
            "Epoch: 200 | Loss: 0.68977, Accuracy: 53.37% | Test Loss: 0.68940, Test Accuracy: 55.00%\n",
            "Epoch: 300 | Loss: 0.68795, Accuracy: 53.00% | Test Loss: 0.68723, Test Accuracy: 56.00%\n",
            "Epoch: 400 | Loss: 0.68517, Accuracy: 52.75% | Test Loss: 0.68411, Test Accuracy: 56.50%\n",
            "Epoch: 500 | Loss: 0.68102, Accuracy: 52.75% | Test Loss: 0.67941, Test Accuracy: 56.50%\n",
            "Epoch: 600 | Loss: 0.67515, Accuracy: 54.50% | Test Loss: 0.67285, Test Accuracy: 56.00%\n",
            "Epoch: 700 | Loss: 0.66659, Accuracy: 58.38% | Test Loss: 0.66322, Test Accuracy: 59.00%\n",
            "Epoch: 800 | Loss: 0.65160, Accuracy: 64.00% | Test Loss: 0.64757, Test Accuracy: 67.50%\n",
            "Epoch: 900 | Loss: 0.62362, Accuracy: 74.00% | Test Loss: 0.62145, Test Accuracy: 79.00%\n"
          ]
        }
      ]
    },
    {
      "cell_type": "code",
      "source": [],
      "metadata": {
        "id": "NTXy5XDdqIFy"
      },
      "execution_count": null,
      "outputs": []
    }
  ]
}